{
 "cells": [
  {
   "cell_type": "code",
   "execution_count": 21,
   "id": "c63940fc",
   "metadata": {},
   "outputs": [],
   "source": [
    "# Q11.Write a python program to find the factorial of a number.\n",
    "# Factorial of a non-negative integer is multiplication of all integers smaller than or equal to n. \n",
    "# For eg Factorial of 6= 6*5*4*3*2*1 which is 720. In this way we will find out factorial of a number.\n"
   ]
  },
  {
   "cell_type": "code",
   "execution_count": 23,
   "id": "26a82e32",
   "metadata": {},
   "outputs": [
    {
     "name": "stdout",
     "output_type": "stream",
     "text": [
      "Enter the number5\n",
      "Factorial of a number is 120\n"
     ]
    }
   ],
   "source": [
    "def factorial(n):\n",
    "    if n==0:\n",
    "        return 1\n",
    "    return n* factorial(n-1)\n",
    "n= int(input(\"Enter the number\"))\n",
    "print(\"Factorial of a number is\",factorial(n))\n",
    "    \n",
    "   \n"
   ]
  },
  {
   "cell_type": "code",
   "execution_count": 7,
   "id": "0f0bce77",
   "metadata": {},
   "outputs": [
    {
     "name": "stdout",
     "output_type": "stream",
     "text": [
      "enter a number4\n",
      "The number is composite\n",
      "2 times 2 is 4\n"
     ]
    }
   ],
   "source": [
    "#Q12.Write a python program to find whether a number is prime or composite.\n",
    "num = int(input(\"enter a number\")) # taking input from user\n",
    "if num>1: # prime numbers are greater than 1\n",
    "    for i in range(2,num):# check for factors\n",
    "        if(num%i)==0: \n",
    "            print(\"The number is composite\")\n",
    "            print(i,\"times\",num//i,\"is\",num)\n",
    "            break\n",
    "            \n",
    "        else:\n",
    "            print(\"The number is prime\")\n",
    "else:\n",
    "    print(num,\"is not a prime number\")\n",
    "    "
   ]
  },
  {
   "cell_type": "code",
   "execution_count": 9,
   "id": "ba37b821",
   "metadata": {},
   "outputs": [
    {
     "name": "stdout",
     "output_type": "stream",
     "text": [
      "enter the stringmom\n",
      "String is palindrome\n"
     ]
    }
   ],
   "source": [
    "#Q13. Write a python program to check whether a given string is palindrome or not.\n",
    "def isPalindrome(s):\n",
    "    return s == s[::-1]\n",
    "s= input(\"enter the string\")\n",
    "answer= isPalindrome(s)\n",
    "if answer:\n",
    "    print(\"String is palindrome\")\n",
    "else:\n",
    "    print(\"String is not palindrome\")\n"
   ]
  },
  {
   "cell_type": "code",
   "execution_count": 10,
   "id": "f6b91de4",
   "metadata": {},
   "outputs": [
    {
     "name": "stdout",
     "output_type": "stream",
     "text": [
      "enter the perpendicular4\n",
      "enter the base of triangle5\n",
      "The area of right angled triangle 10.0\n"
     ]
    }
   ],
   "source": [
    "#Q14 Write a Python program to get the third side of right-angled triangle from two given sides.\n",
    "a= int(input(\"enter the perpendicular\"))# enter the first side triangle\n",
    "b= int(input(\"enter the base of triangle\"))# enter base of triangle\n",
    "c= 0.5 *a *b # area of right angled triangle using formula(1/2 * base * perpendicular)\n",
    "print(\"The area of right angled triangle\",c)"
   ]
  },
  {
   "cell_type": "code",
   "execution_count": null,
   "id": "d2852561",
   "metadata": {},
   "outputs": [],
   "source": [
    "#Q15 Write a python program to print the frequency of each of the characters present in a given string.\n"
   ]
  },
  {
   "cell_type": "code",
   "execution_count": 13,
   "id": "7c8d8d0e",
   "metadata": {},
   "outputs": [
    {
     "name": "stdout",
     "output_type": "stream",
     "text": [
      "enter the stringmom\n",
      "The frequency of each of the charcters:{'m': 2, 'o': 1}\n"
     ]
    }
   ],
   "source": [
    "x = input(\"enter the string\")\n",
    "\n",
    "  \n",
    "# using naive method to get count \n",
    "# of each element in string \n",
    "freq_charc = {}\n",
    "  \n",
    "for i in x:\n",
    "    if i in freq_charc:\n",
    "        freq_charc[i] += 1\n",
    "    else:\n",
    "        freq_charc[i] = 1\n",
    "print(\"The frequency of each of the charcters:\" +str(freq_charc))"
   ]
  },
  {
   "cell_type": "code",
   "execution_count": null,
   "id": "c6b8c456",
   "metadata": {},
   "outputs": [],
   "source": []
  },
  {
   "cell_type": "code",
   "execution_count": null,
   "id": "ca075bda",
   "metadata": {},
   "outputs": [],
   "source": []
  },
  {
   "cell_type": "code",
   "execution_count": null,
   "id": "81dda6fc",
   "metadata": {},
   "outputs": [],
   "source": []
  },
  {
   "cell_type": "code",
   "execution_count": null,
   "id": "657d524c",
   "metadata": {},
   "outputs": [],
   "source": []
  }
 ],
 "metadata": {
  "kernelspec": {
   "display_name": "Python 3",
   "language": "python",
   "name": "python3"
  },
  "language_info": {
   "codemirror_mode": {
    "name": "ipython",
    "version": 3
   },
   "file_extension": ".py",
   "mimetype": "text/x-python",
   "name": "python",
   "nbconvert_exporter": "python",
   "pygments_lexer": "ipython3",
   "version": "3.8.8"
  }
 },
 "nbformat": 4,
 "nbformat_minor": 5
}
