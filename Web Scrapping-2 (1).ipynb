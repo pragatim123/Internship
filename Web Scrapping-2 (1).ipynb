{
 "cells": [
  {
   "cell_type": "code",
   "execution_count": 2,
   "id": "a7e77679",
   "metadata": {},
   "outputs": [
    {
     "name": "stdout",
     "output_type": "stream",
     "text": [
      "Requirement already satisfied: selenium in /opt/anaconda3/lib/python3.8/site-packages (4.0.0)\n",
      "Requirement already satisfied: urllib3[secure]~=1.26 in /opt/anaconda3/lib/python3.8/site-packages (from selenium) (1.26.4)\n",
      "Requirement already satisfied: trio~=0.17 in /opt/anaconda3/lib/python3.8/site-packages (from selenium) (0.19.0)\n",
      "Requirement already satisfied: trio-websocket~=0.9 in /opt/anaconda3/lib/python3.8/site-packages (from selenium) (0.9.2)\n",
      "Requirement already satisfied: sniffio in /opt/anaconda3/lib/python3.8/site-packages (from trio~=0.17->selenium) (1.2.0)\n",
      "Requirement already satisfied: outcome in /opt/anaconda3/lib/python3.8/site-packages (from trio~=0.17->selenium) (1.1.0)\n",
      "Requirement already satisfied: attrs>=19.2.0 in /opt/anaconda3/lib/python3.8/site-packages (from trio~=0.17->selenium) (20.3.0)\n",
      "Requirement already satisfied: idna in /opt/anaconda3/lib/python3.8/site-packages (from trio~=0.17->selenium) (2.10)\n",
      "Requirement already satisfied: async-generator>=1.9 in /opt/anaconda3/lib/python3.8/site-packages (from trio~=0.17->selenium) (1.10)\n",
      "Requirement already satisfied: sortedcontainers in /opt/anaconda3/lib/python3.8/site-packages (from trio~=0.17->selenium) (2.3.0)\n",
      "Requirement already satisfied: wsproto>=0.14 in /opt/anaconda3/lib/python3.8/site-packages (from trio-websocket~=0.9->selenium) (1.0.0)\n",
      "Requirement already satisfied: cryptography>=1.3.4 in /opt/anaconda3/lib/python3.8/site-packages (from urllib3[secure]~=1.26->selenium) (3.4.7)\n",
      "Requirement already satisfied: pyOpenSSL>=0.14 in /opt/anaconda3/lib/python3.8/site-packages (from urllib3[secure]~=1.26->selenium) (20.0.1)\n",
      "Requirement already satisfied: certifi in /opt/anaconda3/lib/python3.8/site-packages (from urllib3[secure]~=1.26->selenium) (2020.12.5)\n",
      "Requirement already satisfied: cffi>=1.12 in /opt/anaconda3/lib/python3.8/site-packages (from cryptography>=1.3.4->urllib3[secure]~=1.26->selenium) (1.14.5)\n",
      "Requirement already satisfied: pycparser in /opt/anaconda3/lib/python3.8/site-packages (from cffi>=1.12->cryptography>=1.3.4->urllib3[secure]~=1.26->selenium) (2.20)\n",
      "Requirement already satisfied: six>=1.5.2 in /opt/anaconda3/lib/python3.8/site-packages (from pyOpenSSL>=0.14->urllib3[secure]~=1.26->selenium) (1.15.0)\n",
      "Requirement already satisfied: h11<1,>=0.9.0 in /opt/anaconda3/lib/python3.8/site-packages (from wsproto>=0.14->trio-websocket~=0.9->selenium) (0.12.0)\n"
     ]
    }
   ],
   "source": [
    "!pip install selenium"
   ]
  },
  {
   "cell_type": "code",
   "execution_count": 3,
   "id": "ce4797fb",
   "metadata": {},
   "outputs": [],
   "source": [
    "import selenium\n",
    "import pandas as pd\n",
    "from selenium import webdriver"
   ]
  },
  {
   "cell_type": "code",
   "execution_count": 4,
   "id": "4e62432c",
   "metadata": {},
   "outputs": [
    {
     "name": "stderr",
     "output_type": "stream",
     "text": [
      "<ipython-input-4-af4f0ae775fb>:1: DeprecationWarning: executable_path has been deprecated, please pass in a Service object\n",
      "  driver= webdriver.Chrome(r\"/Users/mj/Downloads/chromedriver\")\n"
     ]
    }
   ],
   "source": [
    "\n",
    "\n",
    "driver= webdriver.Chrome(r\"/Users/mj/Downloads/chromedriver\")\n"
   ]
  },
  {
   "cell_type": "markdown",
   "id": "44192a24",
   "metadata": {},
   "source": [
    "# Q1.Write a python program to scrape data for “Data Analyst” Job position in “Bangalore” location. You have to scrape the job-title, job-location, company_name, experience_required. You have to scrape first 10 jobs data."
   ]
  },
  {
   "cell_type": "code",
   "execution_count": 330,
   "id": "98de6061",
   "metadata": {},
   "outputs": [],
   "source": [
    "driver.get(\"https://www.naukri.com/\")"
   ]
  },
  {
   "cell_type": "code",
   "execution_count": 331,
   "id": "ae289d91",
   "metadata": {},
   "outputs": [],
   "source": [
    "url=\"https://www.naukri.com/data-analyst-jobs-in-bangalore-bengaluru?k=data%20analyst&l=bangalore%2Fbengaluru\""
   ]
  },
  {
   "cell_type": "code",
   "execution_count": 332,
   "id": "c6d80f04",
   "metadata": {},
   "outputs": [],
   "source": [
    "driver.get(url)"
   ]
  },
  {
   "cell_type": "code",
   "execution_count": 333,
   "id": "1589e074",
   "metadata": {},
   "outputs": [],
   "source": [
    "# creating empty list\n",
    "job_title=[]\n",
    "job_location=[]\n",
    "company_name=[]\n",
    "exp_list=[]\n"
   ]
  },
  {
   "cell_type": "code",
   "execution_count": 334,
   "id": "06fce933",
   "metadata": {},
   "outputs": [
    {
     "name": "stderr",
     "output_type": "stream",
     "text": [
      "<ipython-input-334-76697fae423c>:2: DeprecationWarning: find_elements_by_* commands are deprecated. Please use find_elements() instead\n",
      "  title_tags=driver.find_elements_by_xpath(\"//a[@class='title fw500 ellipsis']\")\n"
     ]
    },
    {
     "data": {
      "text/plain": [
       "[<selenium.webdriver.remote.webelement.WebElement (session=\"d1031c8f81301997e8751a3c04b3543d\", element=\"7155bd4f-c33f-4273-beff-0ab60c11b99e\")>,\n",
       " <selenium.webdriver.remote.webelement.WebElement (session=\"d1031c8f81301997e8751a3c04b3543d\", element=\"a1ccaca4-077e-4114-a804-267f7fd30ae0\")>,\n",
       " <selenium.webdriver.remote.webelement.WebElement (session=\"d1031c8f81301997e8751a3c04b3543d\", element=\"7774137b-fee1-4a13-9655-a10c17b7b458\")>,\n",
       " <selenium.webdriver.remote.webelement.WebElement (session=\"d1031c8f81301997e8751a3c04b3543d\", element=\"8482f59e-742f-43b1-b81b-6252e36c8334\")>,\n",
       " <selenium.webdriver.remote.webelement.WebElement (session=\"d1031c8f81301997e8751a3c04b3543d\", element=\"deb09eb4-5fb1-4ffd-bda6-f7924344f8f3\")>,\n",
       " <selenium.webdriver.remote.webelement.WebElement (session=\"d1031c8f81301997e8751a3c04b3543d\", element=\"ee819d8a-baba-4a14-a863-2e736a372e93\")>,\n",
       " <selenium.webdriver.remote.webelement.WebElement (session=\"d1031c8f81301997e8751a3c04b3543d\", element=\"5350c4ef-d4a6-4a52-9a15-c3a520e622c4\")>,\n",
       " <selenium.webdriver.remote.webelement.WebElement (session=\"d1031c8f81301997e8751a3c04b3543d\", element=\"05e38322-7878-473d-8a73-8be533bee775\")>,\n",
       " <selenium.webdriver.remote.webelement.WebElement (session=\"d1031c8f81301997e8751a3c04b3543d\", element=\"33a52284-8a3f-4614-bbbc-50a912829194\")>,\n",
       " <selenium.webdriver.remote.webelement.WebElement (session=\"d1031c8f81301997e8751a3c04b3543d\", element=\"05ac0f13-19e3-4612-a090-a93c52439a32\")>]"
      ]
     },
     "execution_count": 334,
     "metadata": {},
     "output_type": "execute_result"
    }
   ],
   "source": [
    "# extracting job title\n",
    "title_tags=driver.find_elements_by_xpath(\"//a[@class='title fw500 ellipsis']\")\n",
    "title_tags[0:10]"
   ]
  },
  {
   "cell_type": "code",
   "execution_count": 335,
   "id": "abce1ef0",
   "metadata": {},
   "outputs": [
    {
     "data": {
      "text/plain": [
       "['Business Data Analyst - Database Design/Mining',\n",
       " 'Data Analyst',\n",
       " 'Data Analyst',\n",
       " 'Data Analyst',\n",
       " 'Business Data Analyst - MIS & Reporting',\n",
       " 'Business Data Analyst',\n",
       " 'Senior Data Analyst - SQL/Tableau/Redshift',\n",
       " 'Data Analyst',\n",
       " 'Power BI - Data Analyst - Biocon Biologics',\n",
       " 'Senior Data Analyst']"
      ]
     },
     "execution_count": 335,
     "metadata": {},
     "output_type": "execute_result"
    }
   ],
   "source": [
    "# scraping 10 items using for loop\n",
    "for i in title_tags:\n",
    "    titles=i.text\n",
    "    job_title.append(titles)\n",
    "job_title[0:10]"
   ]
  },
  {
   "cell_type": "code",
   "execution_count": 336,
   "id": "669269db",
   "metadata": {},
   "outputs": [
    {
     "name": "stderr",
     "output_type": "stream",
     "text": [
      "<ipython-input-336-8d395cd6013e>:6: DeprecationWarning: find_elements_by_* commands are deprecated. Please use find_elements() instead\n",
      "  title_tags=driver.find_elements_by_xpath(\"//a[@class='subTitle ellipsis fleft']\")\n"
     ]
    },
    {
     "data": {
      "text/plain": [
       "[<selenium.webdriver.remote.webelement.WebElement (session=\"d1031c8f81301997e8751a3c04b3543d\", element=\"af47ac91-507d-4514-b2ca-0941f9163b3c\")>,\n",
       " <selenium.webdriver.remote.webelement.WebElement (session=\"d1031c8f81301997e8751a3c04b3543d\", element=\"4407208b-735a-4bf1-9e65-080d07adb8bd\")>,\n",
       " <selenium.webdriver.remote.webelement.WebElement (session=\"d1031c8f81301997e8751a3c04b3543d\", element=\"6d94be75-0d64-4342-99e1-831d1031c029\")>,\n",
       " <selenium.webdriver.remote.webelement.WebElement (session=\"d1031c8f81301997e8751a3c04b3543d\", element=\"56355863-4fe5-4f87-b434-f44942ef3fc2\")>,\n",
       " <selenium.webdriver.remote.webelement.WebElement (session=\"d1031c8f81301997e8751a3c04b3543d\", element=\"f7bbe8c5-e76e-47af-b94f-c68ccbbd54f6\")>,\n",
       " <selenium.webdriver.remote.webelement.WebElement (session=\"d1031c8f81301997e8751a3c04b3543d\", element=\"f81c0345-0121-47ad-8fd4-c6201147cad6\")>,\n",
       " <selenium.webdriver.remote.webelement.WebElement (session=\"d1031c8f81301997e8751a3c04b3543d\", element=\"3ae68546-cbed-4acf-82ae-c0161e3a2552\")>,\n",
       " <selenium.webdriver.remote.webelement.WebElement (session=\"d1031c8f81301997e8751a3c04b3543d\", element=\"8551ef74-36da-46d2-a56e-74b3d99dbc46\")>,\n",
       " <selenium.webdriver.remote.webelement.WebElement (session=\"d1031c8f81301997e8751a3c04b3543d\", element=\"b7745f1a-da9c-443b-98f7-3840b9d3b877\")>,\n",
       " <selenium.webdriver.remote.webelement.WebElement (session=\"d1031c8f81301997e8751a3c04b3543d\", element=\"fc61f4cf-c745-47b1-9069-be43794a9428\")>]"
      ]
     },
     "execution_count": 336,
     "metadata": {},
     "output_type": "execute_result"
    }
   ],
   "source": [
    "\n",
    "\n",
    "#extracting company names\n",
    "title_tags=driver.find_elements_by_xpath(\"//a[@class='subTitle ellipsis fleft']\")\n",
    "title_tags[0:10]"
   ]
  },
  {
   "cell_type": "code",
   "execution_count": 337,
   "id": "526600d6",
   "metadata": {},
   "outputs": [
    {
     "data": {
      "text/plain": [
       "['AugmatrixGo',\n",
       " 'Applied Materials',\n",
       " 'Shell',\n",
       " 'Shell',\n",
       " 'INTERTRUST GROUP',\n",
       " 'NetApp',\n",
       " 'Pronto Consulting Services',\n",
       " 'NetraDyne Technology India Private Limited',\n",
       " 'BIOCON BIOLOGICS LIMITED',\n",
       " 'Utthunga Technologies Pvt Ltd']"
      ]
     },
     "execution_count": 337,
     "metadata": {},
     "output_type": "execute_result"
    }
   ],
   "source": [
    "# scraping 10 company names using for loop\n",
    "for i in title_tags:\n",
    "    titles=i.text\n",
    "    company_name.append(titles)\n",
    "company_name[0:10]"
   ]
  },
  {
   "cell_type": "code",
   "execution_count": 338,
   "id": "ab3be3b2",
   "metadata": {},
   "outputs": [
    {
     "name": "stderr",
     "output_type": "stream",
     "text": [
      "<ipython-input-338-58164ebf3942>:3: DeprecationWarning: find_elements_by_* commands are deprecated. Please use find_elements() instead\n",
      "  title_tags=driver.find_elements_by_xpath(\"//li[@class='fleft grey-text br2 placeHolderLi location']/span[1]\")\n"
     ]
    },
    {
     "data": {
      "text/plain": [
       "[<selenium.webdriver.remote.webelement.WebElement (session=\"d1031c8f81301997e8751a3c04b3543d\", element=\"52e8fbc4-37ff-4e4d-8d20-2ab85cd592ec\")>,\n",
       " <selenium.webdriver.remote.webelement.WebElement (session=\"d1031c8f81301997e8751a3c04b3543d\", element=\"af6692da-1751-4032-9bfd-4dd21bed096b\")>,\n",
       " <selenium.webdriver.remote.webelement.WebElement (session=\"d1031c8f81301997e8751a3c04b3543d\", element=\"4717cad6-263c-4348-89fa-413bfe62d5c5\")>,\n",
       " <selenium.webdriver.remote.webelement.WebElement (session=\"d1031c8f81301997e8751a3c04b3543d\", element=\"d39f7580-57da-4e90-a0b9-611b0e55b1bc\")>,\n",
       " <selenium.webdriver.remote.webelement.WebElement (session=\"d1031c8f81301997e8751a3c04b3543d\", element=\"3457cb70-7a4d-43bd-8bb9-be94ecab7cbf\")>,\n",
       " <selenium.webdriver.remote.webelement.WebElement (session=\"d1031c8f81301997e8751a3c04b3543d\", element=\"4171efdd-e39e-4094-97fe-bcf6d23de93b\")>,\n",
       " <selenium.webdriver.remote.webelement.WebElement (session=\"d1031c8f81301997e8751a3c04b3543d\", element=\"d326179d-e855-462a-b6ac-ed2d427e4274\")>,\n",
       " <selenium.webdriver.remote.webelement.WebElement (session=\"d1031c8f81301997e8751a3c04b3543d\", element=\"fbb3dea3-6b49-4d66-889d-75ea6bcc2875\")>,\n",
       " <selenium.webdriver.remote.webelement.WebElement (session=\"d1031c8f81301997e8751a3c04b3543d\", element=\"b3cc0453-07e6-439c-b9f9-6d18a06cf86a\")>,\n",
       " <selenium.webdriver.remote.webelement.WebElement (session=\"d1031c8f81301997e8751a3c04b3543d\", element=\"a6f1f003-3aea-4ad6-b832-9a662f7f877f\")>]"
      ]
     },
     "execution_count": 338,
     "metadata": {},
     "output_type": "execute_result"
    }
   ],
   "source": [
    "# extracting location of company\n",
    "\n",
    "title_tags=driver.find_elements_by_xpath(\"//li[@class='fleft grey-text br2 placeHolderLi location']/span[1]\")\n",
    "title_tags[0:10]\n"
   ]
  },
  {
   "cell_type": "code",
   "execution_count": 339,
   "id": "4adfafc9",
   "metadata": {},
   "outputs": [
    {
     "data": {
      "text/plain": [
       "['Bangalore/Bengaluru',\n",
       " 'Bangalore/Bengaluru',\n",
       " 'Bangalore/Bengaluru',\n",
       " 'Bangalore/Bengaluru',\n",
       " 'Mumbai, Bangalore/Bengaluru',\n",
       " 'Bangalore/Bengaluru',\n",
       " 'Noida, Mumbai, Indore, Hyderabad/Secunderabad, Pune, Chennai, Bangalore/Bengaluru',\n",
       " 'Bangalore Rural, Bangalore/Bengaluru',\n",
       " 'Bangalore/Bengaluru',\n",
       " 'Bangalore/Bengaluru']"
      ]
     },
     "execution_count": 339,
     "metadata": {},
     "output_type": "execute_result"
    }
   ],
   "source": [
    "# scraping 10 location using for loop\n",
    "for i in title_tags:\n",
    "    titles=i.text\n",
    "    job_location.append(titles)\n",
    "job_location[0:10]"
   ]
  },
  {
   "cell_type": "code",
   "execution_count": 340,
   "id": "f759b0d8",
   "metadata": {},
   "outputs": [
    {
     "name": "stderr",
     "output_type": "stream",
     "text": [
      "<ipython-input-340-afeb7560e86a>:2: DeprecationWarning: find_elements_by_* commands are deprecated. Please use find_elements() instead\n",
      "  title_tags=driver.find_elements_by_xpath(\"//li[@class='fleft grey-text br2 placeHolderLi experience']/span[1]\")\n"
     ]
    },
    {
     "data": {
      "text/plain": [
       "[<selenium.webdriver.remote.webelement.WebElement (session=\"d1031c8f81301997e8751a3c04b3543d\", element=\"c97abd2c-5055-4c25-a96e-36ba56bfbcc9\")>,\n",
       " <selenium.webdriver.remote.webelement.WebElement (session=\"d1031c8f81301997e8751a3c04b3543d\", element=\"d6664f39-f161-40db-9b78-76d89b0e4235\")>,\n",
       " <selenium.webdriver.remote.webelement.WebElement (session=\"d1031c8f81301997e8751a3c04b3543d\", element=\"9939611c-c6b7-49fe-8fd3-03dcd59e12bb\")>,\n",
       " <selenium.webdriver.remote.webelement.WebElement (session=\"d1031c8f81301997e8751a3c04b3543d\", element=\"281ff5d3-a88c-496e-bcf6-de25f81f0ac9\")>,\n",
       " <selenium.webdriver.remote.webelement.WebElement (session=\"d1031c8f81301997e8751a3c04b3543d\", element=\"7314fadb-1af6-4002-a925-29a1860de537\")>,\n",
       " <selenium.webdriver.remote.webelement.WebElement (session=\"d1031c8f81301997e8751a3c04b3543d\", element=\"eeb2f900-fa54-4770-9fd3-dd7dc950c556\")>,\n",
       " <selenium.webdriver.remote.webelement.WebElement (session=\"d1031c8f81301997e8751a3c04b3543d\", element=\"63121206-71a2-46a4-b7f5-178ffdf127f2\")>,\n",
       " <selenium.webdriver.remote.webelement.WebElement (session=\"d1031c8f81301997e8751a3c04b3543d\", element=\"eb8024dc-3e80-449d-b59b-ef7099f44837\")>,\n",
       " <selenium.webdriver.remote.webelement.WebElement (session=\"d1031c8f81301997e8751a3c04b3543d\", element=\"d77d2b8b-863d-483c-abac-20c77d42f4d9\")>,\n",
       " <selenium.webdriver.remote.webelement.WebElement (session=\"d1031c8f81301997e8751a3c04b3543d\", element=\"e0ad896b-010b-4f28-b9b8-814b9aae2daf\")>]"
      ]
     },
     "execution_count": 340,
     "metadata": {},
     "output_type": "execute_result"
    }
   ],
   "source": [
    "# Extracting experience list\n",
    "title_tags=driver.find_elements_by_xpath(\"//li[@class='fleft grey-text br2 placeHolderLi experience']/span[1]\")\n",
    "title_tags[0:10]\n"
   ]
  },
  {
   "cell_type": "code",
   "execution_count": 341,
   "id": "c4290675",
   "metadata": {},
   "outputs": [
    {
     "data": {
      "text/plain": [
       "['2-5 Yrs',\n",
       " '0-3 Yrs',\n",
       " '5-8 Yrs',\n",
       " '5-10 Yrs',\n",
       " '3-8 Yrs',\n",
       " '5-10 Yrs',\n",
       " '6-10 Yrs',\n",
       " '2-5 Yrs',\n",
       " '3-8 Yrs',\n",
       " '3-4 Yrs']"
      ]
     },
     "execution_count": 341,
     "metadata": {},
     "output_type": "execute_result"
    }
   ],
   "source": [
    "# for loop for scraping experience list\n",
    "for i in title_tags:\n",
    "    titles=i.text\n",
    "    exp_list.append(titles)\n",
    "exp_list[0:10]"
   ]
  },
  {
   "cell_type": "markdown",
   "id": "a002652f",
   "metadata": {},
   "source": [
    "# 1.creating Data Frame"
   ]
  },
  {
   "cell_type": "code",
   "execution_count": 342,
   "id": "3a4adc46",
   "metadata": {},
   "outputs": [
    {
     "data": {
      "text/html": [
       "<div>\n",
       "<style scoped>\n",
       "    .dataframe tbody tr th:only-of-type {\n",
       "        vertical-align: middle;\n",
       "    }\n",
       "\n",
       "    .dataframe tbody tr th {\n",
       "        vertical-align: top;\n",
       "    }\n",
       "\n",
       "    .dataframe thead th {\n",
       "        text-align: right;\n",
       "    }\n",
       "</style>\n",
       "<table border=\"1\" class=\"dataframe\">\n",
       "  <thead>\n",
       "    <tr style=\"text-align: right;\">\n",
       "      <th></th>\n",
       "      <th>Title</th>\n",
       "      <th>location</th>\n",
       "      <th>CompanyName</th>\n",
       "      <th>Exp_required</th>\n",
       "    </tr>\n",
       "  </thead>\n",
       "  <tbody>\n",
       "    <tr>\n",
       "      <th>0</th>\n",
       "      <td>Business Data Analyst - Database Design/Mining</td>\n",
       "      <td>Bangalore/Bengaluru</td>\n",
       "      <td>AugmatrixGo</td>\n",
       "      <td>2-5 Yrs</td>\n",
       "    </tr>\n",
       "    <tr>\n",
       "      <th>1</th>\n",
       "      <td>Data Analyst</td>\n",
       "      <td>Bangalore/Bengaluru</td>\n",
       "      <td>Applied Materials</td>\n",
       "      <td>0-3 Yrs</td>\n",
       "    </tr>\n",
       "    <tr>\n",
       "      <th>2</th>\n",
       "      <td>Data Analyst</td>\n",
       "      <td>Bangalore/Bengaluru</td>\n",
       "      <td>Shell</td>\n",
       "      <td>5-8 Yrs</td>\n",
       "    </tr>\n",
       "    <tr>\n",
       "      <th>3</th>\n",
       "      <td>Data Analyst</td>\n",
       "      <td>Bangalore/Bengaluru</td>\n",
       "      <td>Shell</td>\n",
       "      <td>5-10 Yrs</td>\n",
       "    </tr>\n",
       "    <tr>\n",
       "      <th>4</th>\n",
       "      <td>Business Data Analyst - MIS &amp; Reporting</td>\n",
       "      <td>Mumbai, Bangalore/Bengaluru</td>\n",
       "      <td>INTERTRUST GROUP</td>\n",
       "      <td>3-8 Yrs</td>\n",
       "    </tr>\n",
       "    <tr>\n",
       "      <th>5</th>\n",
       "      <td>Business Data Analyst</td>\n",
       "      <td>Bangalore/Bengaluru</td>\n",
       "      <td>NetApp</td>\n",
       "      <td>5-10 Yrs</td>\n",
       "    </tr>\n",
       "    <tr>\n",
       "      <th>6</th>\n",
       "      <td>Senior Data Analyst - SQL/Tableau/Redshift</td>\n",
       "      <td>Noida, Mumbai, Indore, Hyderabad/Secunderabad,...</td>\n",
       "      <td>Pronto Consulting Services</td>\n",
       "      <td>6-10 Yrs</td>\n",
       "    </tr>\n",
       "    <tr>\n",
       "      <th>7</th>\n",
       "      <td>Data Analyst</td>\n",
       "      <td>Bangalore Rural, Bangalore/Bengaluru</td>\n",
       "      <td>NetraDyne Technology India Private Limited</td>\n",
       "      <td>2-5 Yrs</td>\n",
       "    </tr>\n",
       "    <tr>\n",
       "      <th>8</th>\n",
       "      <td>Power BI - Data Analyst - Biocon Biologics</td>\n",
       "      <td>Bangalore/Bengaluru</td>\n",
       "      <td>BIOCON BIOLOGICS LIMITED</td>\n",
       "      <td>3-8 Yrs</td>\n",
       "    </tr>\n",
       "    <tr>\n",
       "      <th>9</th>\n",
       "      <td>Senior Data Analyst</td>\n",
       "      <td>Bangalore/Bengaluru</td>\n",
       "      <td>Utthunga Technologies Pvt Ltd</td>\n",
       "      <td>3-4 Yrs</td>\n",
       "    </tr>\n",
       "  </tbody>\n",
       "</table>\n",
       "</div>"
      ],
      "text/plain": [
       "                                            Title  \\\n",
       "0  Business Data Analyst - Database Design/Mining   \n",
       "1                                    Data Analyst   \n",
       "2                                    Data Analyst   \n",
       "3                                    Data Analyst   \n",
       "4         Business Data Analyst - MIS & Reporting   \n",
       "5                           Business Data Analyst   \n",
       "6      Senior Data Analyst - SQL/Tableau/Redshift   \n",
       "7                                    Data Analyst   \n",
       "8      Power BI - Data Analyst - Biocon Biologics   \n",
       "9                             Senior Data Analyst   \n",
       "\n",
       "                                            location  \\\n",
       "0                                Bangalore/Bengaluru   \n",
       "1                                Bangalore/Bengaluru   \n",
       "2                                Bangalore/Bengaluru   \n",
       "3                                Bangalore/Bengaluru   \n",
       "4                        Mumbai, Bangalore/Bengaluru   \n",
       "5                                Bangalore/Bengaluru   \n",
       "6  Noida, Mumbai, Indore, Hyderabad/Secunderabad,...   \n",
       "7               Bangalore Rural, Bangalore/Bengaluru   \n",
       "8                                Bangalore/Bengaluru   \n",
       "9                                Bangalore/Bengaluru   \n",
       "\n",
       "                                  CompanyName Exp_required  \n",
       "0                                 AugmatrixGo      2-5 Yrs  \n",
       "1                           Applied Materials      0-3 Yrs  \n",
       "2                                       Shell      5-8 Yrs  \n",
       "3                                       Shell     5-10 Yrs  \n",
       "4                            INTERTRUST GROUP      3-8 Yrs  \n",
       "5                                      NetApp     5-10 Yrs  \n",
       "6                  Pronto Consulting Services     6-10 Yrs  \n",
       "7  NetraDyne Technology India Private Limited      2-5 Yrs  \n",
       "8                    BIOCON BIOLOGICS LIMITED      3-8 Yrs  \n",
       "9               Utthunga Technologies Pvt Ltd      3-4 Yrs  "
      ]
     },
     "execution_count": 342,
     "metadata": {},
     "output_type": "execute_result"
    }
   ],
   "source": [
    "#creating data frame\n",
    "jobs=pd.DataFrame({})\n",
    "jobs['Title']=job_title[0:10]\n",
    "jobs['location']=job_location[0:10]\n",
    "jobs['CompanyName']=company_name[0:10]\n",
    "jobs['Exp_required']=exp_list[0:10]\n",
    "jobs"
   ]
  },
  {
   "cell_type": "code",
   "execution_count": 343,
   "id": "7eaeed1e",
   "metadata": {},
   "outputs": [],
   "source": [
    "#Q2.Write a python program to scrape data for “Data Scientist” Job position in “Bangalore” location. You have to scrape the job-title, job-location, company_name. You have to scrape first 10 jobs data.\n",
    "#This task will be done in following steps:\n",
    "#1. First get the webpage https://www.naukri.com/\n",
    "#2. Enter “Data Scientist” in “Skill, Designations, Companies” field and enter “Bangalore” in “enter the\n",
    "#location” field.\n",
    "#3. Then click the search button.\n",
    "#4. Then scrape the data for the first 10 jobs results you get.\n",
    "#5. Finally create a dataframe of the scraped data.\n",
    "\n",
    "driver.get(\"https://www.naukri.com/\")"
   ]
  },
  {
   "cell_type": "code",
   "execution_count": 344,
   "id": "7cdee1dd",
   "metadata": {},
   "outputs": [],
   "source": [
    "url=\"https://www.naukri.com/data-scientist-jobs-in-bangalore-bengaluru?k=data%20scientist&l=bangalore%2Fbengaluru\""
   ]
  },
  {
   "cell_type": "code",
   "execution_count": 345,
   "id": "57cadff0",
   "metadata": {},
   "outputs": [],
   "source": [
    "driver.get(url)"
   ]
  },
  {
   "cell_type": "code",
   "execution_count": 346,
   "id": "7286d29a",
   "metadata": {},
   "outputs": [],
   "source": [
    "#creaing empty list\n",
    "job_title=[]\n",
    "job_location=[]\n",
    "company_name=[]"
   ]
  },
  {
   "cell_type": "code",
   "execution_count": 347,
   "id": "4e67b7d7",
   "metadata": {},
   "outputs": [
    {
     "name": "stderr",
     "output_type": "stream",
     "text": [
      "<ipython-input-347-2aec2b788350>:1: DeprecationWarning: find_elements_by_* commands are deprecated. Please use find_elements() instead\n",
      "  title_tags=driver.find_elements_by_xpath(\"//a[@class='title fw500 ellipsis']\")\n"
     ]
    },
    {
     "data": {
      "text/plain": [
       "[<selenium.webdriver.remote.webelement.WebElement (session=\"d1031c8f81301997e8751a3c04b3543d\", element=\"03dbdd52-7a58-49bd-b1ee-7fc9d0957a0b\")>,\n",
       " <selenium.webdriver.remote.webelement.WebElement (session=\"d1031c8f81301997e8751a3c04b3543d\", element=\"97924b6f-9f54-4618-840b-efb54839ed04\")>,\n",
       " <selenium.webdriver.remote.webelement.WebElement (session=\"d1031c8f81301997e8751a3c04b3543d\", element=\"656a4848-eb3e-4517-92e7-f5ace2a95afc\")>,\n",
       " <selenium.webdriver.remote.webelement.WebElement (session=\"d1031c8f81301997e8751a3c04b3543d\", element=\"8f6774b5-0de5-4c03-895c-d756e8d879b9\")>,\n",
       " <selenium.webdriver.remote.webelement.WebElement (session=\"d1031c8f81301997e8751a3c04b3543d\", element=\"10ef3793-75e2-4bed-b38e-dd4f36fbc10d\")>,\n",
       " <selenium.webdriver.remote.webelement.WebElement (session=\"d1031c8f81301997e8751a3c04b3543d\", element=\"db8eb844-2503-4ad7-b5ca-3e651b7e048f\")>,\n",
       " <selenium.webdriver.remote.webelement.WebElement (session=\"d1031c8f81301997e8751a3c04b3543d\", element=\"47058c04-5961-478f-ba89-8b4ca6da38dc\")>,\n",
       " <selenium.webdriver.remote.webelement.WebElement (session=\"d1031c8f81301997e8751a3c04b3543d\", element=\"ed2d6747-871b-409a-a500-79e89fe2a36d\")>,\n",
       " <selenium.webdriver.remote.webelement.WebElement (session=\"d1031c8f81301997e8751a3c04b3543d\", element=\"e0ac836b-9b49-46b8-82fb-73e253ff1d73\")>,\n",
       " <selenium.webdriver.remote.webelement.WebElement (session=\"d1031c8f81301997e8751a3c04b3543d\", element=\"4d4694d9-5b21-477a-bd39-b259bf0cb632\")>]"
      ]
     },
     "execution_count": 347,
     "metadata": {},
     "output_type": "execute_result"
    }
   ],
   "source": [
    "#extracting URL for job_title\n",
    "title_tags=driver.find_elements_by_xpath(\"//a[@class='title fw500 ellipsis']\")\n",
    "title_tags[0:10]"
   ]
  },
  {
   "cell_type": "code",
   "execution_count": 348,
   "id": "78145277",
   "metadata": {},
   "outputs": [
    {
     "data": {
      "text/plain": [
       "['Senior Data Scientist | Fortune 500 Supermarket Chain',\n",
       " 'Data Scientist',\n",
       " 'Data Scientist',\n",
       " 'Senior Data Scientist | Fortune 500 Supermarket Chain',\n",
       " 'Senior Data Scientist',\n",
       " 'Hiring For AI Architect / Lead Data Scientist - Bangalore -Iqvia',\n",
       " 'Lead Data Scientist, Presales',\n",
       " 'Senior Data Scientist',\n",
       " 'Senior / Lead Data Scientist',\n",
       " 'Lead Data Scientist - Machine Learning/ Data Mining']"
      ]
     },
     "execution_count": 348,
     "metadata": {},
     "output_type": "execute_result"
    }
   ],
   "source": [
    "#using for loop for scraping 10 titles\n",
    "for i in title_tags:\n",
    "    titles=i.text\n",
    "    job_title.append(titles)\n",
    "job_title[0:10]"
   ]
  },
  {
   "cell_type": "code",
   "execution_count": 349,
   "id": "6be6a4e0",
   "metadata": {},
   "outputs": [
    {
     "name": "stderr",
     "output_type": "stream",
     "text": [
      "<ipython-input-349-90fad6c5a7ff>:1: DeprecationWarning: find_elements_by_* commands are deprecated. Please use find_elements() instead\n",
      "  title_tags=driver.find_elements_by_xpath(\"//a[@class='subTitle ellipsis fleft']\")\n"
     ]
    },
    {
     "data": {
      "text/plain": [
       "[<selenium.webdriver.remote.webelement.WebElement (session=\"d1031c8f81301997e8751a3c04b3543d\", element=\"a49de4ca-54cb-4c0b-a57b-273b2f2dd84c\")>,\n",
       " <selenium.webdriver.remote.webelement.WebElement (session=\"d1031c8f81301997e8751a3c04b3543d\", element=\"d6a7de6d-55cc-4e5b-a763-e2b341b96554\")>,\n",
       " <selenium.webdriver.remote.webelement.WebElement (session=\"d1031c8f81301997e8751a3c04b3543d\", element=\"d709c561-a1c7-43e5-8bcf-07b4ea459b36\")>,\n",
       " <selenium.webdriver.remote.webelement.WebElement (session=\"d1031c8f81301997e8751a3c04b3543d\", element=\"81f95afb-1923-457e-9759-f9d5fd1d6b6a\")>,\n",
       " <selenium.webdriver.remote.webelement.WebElement (session=\"d1031c8f81301997e8751a3c04b3543d\", element=\"aae9a3e8-3423-4ecf-be3c-e6adbb742cf3\")>,\n",
       " <selenium.webdriver.remote.webelement.WebElement (session=\"d1031c8f81301997e8751a3c04b3543d\", element=\"19cf67ea-57b5-46b5-966d-2620ef26eaef\")>,\n",
       " <selenium.webdriver.remote.webelement.WebElement (session=\"d1031c8f81301997e8751a3c04b3543d\", element=\"a835f8e5-2c4b-43de-8172-7b8231af6877\")>,\n",
       " <selenium.webdriver.remote.webelement.WebElement (session=\"d1031c8f81301997e8751a3c04b3543d\", element=\"91b1f5ca-757a-4851-924b-0912494692d4\")>,\n",
       " <selenium.webdriver.remote.webelement.WebElement (session=\"d1031c8f81301997e8751a3c04b3543d\", element=\"eca6cdeb-8c8f-4c46-bbd9-b68ee06fd6a4\")>,\n",
       " <selenium.webdriver.remote.webelement.WebElement (session=\"d1031c8f81301997e8751a3c04b3543d\", element=\"af255c54-5c66-4016-ac36-f0c64fdd71f8\")>]"
      ]
     },
     "execution_count": 349,
     "metadata": {},
     "output_type": "execute_result"
    }
   ],
   "source": [
    "#extracting Url for company names\n",
    "title_tags=driver.find_elements_by_xpath(\"//a[@class='subTitle ellipsis fleft']\")\n",
    "title_tags[0:10]"
   ]
  },
  {
   "cell_type": "code",
   "execution_count": 350,
   "id": "328a8493",
   "metadata": {},
   "outputs": [
    {
     "data": {
      "text/plain": [
       "['TALENT500 TECH (INDIA) PRIVATE LIMITED',\n",
       " 'Alstom Transport India Ltd.',\n",
       " 'Amazon',\n",
       " 'TALENT500 TECH (INDIA) PRIVATE LIMITED',\n",
       " 'Santechture',\n",
       " 'IQVIA RDS India Pvt Ltd',\n",
       " 'Moveworks',\n",
       " 'Easy Recruit',\n",
       " 'Bukuwarung',\n",
       " 'Wrackle Technologies Pvt Ltd']"
      ]
     },
     "execution_count": 350,
     "metadata": {},
     "output_type": "execute_result"
    }
   ],
   "source": [
    "#using for loop to scrap 10 company name\n",
    "for i in title_tags:\n",
    "    titles=i.text\n",
    "    company_name.append(titles)\n",
    "company_name[0:10]"
   ]
  },
  {
   "cell_type": "code",
   "execution_count": 351,
   "id": "21252aab",
   "metadata": {},
   "outputs": [
    {
     "name": "stderr",
     "output_type": "stream",
     "text": [
      "<ipython-input-351-7876922bcfc1>:1: DeprecationWarning: find_elements_by_* commands are deprecated. Please use find_elements() instead\n",
      "  title_tags=driver.find_elements_by_xpath(\"//li[@class='fleft grey-text br2 placeHolderLi location']/span[1]\")\n"
     ]
    },
    {
     "data": {
      "text/plain": [
       "[<selenium.webdriver.remote.webelement.WebElement (session=\"d1031c8f81301997e8751a3c04b3543d\", element=\"19a05f3d-8511-424d-9b3f-24ac003905ac\")>,\n",
       " <selenium.webdriver.remote.webelement.WebElement (session=\"d1031c8f81301997e8751a3c04b3543d\", element=\"ac1d956c-b08a-4e94-a260-1229c760e147\")>,\n",
       " <selenium.webdriver.remote.webelement.WebElement (session=\"d1031c8f81301997e8751a3c04b3543d\", element=\"11a339f7-fb7d-4b9c-8793-979a4086b4db\")>,\n",
       " <selenium.webdriver.remote.webelement.WebElement (session=\"d1031c8f81301997e8751a3c04b3543d\", element=\"6e0d43a7-dbcc-4a0f-abb8-c0961138cb28\")>,\n",
       " <selenium.webdriver.remote.webelement.WebElement (session=\"d1031c8f81301997e8751a3c04b3543d\", element=\"59587e14-e8eb-4bbe-b969-501708104711\")>,\n",
       " <selenium.webdriver.remote.webelement.WebElement (session=\"d1031c8f81301997e8751a3c04b3543d\", element=\"ecfa695e-cffa-4603-bd18-f51ca931d8fb\")>,\n",
       " <selenium.webdriver.remote.webelement.WebElement (session=\"d1031c8f81301997e8751a3c04b3543d\", element=\"92e22625-62a9-42e0-b1c2-d36ddf5c6206\")>,\n",
       " <selenium.webdriver.remote.webelement.WebElement (session=\"d1031c8f81301997e8751a3c04b3543d\", element=\"035145e6-84ea-4eca-b295-1b4a744bb87c\")>,\n",
       " <selenium.webdriver.remote.webelement.WebElement (session=\"d1031c8f81301997e8751a3c04b3543d\", element=\"54760f36-fa2d-420b-ad60-1b245166b1df\")>,\n",
       " <selenium.webdriver.remote.webelement.WebElement (session=\"d1031c8f81301997e8751a3c04b3543d\", element=\"82a8a00c-c15e-4481-99e2-573d310fa8b8\")>]"
      ]
     },
     "execution_count": 351,
     "metadata": {},
     "output_type": "execute_result"
    }
   ],
   "source": [
    "#extracting URL for job location\n",
    "title_tags=driver.find_elements_by_xpath(\"//li[@class='fleft grey-text br2 placeHolderLi location']/span[1]\")\n",
    "title_tags[0:10]"
   ]
  },
  {
   "cell_type": "code",
   "execution_count": 352,
   "id": "a2fdfe44",
   "metadata": {},
   "outputs": [
    {
     "data": {
      "text/plain": [
       "['Bangalore/Bengaluru',\n",
       " 'Bangalore/Bengaluru',\n",
       " 'Hyderabad/Secunderabad, Pune, Bangalore/Bengaluru',\n",
       " 'Bangalore/Bengaluru',\n",
       " 'Hyderabad/Secunderabad, Chennai, Bangalore/Bengaluru',\n",
       " 'Bangalore/Bengaluru',\n",
       " 'Bangalore/Bengaluru',\n",
       " 'Bangalore/Bengaluru',\n",
       " 'Bangalore/Bengaluru',\n",
       " 'Bangalore/Bengaluru']"
      ]
     },
     "execution_count": 352,
     "metadata": {},
     "output_type": "execute_result"
    }
   ],
   "source": [
    "#using for loop to scrap 10 location data\n",
    "for i in title_tags:\n",
    "    titles=i.text\n",
    "    job_location.append(titles)\n",
    "job_location[0:10]"
   ]
  },
  {
   "cell_type": "markdown",
   "id": "e323f1df",
   "metadata": {},
   "source": [
    "# 2. creating DataFrame"
   ]
  },
  {
   "cell_type": "code",
   "execution_count": 353,
   "id": "3bbf7965",
   "metadata": {},
   "outputs": [
    {
     "data": {
      "text/html": [
       "<div>\n",
       "<style scoped>\n",
       "    .dataframe tbody tr th:only-of-type {\n",
       "        vertical-align: middle;\n",
       "    }\n",
       "\n",
       "    .dataframe tbody tr th {\n",
       "        vertical-align: top;\n",
       "    }\n",
       "\n",
       "    .dataframe thead th {\n",
       "        text-align: right;\n",
       "    }\n",
       "</style>\n",
       "<table border=\"1\" class=\"dataframe\">\n",
       "  <thead>\n",
       "    <tr style=\"text-align: right;\">\n",
       "      <th></th>\n",
       "      <th>Title</th>\n",
       "      <th>location</th>\n",
       "      <th>CompanyName</th>\n",
       "    </tr>\n",
       "  </thead>\n",
       "  <tbody>\n",
       "    <tr>\n",
       "      <th>0</th>\n",
       "      <td>Senior Data Scientist | Fortune 500 Supermarke...</td>\n",
       "      <td>Bangalore/Bengaluru</td>\n",
       "      <td>TALENT500 TECH (INDIA) PRIVATE LIMITED</td>\n",
       "    </tr>\n",
       "    <tr>\n",
       "      <th>1</th>\n",
       "      <td>Data Scientist</td>\n",
       "      <td>Bangalore/Bengaluru</td>\n",
       "      <td>Alstom Transport India Ltd.</td>\n",
       "    </tr>\n",
       "    <tr>\n",
       "      <th>2</th>\n",
       "      <td>Data Scientist</td>\n",
       "      <td>Hyderabad/Secunderabad, Pune, Bangalore/Bengaluru</td>\n",
       "      <td>Amazon</td>\n",
       "    </tr>\n",
       "    <tr>\n",
       "      <th>3</th>\n",
       "      <td>Senior Data Scientist | Fortune 500 Supermarke...</td>\n",
       "      <td>Bangalore/Bengaluru</td>\n",
       "      <td>TALENT500 TECH (INDIA) PRIVATE LIMITED</td>\n",
       "    </tr>\n",
       "    <tr>\n",
       "      <th>4</th>\n",
       "      <td>Senior Data Scientist</td>\n",
       "      <td>Hyderabad/Secunderabad, Chennai, Bangalore/Ben...</td>\n",
       "      <td>Santechture</td>\n",
       "    </tr>\n",
       "    <tr>\n",
       "      <th>5</th>\n",
       "      <td>Hiring For AI Architect / Lead Data Scientist ...</td>\n",
       "      <td>Bangalore/Bengaluru</td>\n",
       "      <td>IQVIA RDS India Pvt Ltd</td>\n",
       "    </tr>\n",
       "    <tr>\n",
       "      <th>6</th>\n",
       "      <td>Lead Data Scientist, Presales</td>\n",
       "      <td>Bangalore/Bengaluru</td>\n",
       "      <td>Moveworks</td>\n",
       "    </tr>\n",
       "    <tr>\n",
       "      <th>7</th>\n",
       "      <td>Senior Data Scientist</td>\n",
       "      <td>Bangalore/Bengaluru</td>\n",
       "      <td>Easy Recruit</td>\n",
       "    </tr>\n",
       "    <tr>\n",
       "      <th>8</th>\n",
       "      <td>Senior / Lead Data Scientist</td>\n",
       "      <td>Bangalore/Bengaluru</td>\n",
       "      <td>Bukuwarung</td>\n",
       "    </tr>\n",
       "    <tr>\n",
       "      <th>9</th>\n",
       "      <td>Lead Data Scientist - Machine Learning/ Data M...</td>\n",
       "      <td>Bangalore/Bengaluru</td>\n",
       "      <td>Wrackle Technologies Pvt Ltd</td>\n",
       "    </tr>\n",
       "  </tbody>\n",
       "</table>\n",
       "</div>"
      ],
      "text/plain": [
       "                                               Title  \\\n",
       "0  Senior Data Scientist | Fortune 500 Supermarke...   \n",
       "1                                     Data Scientist   \n",
       "2                                     Data Scientist   \n",
       "3  Senior Data Scientist | Fortune 500 Supermarke...   \n",
       "4                              Senior Data Scientist   \n",
       "5  Hiring For AI Architect / Lead Data Scientist ...   \n",
       "6                      Lead Data Scientist, Presales   \n",
       "7                              Senior Data Scientist   \n",
       "8                       Senior / Lead Data Scientist   \n",
       "9  Lead Data Scientist - Machine Learning/ Data M...   \n",
       "\n",
       "                                            location  \\\n",
       "0                                Bangalore/Bengaluru   \n",
       "1                                Bangalore/Bengaluru   \n",
       "2  Hyderabad/Secunderabad, Pune, Bangalore/Bengaluru   \n",
       "3                                Bangalore/Bengaluru   \n",
       "4  Hyderabad/Secunderabad, Chennai, Bangalore/Ben...   \n",
       "5                                Bangalore/Bengaluru   \n",
       "6                                Bangalore/Bengaluru   \n",
       "7                                Bangalore/Bengaluru   \n",
       "8                                Bangalore/Bengaluru   \n",
       "9                                Bangalore/Bengaluru   \n",
       "\n",
       "                              CompanyName  \n",
       "0  TALENT500 TECH (INDIA) PRIVATE LIMITED  \n",
       "1             Alstom Transport India Ltd.  \n",
       "2                                  Amazon  \n",
       "3  TALENT500 TECH (INDIA) PRIVATE LIMITED  \n",
       "4                             Santechture  \n",
       "5                 IQVIA RDS India Pvt Ltd  \n",
       "6                               Moveworks  \n",
       "7                            Easy Recruit  \n",
       "8                              Bukuwarung  \n",
       "9            Wrackle Technologies Pvt Ltd  "
      ]
     },
     "execution_count": 353,
     "metadata": {},
     "output_type": "execute_result"
    }
   ],
   "source": [
    "# creating data frame\n",
    "jobs=pd.DataFrame({})\n",
    "jobs['Title']=job_title[0:10]\n",
    "jobs['location']=job_location[0:10]\n",
    "jobs['CompanyName']=company_name[0:10]\n",
    "\n",
    "jobs"
   ]
  },
  {
   "cell_type": "markdown",
   "id": "73511392",
   "metadata": {},
   "source": [
    "Q3.You have to use the location and salary filter.\n",
    "You have to scrape data for “Data Scientist” designation for first 10 job results.\n",
    "You have to scrape the job-title, job-location, company name, experience required. The location filter to be used is “Delhi/NCR”The salary filter to be used is “3-6” lakhs\n",
    "The task will be done as shown in the below steps:\n",
    "1. first get the webpage https://www.naukri.com/\n",
    "2. Enter “Data Scientist” in “Skill, Designations, and Companies” field.\n",
    "3. Then click the search button.\n",
    "4. Then apply the location filter and salary filter by checking the respective boxes\n",
    "5. Then scrape the data for the first 10 jobs results you get.\n",
    "6. Finally create a dataframe of the scraped data."
   ]
  },
  {
   "cell_type": "code",
   "execution_count": null,
   "id": "ac92ff84",
   "metadata": {},
   "outputs": [],
   "source": []
  },
  {
   "cell_type": "code",
   "execution_count": 468,
   "id": "a97e7b0d",
   "metadata": {},
   "outputs": [],
   "source": [
    "# driver to get URL\n",
    "driver.get(\"https://www.naukri.com/\")\n",
    "url=\"https://www.naukri.com/data-scientist-jobs?k=data%20scientist&cityTypeGid=9508&ctcFilter=3to6\"\n",
    "driver.get(url)"
   ]
  },
  {
   "cell_type": "code",
   "execution_count": 469,
   "id": "c178536c",
   "metadata": {},
   "outputs": [],
   "source": [
    "#creating empty list\n",
    "job_title=[]\n",
    "job_location=[]\n",
    "company_name=[]"
   ]
  },
  {
   "cell_type": "code",
   "execution_count": 470,
   "id": "247f74e2",
   "metadata": {},
   "outputs": [
    {
     "name": "stderr",
     "output_type": "stream",
     "text": [
      "<ipython-input-470-89e329c09011>:1: DeprecationWarning: find_elements_by_* commands are deprecated. Please use find_elements() instead\n",
      "  title_tags=driver.find_elements_by_xpath(\"//div[@class='info fleft']/a\")\n"
     ]
    },
    {
     "data": {
      "text/plain": [
       "[<selenium.webdriver.remote.webelement.WebElement (session=\"d1df9510e8473932f2c48175afcf4901\", element=\"90c6a5a1-5441-4b03-b72b-acb14f8866c6\")>,\n",
       " <selenium.webdriver.remote.webelement.WebElement (session=\"d1df9510e8473932f2c48175afcf4901\", element=\"2063d3fb-3720-4c0b-9ea4-d8f3db33ce82\")>,\n",
       " <selenium.webdriver.remote.webelement.WebElement (session=\"d1df9510e8473932f2c48175afcf4901\", element=\"a2f2fe5c-65d6-4971-aafc-eabcdfa711e3\")>,\n",
       " <selenium.webdriver.remote.webelement.WebElement (session=\"d1df9510e8473932f2c48175afcf4901\", element=\"d3887516-c3c0-483f-a01a-870969a589d7\")>,\n",
       " <selenium.webdriver.remote.webelement.WebElement (session=\"d1df9510e8473932f2c48175afcf4901\", element=\"8c3cdf51-5231-407c-9a05-2e780bd2267c\")>,\n",
       " <selenium.webdriver.remote.webelement.WebElement (session=\"d1df9510e8473932f2c48175afcf4901\", element=\"c21854c9-14bf-42a1-9402-34fef350b994\")>,\n",
       " <selenium.webdriver.remote.webelement.WebElement (session=\"d1df9510e8473932f2c48175afcf4901\", element=\"fd9a939b-2a81-4802-8532-2d1aed7af3f0\")>,\n",
       " <selenium.webdriver.remote.webelement.WebElement (session=\"d1df9510e8473932f2c48175afcf4901\", element=\"ce2a41b2-e25e-4d80-81f9-2a9303d60708\")>,\n",
       " <selenium.webdriver.remote.webelement.WebElement (session=\"d1df9510e8473932f2c48175afcf4901\", element=\"e52eef10-b855-43ed-a776-e69d3278bbe7\")>,\n",
       " <selenium.webdriver.remote.webelement.WebElement (session=\"d1df9510e8473932f2c48175afcf4901\", element=\"8a74cd44-c535-4f31-aa88-29ba57f4ccc8\")>]"
      ]
     },
     "execution_count": 470,
     "metadata": {},
     "output_type": "execute_result"
    }
   ],
   "source": [
    "#extracting URL for job title\n",
    "title_tags=driver.find_elements_by_xpath(\"//div[@class='info fleft']/a\")\n",
    "title_tags[0:10]"
   ]
  },
  {
   "cell_type": "code",
   "execution_count": null,
   "id": "341df38c",
   "metadata": {},
   "outputs": [],
   "source": []
  },
  {
   "cell_type": "code",
   "execution_count": 471,
   "id": "48a7eb57",
   "metadata": {},
   "outputs": [
    {
     "data": {
      "text/plain": [
       "['Data Scientist',\n",
       " 'Job Opportunity || Data Scientist || HCL Technologies',\n",
       " 'Data Scientist',\n",
       " 'Data Scientist',\n",
       " 'Urgent Hiring || Data Scientist || Delhi',\n",
       " 'Data Scientist',\n",
       " 'Data Scientist',\n",
       " 'Data Scientist Internship',\n",
       " 'Data Scientist',\n",
       " 'Project Manager | Team Leader | Senior Data Scientist']"
      ]
     },
     "execution_count": 471,
     "metadata": {},
     "output_type": "execute_result"
    }
   ],
   "source": [
    "# for loop for scraping 10 job\n",
    "for i in title_tags:\n",
    "    titles=i.text\n",
    "    job_title.append(titles)\n",
    "job_title[0:10]"
   ]
  },
  {
   "cell_type": "code",
   "execution_count": 472,
   "id": "56fff633",
   "metadata": {},
   "outputs": [
    {
     "name": "stderr",
     "output_type": "stream",
     "text": [
      "<ipython-input-472-7876922bcfc1>:1: DeprecationWarning: find_elements_by_* commands are deprecated. Please use find_elements() instead\n",
      "  title_tags=driver.find_elements_by_xpath(\"//li[@class='fleft grey-text br2 placeHolderLi location']/span[1]\")\n"
     ]
    },
    {
     "data": {
      "text/plain": [
       "[<selenium.webdriver.remote.webelement.WebElement (session=\"d1df9510e8473932f2c48175afcf4901\", element=\"c0acea1a-3c09-4d16-8b69-45e964ec738f\")>,\n",
       " <selenium.webdriver.remote.webelement.WebElement (session=\"d1df9510e8473932f2c48175afcf4901\", element=\"ec219a1d-08f2-4a47-ab87-94b00c756508\")>,\n",
       " <selenium.webdriver.remote.webelement.WebElement (session=\"d1df9510e8473932f2c48175afcf4901\", element=\"903c0368-f752-4528-81b3-877b9bef6244\")>,\n",
       " <selenium.webdriver.remote.webelement.WebElement (session=\"d1df9510e8473932f2c48175afcf4901\", element=\"75a7c411-47b5-436f-bf4a-ab9b7af13a54\")>,\n",
       " <selenium.webdriver.remote.webelement.WebElement (session=\"d1df9510e8473932f2c48175afcf4901\", element=\"7fe62b72-e641-482b-a772-f5e7ade417f5\")>,\n",
       " <selenium.webdriver.remote.webelement.WebElement (session=\"d1df9510e8473932f2c48175afcf4901\", element=\"d2e37ff2-ec2e-45ec-80db-6fa5a8aad6bb\")>,\n",
       " <selenium.webdriver.remote.webelement.WebElement (session=\"d1df9510e8473932f2c48175afcf4901\", element=\"d710ace5-015d-41d1-87d0-a713376b5a2f\")>,\n",
       " <selenium.webdriver.remote.webelement.WebElement (session=\"d1df9510e8473932f2c48175afcf4901\", element=\"b98e25bc-c017-4183-a243-b6f4d81f7545\")>,\n",
       " <selenium.webdriver.remote.webelement.WebElement (session=\"d1df9510e8473932f2c48175afcf4901\", element=\"81e20caf-63e7-44ad-9650-bc26081cf701\")>,\n",
       " <selenium.webdriver.remote.webelement.WebElement (session=\"d1df9510e8473932f2c48175afcf4901\", element=\"b2e4743f-c873-468f-9157-c349330ab715\")>]"
      ]
     },
     "execution_count": 472,
     "metadata": {},
     "output_type": "execute_result"
    }
   ],
   "source": [
    "#extracting location of jobs\n",
    "title_tags=driver.find_elements_by_xpath(\"//li[@class='fleft grey-text br2 placeHolderLi location']/span[1]\")\n",
    "title_tags[0:10]"
   ]
  },
  {
   "cell_type": "code",
   "execution_count": 473,
   "id": "3e2e0812",
   "metadata": {},
   "outputs": [
    {
     "data": {
      "text/plain": [
       "['Kochi/Cochin, Kolkata, Hyderabad/Secunderabad, Pune, Ahmedabad, Chennai, Bangalore/Bengaluru, Delhi / NCR, Mumbai (All Areas)',\n",
       " 'Delhi / NCR',\n",
       " 'Noida(Sector-126 Noida)',\n",
       " 'Noida(Sector-126 Noida)',\n",
       " 'Delhi / NCR(Netaji Subhash Place)',\n",
       " 'Noida, Gurgaon/Gurugram',\n",
       " 'Noida',\n",
       " 'New Delhi',\n",
       " 'Mumbai, Gurgaon/Gurugram, Bangalore/Bengaluru',\n",
       " 'Remote']"
      ]
     },
     "execution_count": 473,
     "metadata": {},
     "output_type": "execute_result"
    }
   ],
   "source": [
    "\n",
    "for i in title_tags:# scraping location of job\n",
    "    titles=i.text\n",
    "    job_location.append(titles)\n",
    "job_location[0:10]"
   ]
  },
  {
   "cell_type": "code",
   "execution_count": 474,
   "id": "c0e95f59",
   "metadata": {},
   "outputs": [
    {
     "name": "stderr",
     "output_type": "stream",
     "text": [
      "<ipython-input-474-90fad6c5a7ff>:1: DeprecationWarning: find_elements_by_* commands are deprecated. Please use find_elements() instead\n",
      "  title_tags=driver.find_elements_by_xpath(\"//a[@class='subTitle ellipsis fleft']\")\n"
     ]
    },
    {
     "data": {
      "text/plain": [
       "[<selenium.webdriver.remote.webelement.WebElement (session=\"d1df9510e8473932f2c48175afcf4901\", element=\"30041f36-f5e8-4ab2-8f1a-16347c3c47c6\")>,\n",
       " <selenium.webdriver.remote.webelement.WebElement (session=\"d1df9510e8473932f2c48175afcf4901\", element=\"9d256885-a103-499f-baef-b3435ab58ee2\")>,\n",
       " <selenium.webdriver.remote.webelement.WebElement (session=\"d1df9510e8473932f2c48175afcf4901\", element=\"e4ea14ee-0c5f-4d53-b746-e749dc7ea640\")>,\n",
       " <selenium.webdriver.remote.webelement.WebElement (session=\"d1df9510e8473932f2c48175afcf4901\", element=\"72a86963-fce9-423b-ae10-ebe17e7813f3\")>,\n",
       " <selenium.webdriver.remote.webelement.WebElement (session=\"d1df9510e8473932f2c48175afcf4901\", element=\"16d53d80-09af-4dc5-8932-58198dba89ef\")>,\n",
       " <selenium.webdriver.remote.webelement.WebElement (session=\"d1df9510e8473932f2c48175afcf4901\", element=\"a12f5d1a-1665-44e5-9f82-245a07617430\")>,\n",
       " <selenium.webdriver.remote.webelement.WebElement (session=\"d1df9510e8473932f2c48175afcf4901\", element=\"63741d09-d137-4d7b-bdbe-6fc3a279532d\")>,\n",
       " <selenium.webdriver.remote.webelement.WebElement (session=\"d1df9510e8473932f2c48175afcf4901\", element=\"fdce082e-954d-4acd-8cc7-9615bf2caea6\")>,\n",
       " <selenium.webdriver.remote.webelement.WebElement (session=\"d1df9510e8473932f2c48175afcf4901\", element=\"57f1d493-109e-4559-8602-c0b7d478433a\")>,\n",
       " <selenium.webdriver.remote.webelement.WebElement (session=\"d1df9510e8473932f2c48175afcf4901\", element=\"6b73b330-d801-4884-a97b-97defd81d5c6\")>]"
      ]
     },
     "execution_count": 474,
     "metadata": {},
     "output_type": "execute_result"
    }
   ],
   "source": [
    "#extracting company name\n",
    "title_tags=driver.find_elements_by_xpath(\"//a[@class='subTitle ellipsis fleft']\")\n",
    "title_tags[0:10]"
   ]
  },
  {
   "cell_type": "code",
   "execution_count": 475,
   "id": "e01d1e24",
   "metadata": {},
   "outputs": [
    {
     "data": {
      "text/plain": [
       "['Think i',\n",
       " 'HCL Technologies',\n",
       " 'MoMagic Technologies Pvt. Ltd.',\n",
       " 'MoMagic Technologies Pvt. Ltd.',\n",
       " 'Shriram Automall India Limited',\n",
       " 'Optum Global Solutions (India) Private Limited',\n",
       " 'SVK Global Solutions Private Limited',\n",
       " 'iHackers Inc',\n",
       " 'Fractal Analytics',\n",
       " 'Tidyquant (OPC) Private Limited']"
      ]
     },
     "execution_count": 475,
     "metadata": {},
     "output_type": "execute_result"
    }
   ],
   "source": [
    "for i in title_tags: # scraping company names\n",
    "    titles=i.text\n",
    "    company_name.append(titles)\n",
    "company_name[0:10]"
   ]
  },
  {
   "cell_type": "markdown",
   "id": "be63b92a",
   "metadata": {},
   "source": [
    "# 3.Creating DataFrame"
   ]
  },
  {
   "cell_type": "code",
   "execution_count": 476,
   "id": "671e7553",
   "metadata": {},
   "outputs": [
    {
     "data": {
      "text/html": [
       "<div>\n",
       "<style scoped>\n",
       "    .dataframe tbody tr th:only-of-type {\n",
       "        vertical-align: middle;\n",
       "    }\n",
       "\n",
       "    .dataframe tbody tr th {\n",
       "        vertical-align: top;\n",
       "    }\n",
       "\n",
       "    .dataframe thead th {\n",
       "        text-align: right;\n",
       "    }\n",
       "</style>\n",
       "<table border=\"1\" class=\"dataframe\">\n",
       "  <thead>\n",
       "    <tr style=\"text-align: right;\">\n",
       "      <th></th>\n",
       "      <th>Title</th>\n",
       "      <th>location</th>\n",
       "      <th>CompanyName</th>\n",
       "    </tr>\n",
       "  </thead>\n",
       "  <tbody>\n",
       "    <tr>\n",
       "      <th>0</th>\n",
       "      <td>Data Scientist</td>\n",
       "      <td>Kochi/Cochin, Kolkata, Hyderabad/Secunderabad,...</td>\n",
       "      <td>Think i</td>\n",
       "    </tr>\n",
       "    <tr>\n",
       "      <th>1</th>\n",
       "      <td>Job Opportunity || Data Scientist || HCL Techn...</td>\n",
       "      <td>Delhi / NCR</td>\n",
       "      <td>HCL Technologies</td>\n",
       "    </tr>\n",
       "    <tr>\n",
       "      <th>2</th>\n",
       "      <td>Data Scientist</td>\n",
       "      <td>Noida(Sector-126 Noida)</td>\n",
       "      <td>MoMagic Technologies Pvt. Ltd.</td>\n",
       "    </tr>\n",
       "    <tr>\n",
       "      <th>3</th>\n",
       "      <td>Data Scientist</td>\n",
       "      <td>Noida(Sector-126 Noida)</td>\n",
       "      <td>MoMagic Technologies Pvt. Ltd.</td>\n",
       "    </tr>\n",
       "    <tr>\n",
       "      <th>4</th>\n",
       "      <td>Urgent Hiring || Data Scientist || Delhi</td>\n",
       "      <td>Delhi / NCR(Netaji Subhash Place)</td>\n",
       "      <td>Shriram Automall India Limited</td>\n",
       "    </tr>\n",
       "    <tr>\n",
       "      <th>5</th>\n",
       "      <td>Data Scientist</td>\n",
       "      <td>Noida, Gurgaon/Gurugram</td>\n",
       "      <td>Optum Global Solutions (India) Private Limited</td>\n",
       "    </tr>\n",
       "    <tr>\n",
       "      <th>6</th>\n",
       "      <td>Data Scientist</td>\n",
       "      <td>Noida</td>\n",
       "      <td>SVK Global Solutions Private Limited</td>\n",
       "    </tr>\n",
       "    <tr>\n",
       "      <th>7</th>\n",
       "      <td>Data Scientist Internship</td>\n",
       "      <td>New Delhi</td>\n",
       "      <td>iHackers Inc</td>\n",
       "    </tr>\n",
       "    <tr>\n",
       "      <th>8</th>\n",
       "      <td>Data Scientist</td>\n",
       "      <td>Mumbai, Gurgaon/Gurugram, Bangalore/Bengaluru</td>\n",
       "      <td>Fractal Analytics</td>\n",
       "    </tr>\n",
       "    <tr>\n",
       "      <th>9</th>\n",
       "      <td>Project Manager | Team Leader | Senior Data Sc...</td>\n",
       "      <td>Remote</td>\n",
       "      <td>Tidyquant (OPC) Private Limited</td>\n",
       "    </tr>\n",
       "  </tbody>\n",
       "</table>\n",
       "</div>"
      ],
      "text/plain": [
       "                                               Title  \\\n",
       "0                                     Data Scientist   \n",
       "1  Job Opportunity || Data Scientist || HCL Techn...   \n",
       "2                                     Data Scientist   \n",
       "3                                     Data Scientist   \n",
       "4           Urgent Hiring || Data Scientist || Delhi   \n",
       "5                                     Data Scientist   \n",
       "6                                     Data Scientist   \n",
       "7                          Data Scientist Internship   \n",
       "8                                     Data Scientist   \n",
       "9  Project Manager | Team Leader | Senior Data Sc...   \n",
       "\n",
       "                                            location  \\\n",
       "0  Kochi/Cochin, Kolkata, Hyderabad/Secunderabad,...   \n",
       "1                                        Delhi / NCR   \n",
       "2                            Noida(Sector-126 Noida)   \n",
       "3                            Noida(Sector-126 Noida)   \n",
       "4                  Delhi / NCR(Netaji Subhash Place)   \n",
       "5                            Noida, Gurgaon/Gurugram   \n",
       "6                                              Noida   \n",
       "7                                          New Delhi   \n",
       "8      Mumbai, Gurgaon/Gurugram, Bangalore/Bengaluru   \n",
       "9                                             Remote   \n",
       "\n",
       "                                      CompanyName  \n",
       "0                                         Think i  \n",
       "1                                HCL Technologies  \n",
       "2                  MoMagic Technologies Pvt. Ltd.  \n",
       "3                  MoMagic Technologies Pvt. Ltd.  \n",
       "4                  Shriram Automall India Limited  \n",
       "5  Optum Global Solutions (India) Private Limited  \n",
       "6            SVK Global Solutions Private Limited  \n",
       "7                                    iHackers Inc  \n",
       "8                               Fractal Analytics  \n",
       "9                 Tidyquant (OPC) Private Limited  "
      ]
     },
     "execution_count": 476,
     "metadata": {},
     "output_type": "execute_result"
    }
   ],
   "source": [
    "# creating data frame\n",
    "jobs=pd.DataFrame({})\n",
    "jobs['Title']=job_title[0:10]\n",
    "jobs['location']=job_location[0:10]\n",
    "jobs['CompanyName']=company_name[0:10]\n",
    "\n",
    "jobs"
   ]
  },
  {
   "cell_type": "markdown",
   "id": "10125f74",
   "metadata": {},
   "source": [
    "Q4.To scrape the data you have to go through following steps:\n",
    "1. Go to Flipkart webpage by url : https://www.flipkart.com/\n",
    "2. Enter “sunglasses” in the search field where “search for products, brands andmore” is written and\n",
    "click the search icon\n",
    "3. After that you will reach to the page having a lot of sunglasses. From this pageyou can scrap the\n",
    "required data as usual.\n",
    "4. After scraping data from the first page, go to the “Next” Button at the bottom ofthe page , then click on it.\n",
    "5. Now scrape data from this page as usual\n",
    "6. Repeat this until you get data for 100 sunglasses."
   ]
  },
  {
   "cell_type": "code",
   "execution_count": 377,
   "id": "a8a929ce",
   "metadata": {},
   "outputs": [],
   "source": [
    "driver.get(\"https://www.flipkart.com/\")\n",
    "url=\"https://www.flipkart.com/search?q=SUNGLASSES&otracker=search&otracker1=search&marketplace=FLIPKART&as-show=on&as=off\"\n",
    "driver.get(url)"
   ]
  },
  {
   "cell_type": "code",
   "execution_count": 378,
   "id": "8ffcf0ab",
   "metadata": {},
   "outputs": [],
   "source": [
    "#creating empty list\n",
    "brand=[]\n",
    "pro_des=[]\n",
    "price=[]\n",
    "discount=[]\n"
   ]
  },
  {
   "cell_type": "code",
   "execution_count": 588,
   "id": "7c919319",
   "metadata": {},
   "outputs": [
    {
     "name": "stderr",
     "output_type": "stream",
     "text": [
      "<ipython-input-588-6223535dbc23>:1: DeprecationWarning: find_elements_by_* commands are deprecated. Please use find_elements() instead\n",
      "  title_tags=driver.find_elements_by_xpath(\"//a[@class='_2WkVRV']\")\n",
      "<ipython-input-588-6223535dbc23>:8: DeprecationWarning: find_elements_by_* commands are deprecated. Please use find_elements() instead\n",
      "  nxt_button=driver.find_elements_by_xpath(\"//a[@class='_1LKTO3']\")#scraping the list of buttons from the page\n"
     ]
    },
    {
     "data": {
      "text/plain": [
       "['povty',\n",
       " 'Fastrack',\n",
       " 'ROYAL SON',\n",
       " 'Fastrack',\n",
       " 'GANSTA',\n",
       " 'GANSTA',\n",
       " 'ROZZETTA CRAFT',\n",
       " 'Fastrack',\n",
       " 'New Specs',\n",
       " 'PHENOMENAL',\n",
       " 'hipe',\n",
       " 'ROYAL SON',\n",
       " 'SUNBEE',\n",
       " 'kingsunglasses',\n",
       " 'PIRASO',\n",
       " 'Fastrack',\n",
       " 'PHENOMENAL',\n",
       " 'GANSTA',\n",
       " 'elegante',\n",
       " 'Fastrack',\n",
       " 'MAXX',\n",
       " 'kingsunglasses',\n",
       " 'ROZZETTA CRAFT',\n",
       " 'Fravy',\n",
       " 'Silver Kartz',\n",
       " 'Elligator',\n",
       " 'SUNBEE',\n",
       " 'Fastrack',\n",
       " 'kingsunglasses',\n",
       " 'ROZZETTA CRAFT',\n",
       " 'Rich Club',\n",
       " 'Fastrack',\n",
       " 'kingsunglasses',\n",
       " 'Singco India',\n",
       " 'SHAAH COLLECTIONS',\n",
       " 'Fastrack',\n",
       " 'DEIXELS',\n",
       " 'PIRASO',\n",
       " 'elegante',\n",
       " 'Fastrack',\n",
       " 'povty',\n",
       " 'Fastrack',\n",
       " 'ROYAL SON',\n",
       " 'Fastrack',\n",
       " 'GANSTA',\n",
       " 'GANSTA',\n",
       " 'ROZZETTA CRAFT',\n",
       " 'Fastrack',\n",
       " 'New Specs',\n",
       " 'PHENOMENAL',\n",
       " 'hipe',\n",
       " 'ROYAL SON',\n",
       " 'SUNBEE',\n",
       " 'kingsunglasses',\n",
       " 'PIRASO',\n",
       " 'Fastrack',\n",
       " 'PHENOMENAL',\n",
       " 'GANSTA',\n",
       " 'elegante',\n",
       " 'Fastrack',\n",
       " 'MAXX',\n",
       " 'kingsunglasses',\n",
       " 'ROZZETTA CRAFT',\n",
       " 'Fravy',\n",
       " 'Silver Kartz',\n",
       " 'Elligator',\n",
       " 'SUNBEE',\n",
       " 'Fastrack',\n",
       " 'kingsunglasses',\n",
       " 'ROZZETTA CRAFT',\n",
       " 'Rich Club',\n",
       " 'Fastrack',\n",
       " 'kingsunglasses',\n",
       " 'Singco India',\n",
       " 'SHAAH COLLECTIONS',\n",
       " 'Fastrack',\n",
       " 'DEIXELS',\n",
       " 'PIRASO',\n",
       " 'elegante',\n",
       " 'Fastrack',\n",
       " 'povty',\n",
       " 'Fastrack',\n",
       " 'ROYAL SON',\n",
       " 'Fastrack',\n",
       " 'GANSTA',\n",
       " 'GANSTA',\n",
       " 'ROZZETTA CRAFT',\n",
       " 'Fastrack',\n",
       " 'New Specs',\n",
       " 'PHENOMENAL',\n",
       " 'hipe',\n",
       " 'ROYAL SON',\n",
       " 'SUNBEE',\n",
       " 'kingsunglasses',\n",
       " 'PIRASO',\n",
       " 'Fastrack',\n",
       " 'PHENOMENAL',\n",
       " 'GANSTA',\n",
       " 'elegante',\n",
       " 'Fastrack',\n",
       " 'MAXX',\n",
       " 'kingsunglasses',\n",
       " 'ROZZETTA CRAFT',\n",
       " 'Fravy',\n",
       " 'Silver Kartz',\n",
       " 'Elligator',\n",
       " 'SUNBEE',\n",
       " 'Fastrack',\n",
       " 'kingsunglasses',\n",
       " 'ROZZETTA CRAFT',\n",
       " 'Rich Club',\n",
       " 'Fastrack',\n",
       " 'kingsunglasses',\n",
       " 'Singco India',\n",
       " 'SHAAH COLLECTIONS',\n",
       " 'Fastrack',\n",
       " 'DEIXELS',\n",
       " 'PIRASO',\n",
       " 'elegante',\n",
       " 'Fastrack']"
      ]
     },
     "execution_count": 588,
     "metadata": {},
     "output_type": "execute_result"
    }
   ],
   "source": [
    "#extracting and scraping brand name of sunglasses using exception\n",
    "title_tags=driver.find_elements_by_xpath(\"//a[@class='_2WkVRV']\")\n",
    "title_tags\n",
    "for i in title_tags:\n",
    "    titles=i.text\n",
    "    brand.append(titles)\n",
    "brand\n",
    "\n",
    "nxt_button=driver.find_elements_by_xpath(\"//a[@class='_1LKTO3']\")#scraping the list of buttons from the page\n",
    "try:\n",
    "        \n",
    "\n",
    "    driver.get(nxt_button[1].get_attribute('href'))#getting the link from the list for next page\n",
    "\n",
    "except:\n",
    "\n",
    "        driver.get(nxt_button[0].get_attribute('href'))\n",
    "brand"
   ]
  },
  {
   "cell_type": "code",
   "execution_count": 383,
   "id": "73c33bcf",
   "metadata": {},
   "outputs": [
    {
     "name": "stderr",
     "output_type": "stream",
     "text": [
      "<ipython-input-383-44a8298c4e26>:7: DeprecationWarning: find_elements_by_* commands are deprecated. Please use find_elements() instead\n",
      "  brands=driver.find_elements_by_class_name('IRpwTa')#scraping brands name by class name='_2WkVRV'\n"
     ]
    },
    {
     "data": {
      "text/plain": [
       "['UV Protection Retro Square Sunglasses (Free Size)',\n",
       " 'UV Protection Wayfarer Sunglasses (55)',\n",
       " 'Mirrored Aviator Sunglasses (55)',\n",
       " 'UV Protection Rectangular Sunglasses (Free Size)',\n",
       " 'UV Protection, Night Vision, Riding Glasses Aviator Sun...',\n",
       " 'UV Protection, Riding Glasses Wayfarer Sunglasses (53)',\n",
       " 'UV Protection, Gradient Retro Square Sunglasses (Free S...',\n",
       " 'UV Protection Aviator Sunglasses (58)',\n",
       " 'UV Protection Rectangular Sunglasses (Free Size)',\n",
       " 'UV Protection, Mirrored Retro Square Sunglasses (Free S...',\n",
       " 'UV Protection, Night Vision, Gradient, Mirrored Round, ...',\n",
       " 'UV Protection Retro Square Sunglasses (60)',\n",
       " 'UV Protection, Polarized, Mirrored Retro Square Sunglas...',\n",
       " 'UV Protection, Mirrored Round Sunglasses (54)',\n",
       " 'UV Protection Butterfly Sunglasses (65)',\n",
       " 'UV Protection Aviator Sunglasses (58)',\n",
       " 'UV Protection, Mirrored Retro Square Sunglasses (53)',\n",
       " 'UV Protection Rectangular Sunglasses (60)',\n",
       " 'Mirrored Round Sunglasses (Free Size)',\n",
       " 'UV Protection Wayfarer Sunglasses (Free Size)',\n",
       " 'UV Protection Aviator Sunglasses (Free Size)',\n",
       " 'UV Protection, Night Vision Wayfarer Sunglasses (Free S...',\n",
       " 'UV Protection Rectangular Sunglasses (Free Size)',\n",
       " 'UV Protection Retro Square Sunglasses (Free Size)',\n",
       " 'UV Protection Oval Sunglasses (56)',\n",
       " 'Mirrored Round Sunglasses (53)',\n",
       " 'UV Protection, Polarized Wayfarer Sunglasses (Free Size...',\n",
       " 'UV Protection Wayfarer Sunglasses (57)',\n",
       " 'UV Protection Round Sunglasses (Free Size)',\n",
       " 'UV Protection, Gradient Round Sunglasses (Free Size)',\n",
       " 'Polarized Round Sunglasses (48)',\n",
       " 'UV Protection Wayfarer Sunglasses (Free Size)',\n",
       " 'UV Protection, Mirrored Aviator Sunglasses (Free Size)',\n",
       " 'UV Protection Round Sunglasses (Free Size)',\n",
       " 'UV Protection Round Sunglasses (Free Size)',\n",
       " 'UV Protection Wayfarer Sunglasses (Free Size)',\n",
       " 'Polarized, UV Protection, Riding Glasses Wayfarer Sungl...',\n",
       " 'UV Protection Wayfarer Sunglasses (32)',\n",
       " 'UV Protection Round Sunglasses (Free Size)',\n",
       " 'UV Protection Aviator Sunglasses (Free Size)',\n",
       " 'UV Protection Retro Square Sunglasses (Free Size)',\n",
       " 'UV Protection Wayfarer Sunglasses (55)',\n",
       " 'Mirrored Aviator Sunglasses (55)',\n",
       " 'UV Protection Rectangular Sunglasses (Free Size)',\n",
       " 'UV Protection, Night Vision, Riding Glasses Aviator Sun...',\n",
       " 'UV Protection, Riding Glasses Wayfarer Sunglasses (53)',\n",
       " 'UV Protection, Gradient Retro Square Sunglasses (Free S...',\n",
       " 'UV Protection Aviator Sunglasses (58)',\n",
       " 'UV Protection Rectangular Sunglasses (Free Size)',\n",
       " 'UV Protection, Mirrored Retro Square Sunglasses (Free S...',\n",
       " 'UV Protection, Night Vision, Gradient, Mirrored Round, ...',\n",
       " 'UV Protection Retro Square Sunglasses (60)',\n",
       " 'UV Protection, Polarized, Mirrored Retro Square Sunglas...',\n",
       " 'UV Protection, Mirrored Round Sunglasses (54)',\n",
       " 'UV Protection Butterfly Sunglasses (65)',\n",
       " 'UV Protection Aviator Sunglasses (58)',\n",
       " 'UV Protection, Mirrored Retro Square Sunglasses (53)',\n",
       " 'UV Protection Rectangular Sunglasses (60)',\n",
       " 'Mirrored Round Sunglasses (Free Size)',\n",
       " 'UV Protection Wayfarer Sunglasses (Free Size)',\n",
       " 'UV Protection Aviator Sunglasses (Free Size)',\n",
       " 'UV Protection, Night Vision Wayfarer Sunglasses (Free S...',\n",
       " 'UV Protection Rectangular Sunglasses (Free Size)',\n",
       " 'UV Protection Retro Square Sunglasses (Free Size)',\n",
       " 'UV Protection Oval Sunglasses (56)',\n",
       " 'Mirrored Round Sunglasses (53)',\n",
       " 'UV Protection, Polarized Wayfarer Sunglasses (Free Size...',\n",
       " 'UV Protection Wayfarer Sunglasses (57)',\n",
       " 'UV Protection Round Sunglasses (Free Size)',\n",
       " 'UV Protection, Gradient Round Sunglasses (Free Size)',\n",
       " 'Polarized Round Sunglasses (48)',\n",
       " 'UV Protection Wayfarer Sunglasses (Free Size)',\n",
       " 'UV Protection, Mirrored Aviator Sunglasses (Free Size)',\n",
       " 'UV Protection Round Sunglasses (Free Size)',\n",
       " 'UV Protection Round Sunglasses (Free Size)',\n",
       " 'UV Protection Wayfarer Sunglasses (Free Size)',\n",
       " 'Polarized, UV Protection, Riding Glasses Wayfarer Sungl...',\n",
       " 'UV Protection Wayfarer Sunglasses (32)',\n",
       " 'UV Protection Round Sunglasses (Free Size)',\n",
       " 'UV Protection Aviator Sunglasses (Free Size)',\n",
       " 'UV Protection Retro Square Sunglasses (Free Size)',\n",
       " 'UV Protection Wayfarer Sunglasses (55)',\n",
       " 'Mirrored Aviator Sunglasses (55)',\n",
       " 'UV Protection Rectangular Sunglasses (Free Size)',\n",
       " 'UV Protection, Night Vision, Riding Glasses Aviator Sun...',\n",
       " 'UV Protection, Riding Glasses Wayfarer Sunglasses (53)',\n",
       " 'UV Protection, Gradient Retro Square Sunglasses (Free S...',\n",
       " 'UV Protection Aviator Sunglasses (58)',\n",
       " 'UV Protection Rectangular Sunglasses (Free Size)',\n",
       " 'UV Protection, Mirrored Retro Square Sunglasses (Free S...',\n",
       " 'UV Protection, Night Vision, Gradient, Mirrored Round, ...',\n",
       " 'UV Protection Retro Square Sunglasses (60)',\n",
       " 'UV Protection, Polarized, Mirrored Retro Square Sunglas...',\n",
       " 'UV Protection, Mirrored Round Sunglasses (54)',\n",
       " 'UV Protection Butterfly Sunglasses (65)',\n",
       " 'UV Protection Aviator Sunglasses (58)',\n",
       " 'UV Protection, Mirrored Retro Square Sunglasses (53)',\n",
       " 'UV Protection Rectangular Sunglasses (60)',\n",
       " 'Mirrored Round Sunglasses (Free Size)',\n",
       " 'UV Protection Wayfarer Sunglasses (Free Size)']"
      ]
     },
     "execution_count": 383,
     "metadata": {},
     "output_type": "execute_result"
    }
   ],
   "source": [
    "# extracting product description and scraping data for products\n",
    "start=0\n",
    "\n",
    "end=3\n",
    "\n",
    "for page in range(start,end):#for loop for scrapping 4 page\n",
    "\n",
    "    brands=driver.find_elements_by_class_name('IRpwTa')#scraping brands name by class name='IRpwTa'\n",
    "\n",
    "    for i in brands[0:100]:\n",
    "\n",
    "        pro_des.append(i.text)\n",
    "pro_des[0:100]"
   ]
  },
  {
   "cell_type": "code",
   "execution_count": 385,
   "id": "7d1e9dac",
   "metadata": {},
   "outputs": [
    {
     "name": "stderr",
     "output_type": "stream",
     "text": [
      "<ipython-input-385-0409e49e9177>:7: DeprecationWarning: find_elements_by_* commands are deprecated. Please use find_elements() instead\n",
      "  brands=driver.find_elements_by_class_name('_30jeq3')#scraping brands name by class name='_2WkVRV'\n"
     ]
    },
    {
     "data": {
      "text/plain": [
       "['₹339',\n",
       " '₹694',\n",
       " '₹359',\n",
       " '₹513',\n",
       " '₹295',\n",
       " '₹209',\n",
       " '₹325',\n",
       " '₹1,085',\n",
       " '₹199',\n",
       " '₹329',\n",
       " '₹189',\n",
       " '₹664',\n",
       " '₹258',\n",
       " '₹219',\n",
       " '₹359',\n",
       " '₹1,059',\n",
       " '₹329',\n",
       " '₹186',\n",
       " '₹340',\n",
       " '₹733',\n",
       " '₹175',\n",
       " '₹299',\n",
       " '₹379',\n",
       " '₹299',\n",
       " '₹284',\n",
       " '₹263',\n",
       " '₹276',\n",
       " '₹503',\n",
       " '₹299',\n",
       " '₹449',\n",
       " '₹179',\n",
       " '₹758',\n",
       " '₹249',\n",
       " '₹229',\n",
       " '₹299',\n",
       " '₹822',\n",
       " '₹249',\n",
       " '₹200',\n",
       " '₹399',\n",
       " '₹689',\n",
       " '₹284',\n",
       " '₹758',\n",
       " '₹229',\n",
       " '₹325',\n",
       " '₹186',\n",
       " '₹339',\n",
       " '₹694',\n",
       " '₹359',\n",
       " '₹513',\n",
       " '₹295',\n",
       " '₹209',\n",
       " '₹325',\n",
       " '₹1,085',\n",
       " '₹199',\n",
       " '₹329',\n",
       " '₹189',\n",
       " '₹664',\n",
       " '₹258',\n",
       " '₹219',\n",
       " '₹359',\n",
       " '₹1,059',\n",
       " '₹329',\n",
       " '₹186',\n",
       " '₹340',\n",
       " '₹733',\n",
       " '₹175',\n",
       " '₹299',\n",
       " '₹379',\n",
       " '₹299',\n",
       " '₹284',\n",
       " '₹263',\n",
       " '₹276',\n",
       " '₹503',\n",
       " '₹299',\n",
       " '₹449',\n",
       " '₹179',\n",
       " '₹758',\n",
       " '₹249',\n",
       " '₹229',\n",
       " '₹299',\n",
       " '₹822',\n",
       " '₹249',\n",
       " '₹200',\n",
       " '₹399',\n",
       " '₹689',\n",
       " '₹284',\n",
       " '₹758',\n",
       " '₹229',\n",
       " '₹325',\n",
       " '₹186',\n",
       " '₹339',\n",
       " '₹694',\n",
       " '₹359',\n",
       " '₹513',\n",
       " '₹295',\n",
       " '₹209',\n",
       " '₹325',\n",
       " '₹1,085',\n",
       " '₹199',\n",
       " '₹329']"
      ]
     },
     "execution_count": 385,
     "metadata": {},
     "output_type": "execute_result"
    }
   ],
   "source": [
    "# extracting price of sunglasses\n",
    "start=0\n",
    "\n",
    "end=3\n",
    "\n",
    "for page in range(start,end):#for loop for scrapping 4 page\n",
    "\n",
    "    brands=driver.find_elements_by_class_name('_30jeq3')#scraping brands name by class name='_30jeq3'\n",
    "\n",
    "    for i in brands[0:100]:\n",
    "\n",
    "        price.append(i.text)\n",
    "price[0:100]"
   ]
  },
  {
   "cell_type": "code",
   "execution_count": 387,
   "id": "1161a310",
   "metadata": {},
   "outputs": [
    {
     "name": "stderr",
     "output_type": "stream",
     "text": [
      "<ipython-input-387-d81ebfa80e0a>:7: DeprecationWarning: find_elements_by_* commands are deprecated. Please use find_elements() instead\n",
      "  brands=driver.find_elements_by_class_name('_3Ay6Sb')#scraping brands name by class name='_2WkVRV'\n"
     ]
    },
    {
     "data": {
      "text/plain": [
       "['66% off',\n",
       " '13% off',\n",
       " '76% off',\n",
       " '35% off',\n",
       " '85% off',\n",
       " '88% off',\n",
       " '83% off',\n",
       " '16% off',\n",
       " '86% off',\n",
       " '83% off',\n",
       " '81% off',\n",
       " '66% off',\n",
       " '80% off',\n",
       " '81% off',\n",
       " '86% off',\n",
       " '18% off',\n",
       " '83% off',\n",
       " '85% off',\n",
       " '82% off',\n",
       " '18% off',\n",
       " '80% off',\n",
       " '82% off',\n",
       " '74% off',\n",
       " '80% off',\n",
       " '76% off',\n",
       " '89% off',\n",
       " '78% off',\n",
       " '37% off',\n",
       " '81% off',\n",
       " '77% off',\n",
       " '64% off',\n",
       " '15% off',\n",
       " '86% off',\n",
       " '77% off',\n",
       " '82% off',\n",
       " '8% off',\n",
       " '58% off',\n",
       " '87% off',\n",
       " '80% off',\n",
       " '23% off',\n",
       " '76% off',\n",
       " '15% off',\n",
       " '77% off',\n",
       " '83% off',\n",
       " '85% off',\n",
       " '66% off',\n",
       " '13% off',\n",
       " '76% off',\n",
       " '35% off',\n",
       " '85% off',\n",
       " '88% off',\n",
       " '83% off',\n",
       " '16% off',\n",
       " '86% off',\n",
       " '83% off',\n",
       " '81% off',\n",
       " '66% off',\n",
       " '80% off',\n",
       " '81% off',\n",
       " '86% off',\n",
       " '18% off',\n",
       " '83% off',\n",
       " '85% off',\n",
       " '82% off',\n",
       " '18% off',\n",
       " '80% off',\n",
       " '82% off',\n",
       " '74% off',\n",
       " '80% off',\n",
       " '76% off',\n",
       " '89% off',\n",
       " '78% off',\n",
       " '37% off',\n",
       " '81% off',\n",
       " '77% off',\n",
       " '64% off',\n",
       " '15% off',\n",
       " '86% off',\n",
       " '77% off',\n",
       " '82% off',\n",
       " '8% off',\n",
       " '58% off',\n",
       " '87% off',\n",
       " '80% off',\n",
       " '23% off',\n",
       " '76% off',\n",
       " '15% off',\n",
       " '77% off',\n",
       " '83% off',\n",
       " '85% off',\n",
       " '66% off',\n",
       " '13% off',\n",
       " '76% off',\n",
       " '35% off',\n",
       " '85% off',\n",
       " '88% off',\n",
       " '83% off',\n",
       " '16% off',\n",
       " '86% off',\n",
       " '83% off']"
      ]
     },
     "execution_count": 387,
     "metadata": {},
     "output_type": "execute_result"
    }
   ],
   "source": [
    "#extracting discount on that price\n",
    "start=0\n",
    "\n",
    "end=3\n",
    "\n",
    "for page in range(start,end):#for loop for scrapping 4 page\n",
    "\n",
    "    brands=driver.find_elements_by_class_name('_3Ay6Sb')#scraping brands name by class name='_3Ay6Sb'\n",
    "\n",
    "    for i in brands[0:100]:\n",
    "\n",
    "        discount.append(i.text)\n",
    "discount[0:100]"
   ]
  },
  {
   "cell_type": "markdown",
   "id": "7eb131e4",
   "metadata": {},
   "source": [
    "# 4.creating DataFrame"
   ]
  },
  {
   "cell_type": "code",
   "execution_count": 389,
   "id": "9fba3d1b",
   "metadata": {},
   "outputs": [
    {
     "data": {
      "text/html": [
       "<div>\n",
       "<style scoped>\n",
       "    .dataframe tbody tr th:only-of-type {\n",
       "        vertical-align: middle;\n",
       "    }\n",
       "\n",
       "    .dataframe tbody tr th {\n",
       "        vertical-align: top;\n",
       "    }\n",
       "\n",
       "    .dataframe thead th {\n",
       "        text-align: right;\n",
       "    }\n",
       "</style>\n",
       "<table border=\"1\" class=\"dataframe\">\n",
       "  <thead>\n",
       "    <tr style=\"text-align: right;\">\n",
       "      <th></th>\n",
       "      <th>brand</th>\n",
       "      <th>pro_des</th>\n",
       "      <th>price</th>\n",
       "      <th>discount</th>\n",
       "    </tr>\n",
       "  </thead>\n",
       "  <tbody>\n",
       "    <tr>\n",
       "      <th>0</th>\n",
       "      <td>povty</td>\n",
       "      <td>UV Protection Retro Square Sunglasses (Free Size)</td>\n",
       "      <td>₹339</td>\n",
       "      <td>66% off</td>\n",
       "    </tr>\n",
       "    <tr>\n",
       "      <th>1</th>\n",
       "      <td>Fastrack</td>\n",
       "      <td>UV Protection Wayfarer Sunglasses (55)</td>\n",
       "      <td>₹694</td>\n",
       "      <td>13% off</td>\n",
       "    </tr>\n",
       "    <tr>\n",
       "      <th>2</th>\n",
       "      <td>ROYAL SON</td>\n",
       "      <td>Mirrored Aviator Sunglasses (55)</td>\n",
       "      <td>₹359</td>\n",
       "      <td>76% off</td>\n",
       "    </tr>\n",
       "    <tr>\n",
       "      <th>3</th>\n",
       "      <td>Fastrack</td>\n",
       "      <td>UV Protection Rectangular Sunglasses (Free Size)</td>\n",
       "      <td>₹513</td>\n",
       "      <td>35% off</td>\n",
       "    </tr>\n",
       "    <tr>\n",
       "      <th>4</th>\n",
       "      <td>GANSTA</td>\n",
       "      <td>UV Protection, Night Vision, Riding Glasses Av...</td>\n",
       "      <td>₹295</td>\n",
       "      <td>85% off</td>\n",
       "    </tr>\n",
       "    <tr>\n",
       "      <th>...</th>\n",
       "      <td>...</td>\n",
       "      <td>...</td>\n",
       "      <td>...</td>\n",
       "      <td>...</td>\n",
       "    </tr>\n",
       "    <tr>\n",
       "      <th>95</th>\n",
       "      <td>Fastrack</td>\n",
       "      <td>UV Protection Aviator Sunglasses (58)</td>\n",
       "      <td>₹209</td>\n",
       "      <td>88% off</td>\n",
       "    </tr>\n",
       "    <tr>\n",
       "      <th>96</th>\n",
       "      <td>PHENOMENAL</td>\n",
       "      <td>UV Protection, Mirrored Retro Square Sunglasse...</td>\n",
       "      <td>₹325</td>\n",
       "      <td>83% off</td>\n",
       "    </tr>\n",
       "    <tr>\n",
       "      <th>97</th>\n",
       "      <td>GANSTA</td>\n",
       "      <td>UV Protection Rectangular Sunglasses (60)</td>\n",
       "      <td>₹1,085</td>\n",
       "      <td>16% off</td>\n",
       "    </tr>\n",
       "    <tr>\n",
       "      <th>98</th>\n",
       "      <td>elegante</td>\n",
       "      <td>Mirrored Round Sunglasses (Free Size)</td>\n",
       "      <td>₹199</td>\n",
       "      <td>86% off</td>\n",
       "    </tr>\n",
       "    <tr>\n",
       "      <th>99</th>\n",
       "      <td>Fastrack</td>\n",
       "      <td>UV Protection Wayfarer Sunglasses (Free Size)</td>\n",
       "      <td>₹329</td>\n",
       "      <td>83% off</td>\n",
       "    </tr>\n",
       "  </tbody>\n",
       "</table>\n",
       "<p>100 rows × 4 columns</p>\n",
       "</div>"
      ],
      "text/plain": [
       "         brand                                            pro_des   price  \\\n",
       "0        povty  UV Protection Retro Square Sunglasses (Free Size)    ₹339   \n",
       "1     Fastrack             UV Protection Wayfarer Sunglasses (55)    ₹694   \n",
       "2    ROYAL SON                   Mirrored Aviator Sunglasses (55)    ₹359   \n",
       "3     Fastrack   UV Protection Rectangular Sunglasses (Free Size)    ₹513   \n",
       "4       GANSTA  UV Protection, Night Vision, Riding Glasses Av...    ₹295   \n",
       "..         ...                                                ...     ...   \n",
       "95    Fastrack              UV Protection Aviator Sunglasses (58)    ₹209   \n",
       "96  PHENOMENAL  UV Protection, Mirrored Retro Square Sunglasse...    ₹325   \n",
       "97      GANSTA          UV Protection Rectangular Sunglasses (60)  ₹1,085   \n",
       "98    elegante              Mirrored Round Sunglasses (Free Size)    ₹199   \n",
       "99    Fastrack      UV Protection Wayfarer Sunglasses (Free Size)    ₹329   \n",
       "\n",
       "   discount  \n",
       "0   66% off  \n",
       "1   13% off  \n",
       "2   76% off  \n",
       "3   35% off  \n",
       "4   85% off  \n",
       "..      ...  \n",
       "95  88% off  \n",
       "96  83% off  \n",
       "97  16% off  \n",
       "98  86% off  \n",
       "99  83% off  \n",
       "\n",
       "[100 rows x 4 columns]"
      ]
     },
     "execution_count": 389,
     "metadata": {},
     "output_type": "execute_result"
    }
   ],
   "source": [
    "#creating data frame to summarize the details\n",
    "jobs=pd.DataFrame({})\n",
    "jobs['brand']=brand[0:100]\n",
    "jobs['pro_des']=pro_des[0:100]\n",
    "jobs['price']=price[0:100]\n",
    "jobs['discount']=discount[0:100]\n",
    "\n",
    "jobs"
   ]
  },
  {
   "cell_type": "code",
   "execution_count": 390,
   "id": "87d7ed2b",
   "metadata": {},
   "outputs": [],
   "source": [
    "#Q5.Scrape 100 reviews data from flipkart.com for iphone11 phone. You have to go the link:\n",
    "#https://www.flipkart.com/apple-iphone-11-black-64-gb-includes- earpods-power- adapter/p/itm0f37c2240b217?pid=MOBFKCTSVZAXUHGR&lid=LSTMOBFKC TSVZAXUHGREPBFGI&marketplace."
   ]
  },
  {
   "cell_type": "code",
   "execution_count": 63,
   "id": "1eb90312",
   "metadata": {},
   "outputs": [],
   "source": [
    "driver.get(\"https://www.flipkart.com/\")\n",
    "url=\"https://www.flipkart.com/apple-iphone-11-yellow-128-gb/product-reviews/itm7030edc9e100e?pid=MOBFWQ6BWTSBJSHY&lid=LSTMOBFWQ6BWTSBJSHY0EKZKI&marketplace=FLIPKART\"\n",
    "driver.get(url)"
   ]
  },
  {
   "cell_type": "code",
   "execution_count": 67,
   "id": "5c1fef94",
   "metadata": {},
   "outputs": [],
   "source": [
    "#creating empty list\n",
    "Rating=[]\n",
    "Review_summary=[]\n",
    "Full_review=[]"
   ]
  },
  {
   "cell_type": "code",
   "execution_count": null,
   "id": "5c747342",
   "metadata": {},
   "outputs": [],
   "source": []
  },
  {
   "cell_type": "code",
   "execution_count": 75,
   "id": "bad7740a",
   "metadata": {},
   "outputs": [
    {
     "name": "stderr",
     "output_type": "stream",
     "text": [
      "<ipython-input-75-fa847923fabc>:3: DeprecationWarning: find_elements_by_* commands are deprecated. Please use find_elements() instead\n",
      "  title_tags=driver.find_elements_by_xpath(\"//a[@class='_3LWZlK _1BLPMq']\")\n",
      "<ipython-input-75-fa847923fabc>:10: DeprecationWarning: find_elements_by_* commands are deprecated. Please use find_elements() instead\n",
      "  nxt_button=driver.find_elements_by_xpath(\"//a[@class='_1LKTO3']\")#scraping the list of buttons from the page\n"
     ]
    },
    {
     "data": {
      "text/plain": [
       "[]"
      ]
     },
     "execution_count": 75,
     "metadata": {},
     "output_type": "execute_result"
    }
   ],
   "source": [
    "#extracting and scraping rating of iphone11\n",
    "\n",
    "title_tags=driver.find_elements_by_xpath(\"//a[@class='_3LWZlK _1BLPMq']\")\n",
    "title_tags\n",
    "for i in title_tags:\n",
    "    titles=i.text\n",
    "    Rating.append(titles)\n",
    "\n",
    "\n",
    "nxt_button=driver.find_elements_by_xpath(\"//a[@class='_1LKTO3']\")#scraping the list of buttons from the page\n",
    "try:\n",
    "        \n",
    "\n",
    "    driver.get(nxt_button[1].get_attribute('href'))#getting the link from the list for next page\n",
    "\n",
    "except:\n",
    "\n",
    "    driver.get(nxt_button[0].get_attribute('href'))\n",
    "Rating"
   ]
  },
  {
   "cell_type": "code",
   "execution_count": 83,
   "id": "87d3175d",
   "metadata": {},
   "outputs": [
    {
     "name": "stderr",
     "output_type": "stream",
     "text": [
      "<ipython-input-83-29e986912ac2>:9: DeprecationWarning: find_elements_by_* commands are deprecated. Please use find_elements() instead\n",
      "  brands=driver.find_elements_by_class_name('_2-N8zT')#scraping brands name by class name='_2-N8zT'\n"
     ]
    },
    {
     "data": {
      "text/plain": [
       "['Terrific',\n",
       " 'Wonderful',\n",
       " 'Nice product',\n",
       " 'Perfect product!',\n",
       " 'Brilliant',\n",
       " 'Classy product',\n",
       " 'Must buy!',\n",
       " 'Wonderful',\n",
       " 'Good choice',\n",
       " 'Perfect product!',\n",
       " 'Terrific',\n",
       " 'Wonderful',\n",
       " 'Nice product',\n",
       " 'Perfect product!',\n",
       " 'Brilliant',\n",
       " 'Classy product',\n",
       " 'Must buy!',\n",
       " 'Wonderful',\n",
       " 'Good choice',\n",
       " 'Perfect product!',\n",
       " 'Terrific',\n",
       " 'Wonderful',\n",
       " 'Nice product',\n",
       " 'Perfect product!',\n",
       " 'Brilliant',\n",
       " 'Classy product',\n",
       " 'Must buy!',\n",
       " 'Wonderful',\n",
       " 'Good choice',\n",
       " 'Perfect product!',\n",
       " 'Perfect product!',\n",
       " 'Must buy!',\n",
       " 'Fabulous!',\n",
       " 'Mind-blowing purchase',\n",
       " 'Mind-blowing purchase',\n",
       " 'Wonderful',\n",
       " 'Great product',\n",
       " 'Very Good',\n",
       " 'Classy product',\n",
       " 'Perfect product!',\n",
       " 'Perfect product!',\n",
       " 'Must buy!',\n",
       " 'Fabulous!',\n",
       " 'Mind-blowing purchase',\n",
       " 'Mind-blowing purchase',\n",
       " 'Wonderful',\n",
       " 'Great product',\n",
       " 'Very Good',\n",
       " 'Classy product',\n",
       " 'Perfect product!',\n",
       " 'Perfect product!',\n",
       " 'Must buy!',\n",
       " 'Fabulous!',\n",
       " 'Mind-blowing purchase',\n",
       " 'Mind-blowing purchase',\n",
       " 'Wonderful',\n",
       " 'Great product',\n",
       " 'Very Good',\n",
       " 'Classy product',\n",
       " 'Perfect product!',\n",
       " 'Perfect product!',\n",
       " 'Must buy!',\n",
       " 'Fabulous!',\n",
       " 'Mind-blowing purchase',\n",
       " 'Mind-blowing purchase',\n",
       " 'Wonderful',\n",
       " 'Great product',\n",
       " 'Very Good',\n",
       " 'Classy product',\n",
       " 'Perfect product!',\n",
       " 'Perfect product!',\n",
       " 'Must buy!',\n",
       " 'Fabulous!',\n",
       " 'Mind-blowing purchase',\n",
       " 'Mind-blowing purchase',\n",
       " 'Wonderful',\n",
       " 'Great product',\n",
       " 'Very Good',\n",
       " 'Classy product',\n",
       " 'Perfect product!',\n",
       " 'Perfect product!',\n",
       " 'Must buy!',\n",
       " 'Fabulous!',\n",
       " 'Mind-blowing purchase',\n",
       " 'Mind-blowing purchase',\n",
       " 'Wonderful',\n",
       " 'Great product',\n",
       " 'Very Good',\n",
       " 'Classy product',\n",
       " 'Perfect product!',\n",
       " 'Best in the market!',\n",
       " 'Best in the market!',\n",
       " 'Hated it!',\n",
       " 'Hated it!',\n",
       " 'Just okay',\n",
       " 'Fair',\n",
       " 'Worst experience ever!',\n",
       " 'Waste of money!',\n",
       " 'Good quality product',\n",
       " 'Terrific purchase',\n",
       " 'Best in the market!',\n",
       " 'Best in the market!',\n",
       " 'Hated it!',\n",
       " 'Hated it!',\n",
       " 'Just okay',\n",
       " 'Fair',\n",
       " 'Worst experience ever!',\n",
       " 'Waste of money!',\n",
       " 'Good quality product',\n",
       " 'Terrific purchase',\n",
       " 'Best in the market!',\n",
       " 'Best in the market!',\n",
       " 'Hated it!',\n",
       " 'Hated it!',\n",
       " 'Just okay',\n",
       " 'Fair',\n",
       " 'Worst experience ever!',\n",
       " 'Waste of money!',\n",
       " 'Good quality product',\n",
       " 'Terrific purchase']"
      ]
     },
     "execution_count": 83,
     "metadata": {},
     "output_type": "execute_result"
    }
   ],
   "source": [
    "\n",
    "#extracting and scrapping details of review summary\n",
    "\n",
    "start=0\n",
    "\n",
    "end=3\n",
    "\n",
    "for page in range(start,end):#for loop for scrapping 4 page\n",
    "\n",
    "    brands=driver.find_elements_by_class_name('_2-N8zT')#scraping brands name by class name='_2-N8zT'\n",
    "\n",
    "    for i in brands:\n",
    "\n",
    "        Review_summary.append(i.text)\n",
    "Review_summary\n",
    "\n",
    "\n",
    "\n",
    "\n",
    "\n"
   ]
  },
  {
   "cell_type": "code",
   "execution_count": 84,
   "id": "9e8f17fd",
   "metadata": {},
   "outputs": [
    {
     "name": "stderr",
     "output_type": "stream",
     "text": [
      "<ipython-input-84-999b7ddde4ea>:8: DeprecationWarning: find_elements_by_* commands are deprecated. Please use find_elements() instead\n",
      "  brands=driver.find_elements_by_class_name('t-ZTKy')#scraping brands name by class name='_2WkVRV'\n"
     ]
    },
    {
     "data": {
      "text/plain": [
       "['Really worth of money. i just love it. It is the best phone ever.',\n",
       " 'This is my first ever I phone. Before this I was using my google nexus 5. But moving from android to iOS is a great experience. It’s worth at this price. I will highly recommend it if you want to move to iOS. The best part of this phone is it’s camera and it’s battery life. This two things have won my heart. I loved it. Happy to have it in my hand. Still exploring its features. And can’t forget to mention Flipkart service. Very prompt service and fast delivery.',\n",
       " 'Awesome Phone. Slightly high price but worth. Better than iPhone XR.\\nCamera is superb and wide angle camera is very clear.\\n12MP selfie camera is also very good.\\nA13 Chip gives a very good and smooth performance.',\n",
       " 'Battery backup is extraordinary, camera is decent & performance offered by A13 bionic is awsome. The display is good in practical usage like the visibility of display is very good in direct sun light compare to pro models. Iam extremely satisfied for the money I spent.',\n",
       " 'I have migrated from OP 7pro... and trust me, iPhone 11 is totally worth it.. following are the reasons:-\\n1)there is ABSOLUTELY NO ISSUE WITH THE DISPLAY... its crisp, sharp and I found it to be much much better than OP7 pro. Netflix, Prime video all run crisply... you won’t miss a thing. True Tone works flawlessly...the display brightness is perfect. OP have not calibrated their screens properly.\\n2) iPhone 11 series have really good cameras... others have spoken in depth about them.\\n3) bat...\\nREAD MORE',\n",
       " 'Superb Product !!!\\nA big and worthy upgrade from mi 3S to iphone 11 .\\nTotally loved it !',\n",
       " 'It’s an amazing product from apple and the camera is simply superb. Phone is faster.Night shot is simply superb and detailing and colour differentiation from camera is an added advantage\\n\\nThis review I have written from iPhone 11 only and I am glad to say outside.\\n\\nCons wise if we see HD+ display only, no battery percentage indicator as in older iPhone 8.\\nNo assistive touch control button in it\\nNo oleophobic coating on back panel glass and finger prints are visible but since I bought mint gr...\\nREAD MORE',\n",
       " 'I just directly switch from iphone 6s to iphone 11 .The best premium smartphone I recommend to everyone. Excellent quality and colors the iphone have in 11 series.\\nCamera quality is just awesome and the major feel when we hold in our hands. The sound quality and volume is also higher then the previous models.\\nI will recommend to buy iphone 11 instead of pro models , there is nothing much difference as this model contains everything which fulfill our needs.\\n\\nOnly one thing that I dislike abo...\\nREAD MORE',\n",
       " 'Looking so good 👍 😍 super 👌 stylish 😎 phone\\nClean box 📦 good 👍 delivery 👌 fast delivery\\nOriginal box Original iphone 📱 👌 😍😍😍',\n",
       " 'After 1 month use I found camera quality best compared to my previous Samsung note 10+.Display not good as note 10 also charging too slow.Apple should add fast charger like 11 plus and pro.Best phone for daily use',\n",
       " 'Really worth of money. i just love it. It is the best phone ever.',\n",
       " 'This is my first ever I phone. Before this I was using my google nexus 5. But moving from android to iOS is a great experience. It’s worth at this price. I will highly recommend it if you want to move to iOS. The best part of this phone is it’s camera and it’s battery life. This two things have won my heart. I loved it. Happy to have it in my hand. Still exploring its features. And can’t forget to mention Flipkart service. Very prompt service and fast delivery.',\n",
       " 'Awesome Phone. Slightly high price but worth. Better than iPhone XR.\\nCamera is superb and wide angle camera is very clear.\\n12MP selfie camera is also very good.\\nA13 Chip gives a very good and smooth performance.',\n",
       " 'Battery backup is extraordinary, camera is decent & performance offered by A13 bionic is awsome. The display is good in practical usage like the visibility of display is very good in direct sun light compare to pro models. Iam extremely satisfied for the money I spent.',\n",
       " 'I have migrated from OP 7pro... and trust me, iPhone 11 is totally worth it.. following are the reasons:-\\n1)there is ABSOLUTELY NO ISSUE WITH THE DISPLAY... its crisp, sharp and I found it to be much much better than OP7 pro. Netflix, Prime video all run crisply... you won’t miss a thing. True Tone works flawlessly...the display brightness is perfect. OP have not calibrated their screens properly.\\n2) iPhone 11 series have really good cameras... others have spoken in depth about them.\\n3) bat...\\nREAD MORE',\n",
       " 'Superb Product !!!\\nA big and worthy upgrade from mi 3S to iphone 11 .\\nTotally loved it !',\n",
       " 'It’s an amazing product from apple and the camera is simply superb. Phone is faster.Night shot is simply superb and detailing and colour differentiation from camera is an added advantage\\n\\nThis review I have written from iPhone 11 only and I am glad to say outside.\\n\\nCons wise if we see HD+ display only, no battery percentage indicator as in older iPhone 8.\\nNo assistive touch control button in it\\nNo oleophobic coating on back panel glass and finger prints are visible but since I bought mint gr...\\nREAD MORE',\n",
       " 'I just directly switch from iphone 6s to iphone 11 .The best premium smartphone I recommend to everyone. Excellent quality and colors the iphone have in 11 series.\\nCamera quality is just awesome and the major feel when we hold in our hands. The sound quality and volume is also higher then the previous models.\\nI will recommend to buy iphone 11 instead of pro models , there is nothing much difference as this model contains everything which fulfill our needs.\\n\\nOnly one thing that I dislike abo...\\nREAD MORE',\n",
       " 'Looking so good 👍 😍 super 👌 stylish 😎 phone\\nClean box 📦 good 👍 delivery 👌 fast delivery\\nOriginal box Original iphone 📱 👌 😍😍😍',\n",
       " 'After 1 month use I found camera quality best compared to my previous Samsung note 10+.Display not good as note 10 also charging too slow.Apple should add fast charger like 11 plus and pro.Best phone for daily use',\n",
       " 'Really worth of money. i just love it. It is the best phone ever.',\n",
       " 'This is my first ever I phone. Before this I was using my google nexus 5. But moving from android to iOS is a great experience. It’s worth at this price. I will highly recommend it if you want to move to iOS. The best part of this phone is it’s camera and it’s battery life. This two things have won my heart. I loved it. Happy to have it in my hand. Still exploring its features. And can’t forget to mention Flipkart service. Very prompt service and fast delivery.',\n",
       " 'Awesome Phone. Slightly high price but worth. Better than iPhone XR.\\nCamera is superb and wide angle camera is very clear.\\n12MP selfie camera is also very good.\\nA13 Chip gives a very good and smooth performance.',\n",
       " 'Battery backup is extraordinary, camera is decent & performance offered by A13 bionic is awsome. The display is good in practical usage like the visibility of display is very good in direct sun light compare to pro models. Iam extremely satisfied for the money I spent.',\n",
       " 'I have migrated from OP 7pro... and trust me, iPhone 11 is totally worth it.. following are the reasons:-\\n1)there is ABSOLUTELY NO ISSUE WITH THE DISPLAY... its crisp, sharp and I found it to be much much better than OP7 pro. Netflix, Prime video all run crisply... you won’t miss a thing. True Tone works flawlessly...the display brightness is perfect. OP have not calibrated their screens properly.\\n2) iPhone 11 series have really good cameras... others have spoken in depth about them.\\n3) bat...\\nREAD MORE',\n",
       " 'Superb Product !!!\\nA big and worthy upgrade from mi 3S to iphone 11 .\\nTotally loved it !',\n",
       " 'It’s an amazing product from apple and the camera is simply superb. Phone is faster.Night shot is simply superb and detailing and colour differentiation from camera is an added advantage\\n\\nThis review I have written from iPhone 11 only and I am glad to say outside.\\n\\nCons wise if we see HD+ display only, no battery percentage indicator as in older iPhone 8.\\nNo assistive touch control button in it\\nNo oleophobic coating on back panel glass and finger prints are visible but since I bought mint gr...\\nREAD MORE',\n",
       " 'I just directly switch from iphone 6s to iphone 11 .The best premium smartphone I recommend to everyone. Excellent quality and colors the iphone have in 11 series.\\nCamera quality is just awesome and the major feel when we hold in our hands. The sound quality and volume is also higher then the previous models.\\nI will recommend to buy iphone 11 instead of pro models , there is nothing much difference as this model contains everything which fulfill our needs.\\n\\nOnly one thing that I dislike abo...\\nREAD MORE',\n",
       " 'Looking so good 👍 😍 super 👌 stylish 😎 phone\\nClean box 📦 good 👍 delivery 👌 fast delivery\\nOriginal box Original iphone 📱 👌 😍😍😍',\n",
       " 'After 1 month use I found camera quality best compared to my previous Samsung note 10+.Display not good as note 10 also charging too slow.Apple should add fast charger like 11 plus and pro.Best phone for daily use',\n",
       " 'It is just awesome mobile for this price from Apple,\\n\\nAfter 10 days review\\n\\nBattery enough for 1 day even 24*7 Internet will be on and mostly internet usage\\n\\nCamera is just awesome cool , android 64 MP is equal to this just 12 MP\\n\\nA13 Bionic chip will give more high performance without hanging\\n\\nAudio stereo speakers will give Dolby atoms sound with crystal clear\\n\\nVideo recording is like cinematic shots of every sec can be a 4K 60fps. Just awesome this phone\\niPhone 11 loved one',\n",
       " 'Best Apple iPhone that i have bought at a very reasonable price, camera quality is next level just awesome n of superior quality android phones not even close(RIP) to that and also battery is really good but packaging by Flipkart of iPhone was very poor of such a expensive product, firstly im bit worried about the quality of product if i purchased it through online how was the product but i think now this was mine best decision to bought it through Flipkart online because i got genuine Apple...\\nREAD MORE',\n",
       " \"I can say I'm damn impressed with iPhone 11. As they says iPhone 11 have the toughest glass ever in the smartphone which you'll find on the front and back and it's totally smooth. The fit and finish is full apple quality - there's no sense that any cheaping out has happened in the construction. Without saying it's camera features this review won't complete. The iPhone 11 has a dual camera system, consisting of a wide angle len's that's pretty much same as found on the iPhone XR last year, but...\\nREAD MORE\",\n",
       " 'Best Quality Product OF iPhone Series , Sound Quality & Camera quality is very awesome, Battery Life is very Sufficient for 24 hr Backup With Full Internet Access , I love this this Product too much , It is very fast & making me Very fast in all my daily Routine\\nHighlights;\\n1.Camera: 5 STAR\\n2.Video Recording: 5 star\\n3.Night mODE sHOOTING & Camera:4 star\\n4. Audio Quality: Awesome\\n5. Battery : 5 Star\\n6. Touch:5 Star\\n7. Processor: Very Fast\\nThe M...\\nREAD MORE',\n",
       " 'First thanks to Flipkart for this amazing deal and phone is outstanding. I upgraded from iPhone 7 and this is like very big upgrade. But the packaging was very basic I expected a good packaging as they only wrapped one layer of bubble wrap which I don’t think is enough to protect this expensive phone. And I recommend this phone and seller as well.\\n\\nAnd I’m posting this review after using it for 4 days.',\n",
       " 'Superfast delivery by Flipkart. Thanks.\\n\\n1. iPhone 11 is a pretty solid phone for the money you are paying.\\n2. All the bad reviews about the display is confusing. It’s not that bad.\\n3. I switched from a Oneplus 7t. I have no complaints about the display quality of iPhone. Yes, it’s not OLED, so, we are missing on the deep blacks. But that’s it. It is a very colour accurate display. Gets adequately bright and I could not find any pixelation.\\n4. Performance is one of the best, if not best, in ...\\nREAD MORE',\n",
       " \"Again back to apple iphone after a gap of 2-3 years. It's pleasure to use iOS and the quality product by Apple. Iphone 11 still works like a beast in 2021 also. It really capable of doing day to day usage as well as hard core gaming. Battery is awesome. I'm really too much satisfied with it. Apart fto the very gorgious IPS LCD (AMOLED will be better) everything is mind boggling. Iphone💕.\",\n",
       " 'impressive super phone and best in class camera ,sound and face unlock is super fast just see and phone is unlock and fast in daily apps use',\n",
       " 'Well while switching from android to iOS the first thing you need to be careful about is that you will loose all your whatsapp chat backups as both are different operating systems. Camera clarity is awesome and though being an lcd screen clarity and resolution is good. Battery backup is also good unlike previous gen iPhone. So far the experience is good will Padre after a few months of usage.\\n\\nP.S the black is more of a dark grey shade and not jet black',\n",
       " 'In love with this iphone great performance,camera ,battery everything. Go for it have a uncompareble battery backup, no doubts in iPhone camera here You can see the picture which is shot on my iPhone In love with this iphone great performance,camera ,battery everything. Go for it have a uncompareble battery backup, no doubts in iPhone camera here You can see the picture which is shot on my iPhone In love with this iphone great performance,camera ,battery everything. Go for it have a uncompare...\\nREAD MORE',\n",
       " 'It is just awesome mobile for this price from Apple,\\n\\nAfter 10 days review\\n\\nBattery enough for 1 day even 24*7 Internet will be on and mostly internet usage\\n\\nCamera is just awesome cool , android 64 MP is equal to this just 12 MP\\n\\nA13 Bionic chip will give more high performance without hanging\\n\\nAudio stereo speakers will give Dolby atoms sound with crystal clear\\n\\nVideo recording is like cinematic shots of every sec can be a 4K 60fps. Just awesome this phone\\niPhone 11 loved one',\n",
       " 'Best Apple iPhone that i have bought at a very reasonable price, camera quality is next level just awesome n of superior quality android phones not even close(RIP) to that and also battery is really good but packaging by Flipkart of iPhone was very poor of such a expensive product, firstly im bit worried about the quality of product if i purchased it through online how was the product but i think now this was mine best decision to bought it through Flipkart online because i got genuine Apple...\\nREAD MORE',\n",
       " \"I can say I'm damn impressed with iPhone 11. As they says iPhone 11 have the toughest glass ever in the smartphone which you'll find on the front and back and it's totally smooth. The fit and finish is full apple quality - there's no sense that any cheaping out has happened in the construction. Without saying it's camera features this review won't complete. The iPhone 11 has a dual camera system, consisting of a wide angle len's that's pretty much same as found on the iPhone XR last year, but...\\nREAD MORE\",\n",
       " 'Best Quality Product OF iPhone Series , Sound Quality & Camera quality is very awesome, Battery Life is very Sufficient for 24 hr Backup With Full Internet Access , I love this this Product too much , It is very fast & making me Very fast in all my daily Routine\\nHighlights;\\n1.Camera: 5 STAR\\n2.Video Recording: 5 star\\n3.Night mODE sHOOTING & Camera:4 star\\n4. Audio Quality: Awesome\\n5. Battery : 5 Star\\n6. Touch:5 Star\\n7. Processor: Very Fast\\nThe M...\\nREAD MORE',\n",
       " 'First thanks to Flipkart for this amazing deal and phone is outstanding. I upgraded from iPhone 7 and this is like very big upgrade. But the packaging was very basic I expected a good packaging as they only wrapped one layer of bubble wrap which I don’t think is enough to protect this expensive phone. And I recommend this phone and seller as well.\\n\\nAnd I’m posting this review after using it for 4 days.',\n",
       " 'Superfast delivery by Flipkart. Thanks.\\n\\n1. iPhone 11 is a pretty solid phone for the money you are paying.\\n2. All the bad reviews about the display is confusing. It’s not that bad.\\n3. I switched from a Oneplus 7t. I have no complaints about the display quality of iPhone. Yes, it’s not OLED, so, we are missing on the deep blacks. But that’s it. It is a very colour accurate display. Gets adequately bright and I could not find any pixelation.\\n4. Performance is one of the best, if not best, in ...\\nREAD MORE',\n",
       " \"Again back to apple iphone after a gap of 2-3 years. It's pleasure to use iOS and the quality product by Apple. Iphone 11 still works like a beast in 2021 also. It really capable of doing day to day usage as well as hard core gaming. Battery is awesome. I'm really too much satisfied with it. Apart fto the very gorgious IPS LCD (AMOLED will be better) everything is mind boggling. Iphone💕.\",\n",
       " 'impressive super phone and best in class camera ,sound and face unlock is super fast just see and phone is unlock and fast in daily apps use',\n",
       " 'Well while switching from android to iOS the first thing you need to be careful about is that you will loose all your whatsapp chat backups as both are different operating systems. Camera clarity is awesome and though being an lcd screen clarity and resolution is good. Battery backup is also good unlike previous gen iPhone. So far the experience is good will Padre after a few months of usage.\\n\\nP.S the black is more of a dark grey shade and not jet black',\n",
       " 'In love with this iphone great performance,camera ,battery everything. Go for it have a uncompareble battery backup, no doubts in iPhone camera here You can see the picture which is shot on my iPhone In love with this iphone great performance,camera ,battery everything. Go for it have a uncompareble battery backup, no doubts in iPhone camera here You can see the picture which is shot on my iPhone In love with this iphone great performance,camera ,battery everything. Go for it have a uncompare...\\nREAD MORE',\n",
       " 'It is just awesome mobile for this price from Apple,\\n\\nAfter 10 days review\\n\\nBattery enough for 1 day even 24*7 Internet will be on and mostly internet usage\\n\\nCamera is just awesome cool , android 64 MP is equal to this just 12 MP\\n\\nA13 Bionic chip will give more high performance without hanging\\n\\nAudio stereo speakers will give Dolby atoms sound with crystal clear\\n\\nVideo recording is like cinematic shots of every sec can be a 4K 60fps. Just awesome this phone\\niPhone 11 loved one',\n",
       " 'Best Apple iPhone that i have bought at a very reasonable price, camera quality is next level just awesome n of superior quality android phones not even close(RIP) to that and also battery is really good but packaging by Flipkart of iPhone was very poor of such a expensive product, firstly im bit worried about the quality of product if i purchased it through online how was the product but i think now this was mine best decision to bought it through Flipkart online because i got genuine Apple...\\nREAD MORE',\n",
       " \"I can say I'm damn impressed with iPhone 11. As they says iPhone 11 have the toughest glass ever in the smartphone which you'll find on the front and back and it's totally smooth. The fit and finish is full apple quality - there's no sense that any cheaping out has happened in the construction. Without saying it's camera features this review won't complete. The iPhone 11 has a dual camera system, consisting of a wide angle len's that's pretty much same as found on the iPhone XR last year, but...\\nREAD MORE\",\n",
       " 'Best Quality Product OF iPhone Series , Sound Quality & Camera quality is very awesome, Battery Life is very Sufficient for 24 hr Backup With Full Internet Access , I love this this Product too much , It is very fast & making me Very fast in all my daily Routine\\nHighlights;\\n1.Camera: 5 STAR\\n2.Video Recording: 5 star\\n3.Night mODE sHOOTING & Camera:4 star\\n4. Audio Quality: Awesome\\n5. Battery : 5 Star\\n6. Touch:5 Star\\n7. Processor: Very Fast\\nThe M...\\nREAD MORE',\n",
       " 'First thanks to Flipkart for this amazing deal and phone is outstanding. I upgraded from iPhone 7 and this is like very big upgrade. But the packaging was very basic I expected a good packaging as they only wrapped one layer of bubble wrap which I don’t think is enough to protect this expensive phone. And I recommend this phone and seller as well.\\n\\nAnd I’m posting this review after using it for 4 days.',\n",
       " 'Superfast delivery by Flipkart. Thanks.\\n\\n1. iPhone 11 is a pretty solid phone for the money you are paying.\\n2. All the bad reviews about the display is confusing. It’s not that bad.\\n3. I switched from a Oneplus 7t. I have no complaints about the display quality of iPhone. Yes, it’s not OLED, so, we are missing on the deep blacks. But that’s it. It is a very colour accurate display. Gets adequately bright and I could not find any pixelation.\\n4. Performance is one of the best, if not best, in ...\\nREAD MORE',\n",
       " \"Again back to apple iphone after a gap of 2-3 years. It's pleasure to use iOS and the quality product by Apple. Iphone 11 still works like a beast in 2021 also. It really capable of doing day to day usage as well as hard core gaming. Battery is awesome. I'm really too much satisfied with it. Apart fto the very gorgious IPS LCD (AMOLED will be better) everything is mind boggling. Iphone💕.\",\n",
       " 'impressive super phone and best in class camera ,sound and face unlock is super fast just see and phone is unlock and fast in daily apps use',\n",
       " 'Well while switching from android to iOS the first thing you need to be careful about is that you will loose all your whatsapp chat backups as both are different operating systems. Camera clarity is awesome and though being an lcd screen clarity and resolution is good. Battery backup is also good unlike previous gen iPhone. So far the experience is good will Padre after a few months of usage.\\n\\nP.S the black is more of a dark grey shade and not jet black',\n",
       " 'In love with this iphone great performance,camera ,battery everything. Go for it have a uncompareble battery backup, no doubts in iPhone camera here You can see the picture which is shot on my iPhone In love with this iphone great performance,camera ,battery everything. Go for it have a uncompareble battery backup, no doubts in iPhone camera here You can see the picture which is shot on my iPhone In love with this iphone great performance,camera ,battery everything. Go for it have a uncompare...\\nREAD MORE',\n",
       " 'It is just awesome mobile for this price from Apple,\\n\\nAfter 10 days review\\n\\nBattery enough for 1 day even 24*7 Internet will be on and mostly internet usage\\n\\nCamera is just awesome cool , android 64 MP is equal to this just 12 MP\\n\\nA13 Bionic chip will give more high performance without hanging\\n\\nAudio stereo speakers will give Dolby atoms sound with crystal clear\\n\\nVideo recording is like cinematic shots of every sec can be a 4K 60fps. Just awesome this phone\\niPhone 11 loved one',\n",
       " 'Best Apple iPhone that i have bought at a very reasonable price, camera quality is next level just awesome n of superior quality android phones not even close(RIP) to that and also battery is really good but packaging by Flipkart of iPhone was very poor of such a expensive product, firstly im bit worried about the quality of product if i purchased it through online how was the product but i think now this was mine best decision to bought it through Flipkart online because i got genuine Apple...\\nREAD MORE',\n",
       " \"I can say I'm damn impressed with iPhone 11. As they says iPhone 11 have the toughest glass ever in the smartphone which you'll find on the front and back and it's totally smooth. The fit and finish is full apple quality - there's no sense that any cheaping out has happened in the construction. Without saying it's camera features this review won't complete. The iPhone 11 has a dual camera system, consisting of a wide angle len's that's pretty much same as found on the iPhone XR last year, but...\\nREAD MORE\",\n",
       " 'Best Quality Product OF iPhone Series , Sound Quality & Camera quality is very awesome, Battery Life is very Sufficient for 24 hr Backup With Full Internet Access , I love this this Product too much , It is very fast & making me Very fast in all my daily Routine\\nHighlights;\\n1.Camera: 5 STAR\\n2.Video Recording: 5 star\\n3.Night mODE sHOOTING & Camera:4 star\\n4. Audio Quality: Awesome\\n5. Battery : 5 Star\\n6. Touch:5 Star\\n7. Processor: Very Fast\\nThe M...\\nREAD MORE',\n",
       " 'First thanks to Flipkart for this amazing deal and phone is outstanding. I upgraded from iPhone 7 and this is like very big upgrade. But the packaging was very basic I expected a good packaging as they only wrapped one layer of bubble wrap which I don’t think is enough to protect this expensive phone. And I recommend this phone and seller as well.\\n\\nAnd I’m posting this review after using it for 4 days.',\n",
       " 'Superfast delivery by Flipkart. Thanks.\\n\\n1. iPhone 11 is a pretty solid phone for the money you are paying.\\n2. All the bad reviews about the display is confusing. It’s not that bad.\\n3. I switched from a Oneplus 7t. I have no complaints about the display quality of iPhone. Yes, it’s not OLED, so, we are missing on the deep blacks. But that’s it. It is a very colour accurate display. Gets adequately bright and I could not find any pixelation.\\n4. Performance is one of the best, if not best, in ...\\nREAD MORE',\n",
       " \"Again back to apple iphone after a gap of 2-3 years. It's pleasure to use iOS and the quality product by Apple. Iphone 11 still works like a beast in 2021 also. It really capable of doing day to day usage as well as hard core gaming. Battery is awesome. I'm really too much satisfied with it. Apart fto the very gorgious IPS LCD (AMOLED will be better) everything is mind boggling. Iphone💕.\",\n",
       " 'impressive super phone and best in class camera ,sound and face unlock is super fast just see and phone is unlock and fast in daily apps use',\n",
       " 'Well while switching from android to iOS the first thing you need to be careful about is that you will loose all your whatsapp chat backups as both are different operating systems. Camera clarity is awesome and though being an lcd screen clarity and resolution is good. Battery backup is also good unlike previous gen iPhone. So far the experience is good will Padre after a few months of usage.\\n\\nP.S the black is more of a dark grey shade and not jet black',\n",
       " 'In love with this iphone great performance,camera ,battery everything. Go for it have a uncompareble battery backup, no doubts in iPhone camera here You can see the picture which is shot on my iPhone In love with this iphone great performance,camera ,battery everything. Go for it have a uncompareble battery backup, no doubts in iPhone camera here You can see the picture which is shot on my iPhone In love with this iphone great performance,camera ,battery everything. Go for it have a uncompare...\\nREAD MORE',\n",
       " 'It is just awesome mobile for this price from Apple,\\n\\nAfter 10 days review\\n\\nBattery enough for 1 day even 24*7 Internet will be on and mostly internet usage\\n\\nCamera is just awesome cool , android 64 MP is equal to this just 12 MP\\n\\nA13 Bionic chip will give more high performance without hanging\\n\\nAudio stereo speakers will give Dolby atoms sound with crystal clear\\n\\nVideo recording is like cinematic shots of every sec can be a 4K 60fps. Just awesome this phone\\niPhone 11 loved one',\n",
       " 'Best Apple iPhone that i have bought at a very reasonable price, camera quality is next level just awesome n of superior quality android phones not even close(RIP) to that and also battery is really good but packaging by Flipkart of iPhone was very poor of such a expensive product, firstly im bit worried about the quality of product if i purchased it through online how was the product but i think now this was mine best decision to bought it through Flipkart online because i got genuine Apple...\\nREAD MORE',\n",
       " \"I can say I'm damn impressed with iPhone 11. As they says iPhone 11 have the toughest glass ever in the smartphone which you'll find on the front and back and it's totally smooth. The fit and finish is full apple quality - there's no sense that any cheaping out has happened in the construction. Without saying it's camera features this review won't complete. The iPhone 11 has a dual camera system, consisting of a wide angle len's that's pretty much same as found on the iPhone XR last year, but...\\nREAD MORE\",\n",
       " 'Best Quality Product OF iPhone Series , Sound Quality & Camera quality is very awesome, Battery Life is very Sufficient for 24 hr Backup With Full Internet Access , I love this this Product too much , It is very fast & making me Very fast in all my daily Routine\\nHighlights;\\n1.Camera: 5 STAR\\n2.Video Recording: 5 star\\n3.Night mODE sHOOTING & Camera:4 star\\n4. Audio Quality: Awesome\\n5. Battery : 5 Star\\n6. Touch:5 Star\\n7. Processor: Very Fast\\nThe M...\\nREAD MORE',\n",
       " 'First thanks to Flipkart for this amazing deal and phone is outstanding. I upgraded from iPhone 7 and this is like very big upgrade. But the packaging was very basic I expected a good packaging as they only wrapped one layer of bubble wrap which I don’t think is enough to protect this expensive phone. And I recommend this phone and seller as well.\\n\\nAnd I’m posting this review after using it for 4 days.',\n",
       " 'Superfast delivery by Flipkart. Thanks.\\n\\n1. iPhone 11 is a pretty solid phone for the money you are paying.\\n2. All the bad reviews about the display is confusing. It’s not that bad.\\n3. I switched from a Oneplus 7t. I have no complaints about the display quality of iPhone. Yes, it’s not OLED, so, we are missing on the deep blacks. But that’s it. It is a very colour accurate display. Gets adequately bright and I could not find any pixelation.\\n4. Performance is one of the best, if not best, in ...\\nREAD MORE',\n",
       " \"Again back to apple iphone after a gap of 2-3 years. It's pleasure to use iOS and the quality product by Apple. Iphone 11 still works like a beast in 2021 also. It really capable of doing day to day usage as well as hard core gaming. Battery is awesome. I'm really too much satisfied with it. Apart fto the very gorgious IPS LCD (AMOLED will be better) everything is mind boggling. Iphone💕.\",\n",
       " 'impressive super phone and best in class camera ,sound and face unlock is super fast just see and phone is unlock and fast in daily apps use',\n",
       " 'Well while switching from android to iOS the first thing you need to be careful about is that you will loose all your whatsapp chat backups as both are different operating systems. Camera clarity is awesome and though being an lcd screen clarity and resolution is good. Battery backup is also good unlike previous gen iPhone. So far the experience is good will Padre after a few months of usage.\\n\\nP.S the black is more of a dark grey shade and not jet black',\n",
       " 'In love with this iphone great performance,camera ,battery everything. Go for it have a uncompareble battery backup, no doubts in iPhone camera here You can see the picture which is shot on my iPhone In love with this iphone great performance,camera ,battery everything. Go for it have a uncompareble battery backup, no doubts in iPhone camera here You can see the picture which is shot on my iPhone In love with this iphone great performance,camera ,battery everything. Go for it have a uncompare...\\nREAD MORE',\n",
       " 'It is just awesome mobile for this price from Apple,\\n\\nAfter 10 days review\\n\\nBattery enough for 1 day even 24*7 Internet will be on and mostly internet usage\\n\\nCamera is just awesome cool , android 64 MP is equal to this just 12 MP\\n\\nA13 Bionic chip will give more high performance without hanging\\n\\nAudio stereo speakers will give Dolby atoms sound with crystal clear\\n\\nVideo recording is like cinematic shots of every sec can be a 4K 60fps. Just awesome this phone\\niPhone 11 loved one',\n",
       " 'Best Apple iPhone that i have bought at a very reasonable price, camera quality is next level just awesome n of superior quality android phones not even close(RIP) to that and also battery is really good but packaging by Flipkart of iPhone was very poor of such a expensive product, firstly im bit worried about the quality of product if i purchased it through online how was the product but i think now this was mine best decision to bought it through Flipkart online because i got genuine Apple...\\nREAD MORE',\n",
       " \"I can say I'm damn impressed with iPhone 11. As they says iPhone 11 have the toughest glass ever in the smartphone which you'll find on the front and back and it's totally smooth. The fit and finish is full apple quality - there's no sense that any cheaping out has happened in the construction. Without saying it's camera features this review won't complete. The iPhone 11 has a dual camera system, consisting of a wide angle len's that's pretty much same as found on the iPhone XR last year, but...\\nREAD MORE\",\n",
       " 'Best Quality Product OF iPhone Series , Sound Quality & Camera quality is very awesome, Battery Life is very Sufficient for 24 hr Backup With Full Internet Access , I love this this Product too much , It is very fast & making me Very fast in all my daily Routine\\nHighlights;\\n1.Camera: 5 STAR\\n2.Video Recording: 5 star\\n3.Night mODE sHOOTING & Camera:4 star\\n4. Audio Quality: Awesome\\n5. Battery : 5 Star\\n6. Touch:5 Star\\n7. Processor: Very Fast\\nThe M...\\nREAD MORE',\n",
       " 'First thanks to Flipkart for this amazing deal and phone is outstanding. I upgraded from iPhone 7 and this is like very big upgrade. But the packaging was very basic I expected a good packaging as they only wrapped one layer of bubble wrap which I don’t think is enough to protect this expensive phone. And I recommend this phone and seller as well.\\n\\nAnd I’m posting this review after using it for 4 days.',\n",
       " 'Superfast delivery by Flipkart. Thanks.\\n\\n1. iPhone 11 is a pretty solid phone for the money you are paying.\\n2. All the bad reviews about the display is confusing. It’s not that bad.\\n3. I switched from a Oneplus 7t. I have no complaints about the display quality of iPhone. Yes, it’s not OLED, so, we are missing on the deep blacks. But that’s it. It is a very colour accurate display. Gets adequately bright and I could not find any pixelation.\\n4. Performance is one of the best, if not best, in ...\\nREAD MORE',\n",
       " \"Again back to apple iphone after a gap of 2-3 years. It's pleasure to use iOS and the quality product by Apple. Iphone 11 still works like a beast in 2021 also. It really capable of doing day to day usage as well as hard core gaming. Battery is awesome. I'm really too much satisfied with it. Apart fto the very gorgious IPS LCD (AMOLED will be better) everything is mind boggling. Iphone💕.\",\n",
       " 'impressive super phone and best in class camera ,sound and face unlock is super fast just see and phone is unlock and fast in daily apps use',\n",
       " 'Well while switching from android to iOS the first thing you need to be careful about is that you will loose all your whatsapp chat backups as both are different operating systems. Camera clarity is awesome and though being an lcd screen clarity and resolution is good. Battery backup is also good unlike previous gen iPhone. So far the experience is good will Padre after a few months of usage.\\n\\nP.S the black is more of a dark grey shade and not jet black',\n",
       " 'In love with this iphone great performance,camera ,battery everything. Go for it have a uncompareble battery backup, no doubts in iPhone camera here You can see the picture which is shot on my iPhone In love with this iphone great performance,camera ,battery everything. Go for it have a uncompareble battery backup, no doubts in iPhone camera here You can see the picture which is shot on my iPhone In love with this iphone great performance,camera ,battery everything. Go for it have a uncompare...\\nREAD MORE',\n",
       " 'Nice shoe highly recommended\\nIm from Tamil Nadu\\nCoimbatore 16',\n",
       " 'Nice shoe highly recommended\\nIm from Tamil Nadu\\nCoimbatore 16',\n",
       " \"Don't buy this product, poor in quality\",\n",
       " \"Very very poor don't buy any one\",\n",
       " 'Good quality in white but black is not good',\n",
       " \"Not very good ,It's only emergency wear\",\n",
       " 'waste of money\\nproduct does not meet to quality.\\nlooks as if it has been picked up from a heap of rubbish.',\n",
       " 'Very bad , lowest quality',\n",
       " 'shoe is awesome but packaging very bad',\n",
       " 'Nice product....I m very happy because I buy this product',\n",
       " 'Nice shoe highly recommended\\nIm from Tamil Nadu\\nCoimbatore 16',\n",
       " 'Nice shoe highly recommended\\nIm from Tamil Nadu\\nCoimbatore 16',\n",
       " \"Don't buy this product, poor in quality\",\n",
       " \"Very very poor don't buy any one\",\n",
       " 'Good quality in white but black is not good',\n",
       " \"Not very good ,It's only emergency wear\",\n",
       " 'waste of money\\nproduct does not meet to quality.\\nlooks as if it has been picked up from a heap of rubbish.',\n",
       " 'Very bad , lowest quality',\n",
       " 'shoe is awesome but packaging very bad',\n",
       " 'Nice product....I m very happy because I buy this product',\n",
       " 'Nice shoe highly recommended\\nIm from Tamil Nadu\\nCoimbatore 16',\n",
       " 'Nice shoe highly recommended\\nIm from Tamil Nadu\\nCoimbatore 16',\n",
       " \"Don't buy this product, poor in quality\",\n",
       " \"Very very poor don't buy any one\",\n",
       " 'Good quality in white but black is not good',\n",
       " \"Not very good ,It's only emergency wear\",\n",
       " 'waste of money\\nproduct does not meet to quality.\\nlooks as if it has been picked up from a heap of rubbish.',\n",
       " 'Very bad , lowest quality',\n",
       " 'shoe is awesome but packaging very bad',\n",
       " 'Nice product....I m very happy because I buy this product']"
      ]
     },
     "execution_count": 84,
     "metadata": {},
     "output_type": "execute_result"
    }
   ],
   "source": [
    "#extracting and scraping full review\n",
    "start=0\n",
    "\n",
    "end=3\n",
    "\n",
    "for page in range(start,end):#for loop for scrapping 4 page\n",
    "\n",
    "    brands=driver.find_elements_by_class_name('t-ZTKy')#scraping brands name by class name='t-ZTKy'\n",
    "\n",
    "    for i in brands:\n",
    "\n",
    "        Full_review.append(i.text)\n",
    "Full_review"
   ]
  },
  {
   "cell_type": "markdown",
   "id": "936c4a5d",
   "metadata": {},
   "source": [
    "# 5. creating dataframe"
   ]
  },
  {
   "cell_type": "code",
   "execution_count": 85,
   "id": "7c2ae3f7",
   "metadata": {},
   "outputs": [
    {
     "data": {
      "text/html": [
       "<div>\n",
       "<style scoped>\n",
       "    .dataframe tbody tr th:only-of-type {\n",
       "        vertical-align: middle;\n",
       "    }\n",
       "\n",
       "    .dataframe tbody tr th {\n",
       "        vertical-align: top;\n",
       "    }\n",
       "\n",
       "    .dataframe thead th {\n",
       "        text-align: right;\n",
       "    }\n",
       "</style>\n",
       "<table border=\"1\" class=\"dataframe\">\n",
       "  <thead>\n",
       "    <tr style=\"text-align: right;\">\n",
       "      <th></th>\n",
       "      <th>Review_summary</th>\n",
       "      <th>Full_review</th>\n",
       "    </tr>\n",
       "  </thead>\n",
       "  <tbody>\n",
       "    <tr>\n",
       "      <th>0</th>\n",
       "      <td>Terrific</td>\n",
       "      <td>Really worth of money. i just love it. It is t...</td>\n",
       "    </tr>\n",
       "    <tr>\n",
       "      <th>1</th>\n",
       "      <td>Wonderful</td>\n",
       "      <td>This is my first ever I phone. Before this I w...</td>\n",
       "    </tr>\n",
       "    <tr>\n",
       "      <th>2</th>\n",
       "      <td>Nice product</td>\n",
       "      <td>Awesome Phone. Slightly high price but worth. ...</td>\n",
       "    </tr>\n",
       "    <tr>\n",
       "      <th>3</th>\n",
       "      <td>Perfect product!</td>\n",
       "      <td>Battery backup is extraordinary, camera is dec...</td>\n",
       "    </tr>\n",
       "    <tr>\n",
       "      <th>4</th>\n",
       "      <td>Brilliant</td>\n",
       "      <td>I have migrated from OP 7pro... and trust me, ...</td>\n",
       "    </tr>\n",
       "    <tr>\n",
       "      <th>...</th>\n",
       "      <td>...</td>\n",
       "      <td>...</td>\n",
       "    </tr>\n",
       "    <tr>\n",
       "      <th>95</th>\n",
       "      <td>Fair</td>\n",
       "      <td>Not very good ,It's only emergency wear</td>\n",
       "    </tr>\n",
       "    <tr>\n",
       "      <th>96</th>\n",
       "      <td>Worst experience ever!</td>\n",
       "      <td>waste of money\\nproduct does not meet to quali...</td>\n",
       "    </tr>\n",
       "    <tr>\n",
       "      <th>97</th>\n",
       "      <td>Waste of money!</td>\n",
       "      <td>Very bad , lowest quality</td>\n",
       "    </tr>\n",
       "    <tr>\n",
       "      <th>98</th>\n",
       "      <td>Good quality product</td>\n",
       "      <td>shoe is awesome but packaging very bad</td>\n",
       "    </tr>\n",
       "    <tr>\n",
       "      <th>99</th>\n",
       "      <td>Terrific purchase</td>\n",
       "      <td>Nice product....I m very happy because I buy t...</td>\n",
       "    </tr>\n",
       "  </tbody>\n",
       "</table>\n",
       "<p>100 rows × 2 columns</p>\n",
       "</div>"
      ],
      "text/plain": [
       "            Review_summary                                        Full_review\n",
       "0                 Terrific  Really worth of money. i just love it. It is t...\n",
       "1                Wonderful  This is my first ever I phone. Before this I w...\n",
       "2             Nice product  Awesome Phone. Slightly high price but worth. ...\n",
       "3         Perfect product!  Battery backup is extraordinary, camera is dec...\n",
       "4                Brilliant  I have migrated from OP 7pro... and trust me, ...\n",
       "..                     ...                                                ...\n",
       "95                    Fair            Not very good ,It's only emergency wear\n",
       "96  Worst experience ever!  waste of money\\nproduct does not meet to quali...\n",
       "97         Waste of money!                          Very bad , lowest quality\n",
       "98    Good quality product             shoe is awesome but packaging very bad\n",
       "99       Terrific purchase  Nice product....I m very happy because I buy t...\n",
       "\n",
       "[100 rows x 2 columns]"
      ]
     },
     "execution_count": 85,
     "metadata": {},
     "output_type": "execute_result"
    }
   ],
   "source": [
    "#creating data frame to summarize data\n",
    "jobs=pd.DataFrame({})\n",
    "\n",
    "\n",
    "jobs['Review_summary']=Review_summary[0:100]\n",
    "jobs['Full_review']=Full_review[0:100]\n",
    "\n",
    "\n",
    "jobs"
   ]
  },
  {
   "cell_type": "code",
   "execution_count": 86,
   "id": "7bfe9e97",
   "metadata": {},
   "outputs": [],
   "source": [
    "#Q6\n",
    "driver.get(\"https://www.flipkart.com/\")\n",
    "url=\"https://www.flipkart.com/search?q=sneakers&otracker=search&otracker1=search&marketplace=FLIPKART&as-show=on&as=off\"\n",
    "driver.get(url)"
   ]
  },
  {
   "cell_type": "code",
   "execution_count": 70,
   "id": "65a88738",
   "metadata": {},
   "outputs": [],
   "source": [
    "#empty list\n",
    "brands=[]\n",
    "product=[]\n",
    "price=[]\n",
    "dis=[]"
   ]
  },
  {
   "cell_type": "code",
   "execution_count": 71,
   "id": "2982dd1d",
   "metadata": {},
   "outputs": [
    {
     "name": "stderr",
     "output_type": "stream",
     "text": [
      "<ipython-input-71-88c89e24cfec>:7: DeprecationWarning: find_elements_by_* commands are deprecated. Please use find_elements() instead\n",
      "  brands=driver.find_elements_by_class_name('_2WkVRV')#scraping brands name by class name='_2WkVRV'\n"
     ]
    },
    {
     "data": {
      "text/plain": [
       "[<selenium.webdriver.remote.webelement.WebElement (session=\"3ecbf8fc6cb50f5119a1539add2748be\", element=\"394f6bbf-6638-4043-9483-2f0a838e877d\")>,\n",
       " <selenium.webdriver.remote.webelement.WebElement (session=\"3ecbf8fc6cb50f5119a1539add2748be\", element=\"7c6212be-7cc6-49d3-b59b-d913c82f78fd\")>,\n",
       " <selenium.webdriver.remote.webelement.WebElement (session=\"3ecbf8fc6cb50f5119a1539add2748be\", element=\"df6895e8-098e-4b23-ae9b-a255fd2a7b97\")>,\n",
       " <selenium.webdriver.remote.webelement.WebElement (session=\"3ecbf8fc6cb50f5119a1539add2748be\", element=\"0e9f8f72-628e-42e2-bdfa-36e691efedd4\")>,\n",
       " <selenium.webdriver.remote.webelement.WebElement (session=\"3ecbf8fc6cb50f5119a1539add2748be\", element=\"2b3d4c4d-4886-4e19-ad65-0e602cdddda1\")>,\n",
       " <selenium.webdriver.remote.webelement.WebElement (session=\"3ecbf8fc6cb50f5119a1539add2748be\", element=\"fd9de206-1d66-465e-ba6f-e5452442f008\")>,\n",
       " <selenium.webdriver.remote.webelement.WebElement (session=\"3ecbf8fc6cb50f5119a1539add2748be\", element=\"5ec4540e-8b45-46ea-98cb-9e415f2a1f8a\")>,\n",
       " <selenium.webdriver.remote.webelement.WebElement (session=\"3ecbf8fc6cb50f5119a1539add2748be\", element=\"0533bff5-9740-4054-852c-7c6aafa91763\")>,\n",
       " <selenium.webdriver.remote.webelement.WebElement (session=\"3ecbf8fc6cb50f5119a1539add2748be\", element=\"93956a7c-ac71-4a6e-b37c-3da59e71c22f\")>,\n",
       " <selenium.webdriver.remote.webelement.WebElement (session=\"3ecbf8fc6cb50f5119a1539add2748be\", element=\"1f5177b4-83e9-4735-a468-443ae1ccdfc0\")>,\n",
       " <selenium.webdriver.remote.webelement.WebElement (session=\"3ecbf8fc6cb50f5119a1539add2748be\", element=\"ef20a642-a2d1-4bee-80ea-6c8b8831aed4\")>,\n",
       " <selenium.webdriver.remote.webelement.WebElement (session=\"3ecbf8fc6cb50f5119a1539add2748be\", element=\"68d6710b-3fc4-40d3-b6cc-22bac62586f6\")>,\n",
       " <selenium.webdriver.remote.webelement.WebElement (session=\"3ecbf8fc6cb50f5119a1539add2748be\", element=\"af5658ae-6703-4344-8fa0-ab5ed171fe01\")>,\n",
       " <selenium.webdriver.remote.webelement.WebElement (session=\"3ecbf8fc6cb50f5119a1539add2748be\", element=\"c637474f-3c4e-4092-8fdc-02793b89da3f\")>,\n",
       " <selenium.webdriver.remote.webelement.WebElement (session=\"3ecbf8fc6cb50f5119a1539add2748be\", element=\"c8661067-062d-41da-a63e-7cdc9dc8d506\")>,\n",
       " <selenium.webdriver.remote.webelement.WebElement (session=\"3ecbf8fc6cb50f5119a1539add2748be\", element=\"21f9fa78-e1fe-4a86-bcf7-6c4efc72148c\")>,\n",
       " <selenium.webdriver.remote.webelement.WebElement (session=\"3ecbf8fc6cb50f5119a1539add2748be\", element=\"7b9b7272-ec6c-4704-84db-f8e69be6b9de\")>,\n",
       " <selenium.webdriver.remote.webelement.WebElement (session=\"3ecbf8fc6cb50f5119a1539add2748be\", element=\"ec76e848-8c1e-4f6e-b478-50adfb8b0c98\")>,\n",
       " <selenium.webdriver.remote.webelement.WebElement (session=\"3ecbf8fc6cb50f5119a1539add2748be\", element=\"e42ee515-33fa-4c48-b9b7-d82542dcd6fc\")>,\n",
       " <selenium.webdriver.remote.webelement.WebElement (session=\"3ecbf8fc6cb50f5119a1539add2748be\", element=\"7d5eba55-ecb8-4395-8f30-05f25abde386\")>,\n",
       " <selenium.webdriver.remote.webelement.WebElement (session=\"3ecbf8fc6cb50f5119a1539add2748be\", element=\"8d3f0889-4873-4446-853e-63f492edb041\")>,\n",
       " <selenium.webdriver.remote.webelement.WebElement (session=\"3ecbf8fc6cb50f5119a1539add2748be\", element=\"5d4c4ab7-c094-4cce-8c27-db01f8f80c6a\")>,\n",
       " <selenium.webdriver.remote.webelement.WebElement (session=\"3ecbf8fc6cb50f5119a1539add2748be\", element=\"fcca5167-0463-484f-944b-0a276a0b2f50\")>,\n",
       " <selenium.webdriver.remote.webelement.WebElement (session=\"3ecbf8fc6cb50f5119a1539add2748be\", element=\"d10d8ddd-6e6e-494c-81dc-1894b1428e6c\")>,\n",
       " <selenium.webdriver.remote.webelement.WebElement (session=\"3ecbf8fc6cb50f5119a1539add2748be\", element=\"c282e910-f961-4e2a-b83a-e24dd4d4f004\")>,\n",
       " <selenium.webdriver.remote.webelement.WebElement (session=\"3ecbf8fc6cb50f5119a1539add2748be\", element=\"4d5b1f68-4d26-4c8f-ac05-01578597a978\")>,\n",
       " <selenium.webdriver.remote.webelement.WebElement (session=\"3ecbf8fc6cb50f5119a1539add2748be\", element=\"b20e13aa-75a7-4a7b-9a25-a288ecbd4d3b\")>,\n",
       " <selenium.webdriver.remote.webelement.WebElement (session=\"3ecbf8fc6cb50f5119a1539add2748be\", element=\"5fcaed40-b89e-4f4b-ab8e-26adf5f388de\")>,\n",
       " <selenium.webdriver.remote.webelement.WebElement (session=\"3ecbf8fc6cb50f5119a1539add2748be\", element=\"fcdd816a-59ec-4233-924d-fab7d79e595a\")>,\n",
       " <selenium.webdriver.remote.webelement.WebElement (session=\"3ecbf8fc6cb50f5119a1539add2748be\", element=\"dabfd0fb-11ce-461f-aae9-7a86226fb81c\")>,\n",
       " <selenium.webdriver.remote.webelement.WebElement (session=\"3ecbf8fc6cb50f5119a1539add2748be\", element=\"23c3677c-e0ed-403e-aef3-eee330681be9\")>,\n",
       " <selenium.webdriver.remote.webelement.WebElement (session=\"3ecbf8fc6cb50f5119a1539add2748be\", element=\"a4693199-04c5-4afa-8487-a7bc401ef941\")>,\n",
       " <selenium.webdriver.remote.webelement.WebElement (session=\"3ecbf8fc6cb50f5119a1539add2748be\", element=\"1cfd2550-56c9-444a-b323-0d729cea5d9e\")>,\n",
       " <selenium.webdriver.remote.webelement.WebElement (session=\"3ecbf8fc6cb50f5119a1539add2748be\", element=\"81517670-6114-443f-b77f-32cbabdda282\")>,\n",
       " <selenium.webdriver.remote.webelement.WebElement (session=\"3ecbf8fc6cb50f5119a1539add2748be\", element=\"bf7b474c-8944-4018-9d89-52db44596ce9\")>,\n",
       " <selenium.webdriver.remote.webelement.WebElement (session=\"3ecbf8fc6cb50f5119a1539add2748be\", element=\"248a381d-c3d6-4437-9dc3-cc0a67c94916\")>,\n",
       " <selenium.webdriver.remote.webelement.WebElement (session=\"3ecbf8fc6cb50f5119a1539add2748be\", element=\"ceb08031-b64d-4a15-aa2b-3ed01a7987b2\")>,\n",
       " <selenium.webdriver.remote.webelement.WebElement (session=\"3ecbf8fc6cb50f5119a1539add2748be\", element=\"5a68477c-df21-4dae-a152-a4c1a2a28693\")>,\n",
       " <selenium.webdriver.remote.webelement.WebElement (session=\"3ecbf8fc6cb50f5119a1539add2748be\", element=\"16e9244e-f8ad-4cb6-afe1-dd7baf1c4b91\")>,\n",
       " <selenium.webdriver.remote.webelement.WebElement (session=\"3ecbf8fc6cb50f5119a1539add2748be\", element=\"712c7420-c251-47bf-94dd-0adf6154e093\")>,\n",
       " 'SUSON',\n",
       " 'BRUTON',\n",
       " 'ASTEROID',\n",
       " 'Chevit',\n",
       " 'Magnolia',\n",
       " 'Numenzo',\n",
       " 'Numenzo',\n",
       " 'BRUTON',\n",
       " 'Chevit',\n",
       " 'Chevit',\n",
       " 'URBANBOX',\n",
       " \"Neeman's\",\n",
       " 'ASTEROID',\n",
       " 'Kraasa',\n",
       " 'SPARX',\n",
       " 'Pieds',\n",
       " 'SCATCHITE',\n",
       " 'BRUTON',\n",
       " 'FOOTGRAB',\n",
       " \"Neeman's\",\n",
       " 'D-SNEAKERZ',\n",
       " 'Numenzo',\n",
       " 'BRUTON',\n",
       " 'Unistar',\n",
       " 'Robbie jones',\n",
       " 'Kraasa',\n",
       " 'Arohi',\n",
       " 'BIRDE',\n",
       " 'BIRDE',\n",
       " 'believe',\n",
       " 'Shoes Bank',\n",
       " 'aadi',\n",
       " 'India hub',\n",
       " 'RODDICK SHOES',\n",
       " 'BRUTON',\n",
       " \"Neeman's\",\n",
       " 'T-ROCK',\n",
       " 'SPARX',\n",
       " 'India hub',\n",
       " 'EEGO ITALY']"
      ]
     },
     "execution_count": 71,
     "metadata": {},
     "output_type": "execute_result"
    }
   ],
   "source": [
    "# brand names scraping for sneakers\n",
    "start=0\n",
    "\n",
    "end=3\n",
    "\n",
    "for page in range(start,end):#for loop for scrapping 4 page\n",
    "\n",
    "    brands=driver.find_elements_by_class_name('_2WkVRV')#scraping brands name by class name='_2WkVRV'\n",
    "\n",
    "    for i in brands[0:100]:\n",
    "\n",
    "        brands.append(i.text)\n",
    "brands[0:100]"
   ]
  },
  {
   "cell_type": "code",
   "execution_count": 73,
   "id": "6e3eff50",
   "metadata": {},
   "outputs": [
    {
     "name": "stderr",
     "output_type": "stream",
     "text": [
      "<ipython-input-73-68e6747efe0c>:7: DeprecationWarning: find_elements_by_* commands are deprecated. Please use find_elements() instead\n",
      "  brands=driver.find_elements_by_class_name('IRpwTa')#scraping brands name by class name='_2WkVRV'\n"
     ]
    },
    {
     "data": {
      "text/plain": [
       "['Gym/Walking/Running Sneakers For Men',\n",
       " 'Combo Pack of 2 Sports Running LightWeight Winter Shoes...',\n",
       " \"Original Luxury Branded Fashionable Men's Casual Walkin...\",\n",
       " 'Super Stylish & Trendy Combo Pack of 02 Pairs Sneakers ...',\n",
       " 'Sneakers For Men',\n",
       " '411 Casual Sneakers For Men',\n",
       " 'Sneakers For Men',\n",
       " 'Modern Trendy Combo Pack OF 2 Casual Shoes For Men Snea...',\n",
       " 'Unique & Perfect Collection Combo Pack of 02 Shoes for ...',\n",
       " 'Perfect & Affordable Combo Pack of 02 Pairs Sneakers Ou...',\n",
       " 'Sneakers Sneakers For Men',\n",
       " 'Sneakers For Men',\n",
       " \"Original Luxury Branded Fashionable Men's Casual Walkin...\",\n",
       " 'Shark-41 Sneakers For Men',\n",
       " 'Men White Sneakers Sneakers For Men',\n",
       " 'Sneakers For Men',\n",
       " 'Sneakers Sneakers For Men',\n",
       " 'Combo Pack Of 4 Casual Shoes Loafer Shoes Sneakers For ...',\n",
       " 'White Boots || High Tops || Sneakers For Men',\n",
       " 'Sneakers For Men',\n",
       " \"Casual , Partywear Sneakers Shoes For Men's And Boys Wh...\",\n",
       " 'Numenzo Black Sneaker For Men Sneakers For Men',\n",
       " 'Modern Trendy Shoes Sneakers For Men',\n",
       " 'Military/PT Shoes For Men; 101-Brown Sneakers For Men',\n",
       " 'Casual Sneakers Shoes For Men Sneakers For Men',\n",
       " 'Series 7 Sneakers For Men',\n",
       " 'Sneakers For Men',\n",
       " 'Sneakers For Men',\n",
       " 'Sports Running Shoes Sneakers For Men',\n",
       " 'Sneakers for men(black_6) Sneakers For Men',\n",
       " \"White Sneaker For Men's/Boy's Sneakers For Men\",\n",
       " 'Sneakers For Men',\n",
       " 'Fashionable sneaker casual shoes Sneakers For Men',\n",
       " 'Fashion Outdoor Canvas Casual Light Weight Lace-up Even...',\n",
       " 'Combo Pack Of 2 Latest Stylish Casual Shoes for Men Lac...',\n",
       " 'Sneakers For Men',\n",
       " 'Synthetic Leather Casual Partywear Wedding Sneakers Sho...',\n",
       " 'Canvas Casual Partywear Outdoor Sneakers Shoes For Mens...',\n",
       " 'Sneakers For Men',\n",
       " 'Sneakers For Men',\n",
       " 'Gym/Walking/Running Sneakers For Men',\n",
       " 'Combo Pack of 2 Sports Running LightWeight Winter Shoes...',\n",
       " \"Original Luxury Branded Fashionable Men's Casual Walkin...\",\n",
       " 'Super Stylish & Trendy Combo Pack of 02 Pairs Sneakers ...',\n",
       " 'Sneakers For Men',\n",
       " '411 Casual Sneakers For Men',\n",
       " 'Sneakers For Men',\n",
       " 'Modern Trendy Combo Pack OF 2 Casual Shoes For Men Snea...',\n",
       " 'Unique & Perfect Collection Combo Pack of 02 Shoes for ...',\n",
       " 'Perfect & Affordable Combo Pack of 02 Pairs Sneakers Ou...',\n",
       " 'Sneakers Sneakers For Men',\n",
       " 'Sneakers For Men',\n",
       " \"Original Luxury Branded Fashionable Men's Casual Walkin...\",\n",
       " 'Shark-41 Sneakers For Men',\n",
       " 'Men White Sneakers Sneakers For Men',\n",
       " 'Sneakers For Men',\n",
       " 'Sneakers Sneakers For Men',\n",
       " 'Combo Pack Of 4 Casual Shoes Loafer Shoes Sneakers For ...',\n",
       " 'White Boots || High Tops || Sneakers For Men',\n",
       " 'Sneakers For Men',\n",
       " \"Casual , Partywear Sneakers Shoes For Men's And Boys Wh...\",\n",
       " 'Numenzo Black Sneaker For Men Sneakers For Men',\n",
       " 'Modern Trendy Shoes Sneakers For Men',\n",
       " 'Military/PT Shoes For Men; 101-Brown Sneakers For Men',\n",
       " 'Casual Sneakers Shoes For Men Sneakers For Men',\n",
       " 'Series 7 Sneakers For Men',\n",
       " 'Sneakers For Men',\n",
       " 'Sneakers For Men',\n",
       " 'Sports Running Shoes Sneakers For Men',\n",
       " 'Sneakers for men(black_6) Sneakers For Men',\n",
       " \"White Sneaker For Men's/Boy's Sneakers For Men\",\n",
       " 'Sneakers For Men',\n",
       " 'Fashionable sneaker casual shoes Sneakers For Men',\n",
       " 'Fashion Outdoor Canvas Casual Light Weight Lace-up Even...',\n",
       " 'Combo Pack Of 2 Latest Stylish Casual Shoes for Men Lac...',\n",
       " 'Sneakers For Men',\n",
       " 'Synthetic Leather Casual Partywear Wedding Sneakers Sho...',\n",
       " 'Canvas Casual Partywear Outdoor Sneakers Shoes For Mens...',\n",
       " 'Sneakers For Men',\n",
       " 'Sneakers For Men',\n",
       " 'Gym/Walking/Running Sneakers For Men',\n",
       " 'Combo Pack of 2 Sports Running LightWeight Winter Shoes...',\n",
       " \"Original Luxury Branded Fashionable Men's Casual Walkin...\",\n",
       " 'Super Stylish & Trendy Combo Pack of 02 Pairs Sneakers ...',\n",
       " 'Sneakers For Men',\n",
       " '411 Casual Sneakers For Men',\n",
       " 'Sneakers For Men',\n",
       " 'Modern Trendy Combo Pack OF 2 Casual Shoes For Men Snea...',\n",
       " 'Unique & Perfect Collection Combo Pack of 02 Shoes for ...',\n",
       " 'Perfect & Affordable Combo Pack of 02 Pairs Sneakers Ou...',\n",
       " 'Sneakers Sneakers For Men',\n",
       " 'Sneakers For Men',\n",
       " \"Original Luxury Branded Fashionable Men's Casual Walkin...\",\n",
       " 'Shark-41 Sneakers For Men',\n",
       " 'Men White Sneakers Sneakers For Men',\n",
       " 'Sneakers For Men',\n",
       " 'Sneakers Sneakers For Men',\n",
       " 'Combo Pack Of 4 Casual Shoes Loafer Shoes Sneakers For ...',\n",
       " 'White Boots || High Tops || Sneakers For Men',\n",
       " 'Sneakers For Men']"
      ]
     },
     "execution_count": 73,
     "metadata": {},
     "output_type": "execute_result"
    }
   ],
   "source": [
    "#scraping the product description for sneakers\n",
    "\n",
    "start=0\n",
    "\n",
    "end=4\n",
    "\n",
    "for page in range(start,end):#for loop for scrapping 4 page\n",
    "\n",
    "    brands=driver.find_elements_by_class_name('IRpwTa')#scraping brands name by class name='IRpwTa'\n",
    "\n",
    "    for i in brands[0:100]:\n",
    "\n",
    "        product.append(i.text)\n",
    "product[0:100]"
   ]
  },
  {
   "cell_type": "code",
   "execution_count": 74,
   "id": "59e00fd9",
   "metadata": {},
   "outputs": [
    {
     "name": "stderr",
     "output_type": "stream",
     "text": [
      "<ipython-input-74-e3580002395c>:7: DeprecationWarning: find_elements_by_* commands are deprecated. Please use find_elements() instead\n",
      "  brands=driver.find_elements_by_class_name('_30jeq3')#scraping brands name by class name='_2WkVRV'\n"
     ]
    },
    {
     "data": {
      "text/plain": [
       "['₹379',\n",
       " '₹499',\n",
       " '₹499',\n",
       " '₹699',\n",
       " '₹398',\n",
       " '₹499',\n",
       " '₹479',\n",
       " '₹592',\n",
       " '₹599',\n",
       " '₹599',\n",
       " '₹220',\n",
       " '₹2,399',\n",
       " '₹499',\n",
       " '₹499',\n",
       " '₹646',\n",
       " '₹528',\n",
       " '₹398',\n",
       " '₹666',\n",
       " '₹549',\n",
       " '₹2,399',\n",
       " '₹348',\n",
       " '₹499',\n",
       " '₹379',\n",
       " '₹299',\n",
       " '₹379',\n",
       " '₹499',\n",
       " '₹458',\n",
       " '₹499',\n",
       " '₹299',\n",
       " '₹499',\n",
       " '₹345',\n",
       " '₹473',\n",
       " '₹448',\n",
       " '₹499',\n",
       " '₹592',\n",
       " '₹2,399',\n",
       " '₹379',\n",
       " '₹646',\n",
       " '₹499',\n",
       " '₹1,499',\n",
       " '₹592',\n",
       " '₹599',\n",
       " '₹379',\n",
       " '₹528',\n",
       " '₹666',\n",
       " '₹379',\n",
       " '₹499',\n",
       " '₹499',\n",
       " '₹699',\n",
       " '₹398',\n",
       " '₹499',\n",
       " '₹479',\n",
       " '₹592',\n",
       " '₹599',\n",
       " '₹599',\n",
       " '₹220',\n",
       " '₹2,399',\n",
       " '₹499',\n",
       " '₹499',\n",
       " '₹646',\n",
       " '₹528',\n",
       " '₹398',\n",
       " '₹666',\n",
       " '₹549',\n",
       " '₹2,399',\n",
       " '₹348',\n",
       " '₹499',\n",
       " '₹379',\n",
       " '₹299',\n",
       " '₹379',\n",
       " '₹499',\n",
       " '₹458',\n",
       " '₹499',\n",
       " '₹299',\n",
       " '₹499',\n",
       " '₹345',\n",
       " '₹473',\n",
       " '₹448',\n",
       " '₹499',\n",
       " '₹592',\n",
       " '₹2,399',\n",
       " '₹379',\n",
       " '₹646',\n",
       " '₹499',\n",
       " '₹1,499',\n",
       " '₹592',\n",
       " '₹599',\n",
       " '₹379',\n",
       " '₹528',\n",
       " '₹666',\n",
       " '₹379',\n",
       " '₹499',\n",
       " '₹499',\n",
       " '₹699',\n",
       " '₹398',\n",
       " '₹499',\n",
       " '₹479',\n",
       " '₹592',\n",
       " '₹599',\n",
       " '₹599']"
      ]
     },
     "execution_count": 74,
     "metadata": {},
     "output_type": "execute_result"
    }
   ],
   "source": [
    "#scraping price of sneakers\n",
    "\n",
    "start=0\n",
    "\n",
    "end=4\n",
    "\n",
    "for page in range(start,end):#for loop for scrapping 4 page\n",
    "\n",
    "    brands=driver.find_elements_by_class_name('_30jeq3')#scraping brands name by class name='_30jeq3'\n",
    "\n",
    "    for i in brands[0:100]:\n",
    "\n",
    "        price.append(i.text)\n",
    "price[0:100]"
   ]
  },
  {
   "cell_type": "code",
   "execution_count": 75,
   "id": "df54c544",
   "metadata": {},
   "outputs": [
    {
     "name": "stderr",
     "output_type": "stream",
     "text": [
      "<ipython-input-75-a916a89e092e>:7: DeprecationWarning: find_elements_by_* commands are deprecated. Please use find_elements() instead\n",
      "  brands=driver.find_elements_by_class_name('_3Ay6Sb')#scraping brands name by class name='_2WkVRV'\n"
     ]
    },
    {
     "data": {
      "text/plain": [
       "['62% off',\n",
       " '80% off',\n",
       " '75% off',\n",
       " '56% off',\n",
       " '60% off',\n",
       " '75% off',\n",
       " '63% off',\n",
       " '76% off',\n",
       " '60% off',\n",
       " '66% off',\n",
       " '77% off',\n",
       " '20% off',\n",
       " '50% off',\n",
       " '50% off',\n",
       " '13% off',\n",
       " '64% off',\n",
       " '60% off',\n",
       " '80% off',\n",
       " '45% off',\n",
       " '20% off',\n",
       " '47% off',\n",
       " '61% off',\n",
       " '70% off',\n",
       " '62% off',\n",
       " '50% off',\n",
       " '54% off',\n",
       " '50% off',\n",
       " '40% off',\n",
       " '50% off',\n",
       " '65% off',\n",
       " '76% off',\n",
       " '77% off',\n",
       " '50% off',\n",
       " '76% off',\n",
       " '20% off',\n",
       " '62% off',\n",
       " '13% off',\n",
       " '75% off',\n",
       " '50% off',\n",
       " '76% off',\n",
       " '66% off',\n",
       " '62% off',\n",
       " '64% off',\n",
       " '80% off',\n",
       " '62% off',\n",
       " '80% off',\n",
       " '75% off',\n",
       " '56% off',\n",
       " '60% off',\n",
       " '75% off',\n",
       " '63% off',\n",
       " '76% off',\n",
       " '60% off',\n",
       " '66% off',\n",
       " '77% off',\n",
       " '20% off',\n",
       " '50% off',\n",
       " '50% off',\n",
       " '13% off',\n",
       " '64% off',\n",
       " '60% off',\n",
       " '80% off',\n",
       " '45% off',\n",
       " '20% off',\n",
       " '47% off',\n",
       " '61% off',\n",
       " '70% off',\n",
       " '62% off',\n",
       " '50% off',\n",
       " '54% off',\n",
       " '50% off',\n",
       " '40% off',\n",
       " '50% off',\n",
       " '65% off',\n",
       " '76% off',\n",
       " '77% off',\n",
       " '50% off',\n",
       " '76% off',\n",
       " '20% off',\n",
       " '62% off',\n",
       " '13% off',\n",
       " '75% off',\n",
       " '50% off',\n",
       " '76% off',\n",
       " '66% off',\n",
       " '62% off',\n",
       " '64% off',\n",
       " '80% off',\n",
       " '62% off',\n",
       " '80% off',\n",
       " '75% off',\n",
       " '56% off',\n",
       " '60% off',\n",
       " '75% off',\n",
       " '63% off',\n",
       " '76% off',\n",
       " '60% off',\n",
       " '66% off',\n",
       " '77% off',\n",
       " '20% off']"
      ]
     },
     "execution_count": 75,
     "metadata": {},
     "output_type": "execute_result"
    }
   ],
   "source": [
    "#discount on price for scrapped sneakers\n",
    "\n",
    "start=0\n",
    "\n",
    "end=3\n",
    "\n",
    "for page in range(start,end):#for loop for scrapping 4 page\n",
    "\n",
    "    brands=driver.find_elements_by_class_name('_3Ay6Sb')#scraping brands name by class name='_3Ay6Sb'\n",
    "\n",
    "    for i in brands[0:100]:\n",
    "\n",
    "        dis.append(i.text)\n",
    "dis[0:100]"
   ]
  },
  {
   "cell_type": "markdown",
   "id": "fbf390c7",
   "metadata": {},
   "source": [
    "# 6.creating DataFrame"
   ]
  },
  {
   "cell_type": "code",
   "execution_count": 76,
   "id": "9583eeab",
   "metadata": {},
   "outputs": [
    {
     "data": {
      "text/html": [
       "<div>\n",
       "<style scoped>\n",
       "    .dataframe tbody tr th:only-of-type {\n",
       "        vertical-align: middle;\n",
       "    }\n",
       "\n",
       "    .dataframe tbody tr th {\n",
       "        vertical-align: top;\n",
       "    }\n",
       "\n",
       "    .dataframe thead th {\n",
       "        text-align: right;\n",
       "    }\n",
       "</style>\n",
       "<table border=\"1\" class=\"dataframe\">\n",
       "  <thead>\n",
       "    <tr style=\"text-align: right;\">\n",
       "      <th></th>\n",
       "      <th>brands</th>\n",
       "      <th>product</th>\n",
       "      <th>price</th>\n",
       "      <th>discount</th>\n",
       "    </tr>\n",
       "  </thead>\n",
       "  <tbody>\n",
       "    <tr>\n",
       "      <th>0</th>\n",
       "      <td>GANSTA</td>\n",
       "      <td>Gym/Walking/Running Sneakers For Men</td>\n",
       "      <td>₹379</td>\n",
       "      <td>62% off</td>\n",
       "    </tr>\n",
       "    <tr>\n",
       "      <th>1</th>\n",
       "      <td>Fastrack</td>\n",
       "      <td>Combo Pack of 2 Sports Running LightWeight Win...</td>\n",
       "      <td>₹499</td>\n",
       "      <td>80% off</td>\n",
       "    </tr>\n",
       "    <tr>\n",
       "      <th>2</th>\n",
       "      <td>MAXX</td>\n",
       "      <td>Original Luxury Branded Fashionable Men's Casu...</td>\n",
       "      <td>₹499</td>\n",
       "      <td>75% off</td>\n",
       "    </tr>\n",
       "    <tr>\n",
       "      <th>3</th>\n",
       "      <td>PHENOMENAL</td>\n",
       "      <td>Super Stylish &amp; Trendy Combo Pack of 02 Pairs ...</td>\n",
       "      <td>₹699</td>\n",
       "      <td>56% off</td>\n",
       "    </tr>\n",
       "    <tr>\n",
       "      <th>4</th>\n",
       "      <td>kingsunglasses</td>\n",
       "      <td>Sneakers For Men</td>\n",
       "      <td>₹398</td>\n",
       "      <td>60% off</td>\n",
       "    </tr>\n",
       "    <tr>\n",
       "      <th>...</th>\n",
       "      <td>...</td>\n",
       "      <td>...</td>\n",
       "      <td>...</td>\n",
       "      <td>...</td>\n",
       "    </tr>\n",
       "    <tr>\n",
       "      <th>95</th>\n",
       "      <td>Silver Kartz</td>\n",
       "      <td>Sneakers For Men</td>\n",
       "      <td>₹499</td>\n",
       "      <td>76% off</td>\n",
       "    </tr>\n",
       "    <tr>\n",
       "      <th>96</th>\n",
       "      <td>PIRASO</td>\n",
       "      <td>Sneakers Sneakers For Men</td>\n",
       "      <td>₹479</td>\n",
       "      <td>60% off</td>\n",
       "    </tr>\n",
       "    <tr>\n",
       "      <th>97</th>\n",
       "      <td>kingsunglasses</td>\n",
       "      <td>Combo Pack Of 4 Casual Shoes Loafer Shoes Snea...</td>\n",
       "      <td>₹592</td>\n",
       "      <td>66% off</td>\n",
       "    </tr>\n",
       "    <tr>\n",
       "      <th>98</th>\n",
       "      <td>kingsunglasses</td>\n",
       "      <td>White Boots || High Tops || Sneakers For Men</td>\n",
       "      <td>₹599</td>\n",
       "      <td>77% off</td>\n",
       "    </tr>\n",
       "    <tr>\n",
       "      <th>99</th>\n",
       "      <td>kingsunglasses</td>\n",
       "      <td>Sneakers For Men</td>\n",
       "      <td>₹599</td>\n",
       "      <td>20% off</td>\n",
       "    </tr>\n",
       "  </tbody>\n",
       "</table>\n",
       "<p>100 rows × 4 columns</p>\n",
       "</div>"
      ],
      "text/plain": [
       "            brands                                            product price  \\\n",
       "0           GANSTA               Gym/Walking/Running Sneakers For Men  ₹379   \n",
       "1         Fastrack  Combo Pack of 2 Sports Running LightWeight Win...  ₹499   \n",
       "2             MAXX  Original Luxury Branded Fashionable Men's Casu...  ₹499   \n",
       "3       PHENOMENAL  Super Stylish & Trendy Combo Pack of 02 Pairs ...  ₹699   \n",
       "4   kingsunglasses                                   Sneakers For Men  ₹398   \n",
       "..             ...                                                ...   ...   \n",
       "95    Silver Kartz                                   Sneakers For Men  ₹499   \n",
       "96          PIRASO                          Sneakers Sneakers For Men  ₹479   \n",
       "97  kingsunglasses  Combo Pack Of 4 Casual Shoes Loafer Shoes Snea...  ₹592   \n",
       "98  kingsunglasses       White Boots || High Tops || Sneakers For Men  ₹599   \n",
       "99  kingsunglasses                                   Sneakers For Men  ₹599   \n",
       "\n",
       "   discount  \n",
       "0   62% off  \n",
       "1   80% off  \n",
       "2   75% off  \n",
       "3   56% off  \n",
       "4   60% off  \n",
       "..      ...  \n",
       "95  76% off  \n",
       "96  60% off  \n",
       "97  66% off  \n",
       "98  77% off  \n",
       "99  20% off  \n",
       "\n",
       "[100 rows x 4 columns]"
      ]
     },
     "execution_count": 76,
     "metadata": {},
     "output_type": "execute_result"
    }
   ],
   "source": [
    "#creating data frame to summarize data\n",
    "\n",
    "jobs=pd.DataFrame({})\n",
    "jobs['brands']=brand[0:100]\n",
    "jobs['product']=product[0:100]\n",
    "jobs['price']=price[0:100]\n",
    "jobs['discount']=dis[0:100]\n",
    "\n",
    "\n",
    "\n",
    "jobs"
   ]
  },
  {
   "cell_type": "code",
   "execution_count": 77,
   "id": "297eecbe",
   "metadata": {},
   "outputs": [],
   "source": [
    "#Q7.Q7: Go to the link - https://www.myntra.com/shoes\n",
    "#Set Price filter to “Rs. 6649 to Rs. 13099” , Color filter to “Black”, as shown inthe below image.\n",
    "\n",
    "driver.get(\"https://www.myntra.com/\")\n",
    "url=\"https://www.myntra.com/shoes?f=Color%3ABlack_36454f&rf=Price%3A7149.0_14099.0_7149.0%20TO%2014099.0\"\n",
    "driver.get(url)"
   ]
  },
  {
   "cell_type": "code",
   "execution_count": 78,
   "id": "4ba8af8b",
   "metadata": {},
   "outputs": [],
   "source": [
    "brandshoe=[]\n",
    "branddes=[]\n",
    "price_of_shoe=[]\n"
   ]
  },
  {
   "cell_type": "code",
   "execution_count": 79,
   "id": "41041e4b",
   "metadata": {},
   "outputs": [
    {
     "name": "stderr",
     "output_type": "stream",
     "text": [
      "<ipython-input-79-58f5c9bf189e>:7: DeprecationWarning: find_elements_by_* commands are deprecated. Please use find_elements() instead\n",
      "  brands=driver.find_elements_by_class_name('product-brand')#scraping brands name by class name='_2WkVRV'\n"
     ]
    },
    {
     "data": {
      "text/plain": [
       "['Nike',\n",
       " 'Nike',\n",
       " 'Hush Puppies',\n",
       " 'Nike',\n",
       " 'Nike',\n",
       " 'ADIDAS',\n",
       " 'Nike',\n",
       " 'Puma',\n",
       " 'Nike',\n",
       " 'Nike',\n",
       " 'Puma',\n",
       " 'ADIDAS',\n",
       " 'Puma',\n",
       " 'Nike',\n",
       " 'Puma',\n",
       " 'Hush Puppies',\n",
       " 'ASICS',\n",
       " 'Heel & Buckle London',\n",
       " 'Puma',\n",
       " 'Cole Haan',\n",
       " 'PUMA Hoops',\n",
       " 'UNDER ARMOUR',\n",
       " 'ASICS',\n",
       " 'Regal',\n",
       " 'Saint G',\n",
       " 'ASICS',\n",
       " 'Puma',\n",
       " 'Saint G',\n",
       " 'PUMA Motorsport',\n",
       " 'Regal',\n",
       " 'PUMA Motorsport',\n",
       " 'ASICS',\n",
       " 'Bugatti',\n",
       " 'PUMA Motorsport',\n",
       " 'Bugatti',\n",
       " 'Heel & Buckle London',\n",
       " 'Puma',\n",
       " 'Bugatti',\n",
       " 'Puma',\n",
       " 'Hush Puppies',\n",
       " 'ROSSO BRUNELLO',\n",
       " 'RARE RABBIT',\n",
       " 'Calvin Klein',\n",
       " 'Puma',\n",
       " 'Hush Puppies',\n",
       " 'Tommy Hilfiger',\n",
       " 'Tommy Hilfiger',\n",
       " 'Regal',\n",
       " 'Puma',\n",
       " 'Geox',\n",
       " 'Nike',\n",
       " 'Nike',\n",
       " 'Hush Puppies',\n",
       " 'Nike',\n",
       " 'Nike',\n",
       " 'ADIDAS',\n",
       " 'Nike',\n",
       " 'Puma',\n",
       " 'Nike',\n",
       " 'Nike',\n",
       " 'Puma',\n",
       " 'ADIDAS',\n",
       " 'Puma',\n",
       " 'Nike',\n",
       " 'Puma',\n",
       " 'Hush Puppies',\n",
       " 'ASICS',\n",
       " 'Heel & Buckle London',\n",
       " 'Puma',\n",
       " 'Cole Haan',\n",
       " 'PUMA Hoops',\n",
       " 'UNDER ARMOUR',\n",
       " 'ASICS',\n",
       " 'Regal',\n",
       " 'Saint G',\n",
       " 'ASICS',\n",
       " 'Puma',\n",
       " 'Saint G',\n",
       " 'PUMA Motorsport',\n",
       " 'Regal',\n",
       " 'PUMA Motorsport',\n",
       " 'ASICS',\n",
       " 'Bugatti',\n",
       " 'PUMA Motorsport',\n",
       " 'Bugatti',\n",
       " 'Heel & Buckle London',\n",
       " 'Puma',\n",
       " 'Bugatti',\n",
       " 'Puma',\n",
       " 'Hush Puppies',\n",
       " 'ROSSO BRUNELLO',\n",
       " 'RARE RABBIT',\n",
       " 'Calvin Klein',\n",
       " 'Puma',\n",
       " 'Hush Puppies',\n",
       " 'Tommy Hilfiger',\n",
       " 'Tommy Hilfiger',\n",
       " 'Regal',\n",
       " 'Puma',\n",
       " 'Geox']"
      ]
     },
     "execution_count": 79,
     "metadata": {},
     "output_type": "execute_result"
    }
   ],
   "source": [
    "#scraping details for brands shoes\n",
    "\n",
    "start=0\n",
    "\n",
    "end=3\n",
    "\n",
    "for page in range(start,end):#for loop for scrapping 4 page\n",
    "\n",
    "    brands=driver.find_elements_by_class_name('product-brand')#scraping brands name by class name='product-brand'\n",
    "\n",
    "    for i in brands[0:100]:\n",
    "\n",
    "        brandshoe.append(i.text)\n",
    "brandshoe[0:100]"
   ]
  },
  {
   "cell_type": "code",
   "execution_count": 80,
   "id": "595605c0",
   "metadata": {},
   "outputs": [
    {
     "name": "stderr",
     "output_type": "stream",
     "text": [
      "<ipython-input-80-136fa5b3c467>:7: DeprecationWarning: find_elements_by_* commands are deprecated. Please use find_elements() instead\n",
      "  brands=driver.find_elements_by_class_name('product-product')#scraping brands name by class name='_2WkVRV'\n"
     ]
    },
    {
     "data": {
      "text/plain": [
       "['AIR ZOOM PEGASUS Running Shoes',\n",
       " 'Men Zoom Span 4 Running Shoes',\n",
       " 'Men Formal Derbys',\n",
       " 'LEBRON WITNESS Basketball Shoe',\n",
       " 'Men ZOOM SPAN 4 Running Shoes',\n",
       " 'Men Court Jam Bounce Tennis',\n",
       " 'Air Zoom Pegasus 38 Shield Run',\n",
       " 'Men Deviate Nitro Running Shoe',\n",
       " 'Men FLIGHT LEGACY Sneakers',\n",
       " \"Men BlazerLow '77 Sneakers\",\n",
       " 'Men Liberate NITRO Running',\n",
       " 'Men Lightstrike Go Running',\n",
       " 'Women Provoke XT Training',\n",
       " 'Men AIR PRESTO Sneakers',\n",
       " 'Unisex Leather Trainers',\n",
       " 'Men Solid Leather Formal Slip-Ons',\n",
       " 'Men Colourblocked PU Sneakers',\n",
       " 'Men Solid Leather Formal Penny Loafers',\n",
       " 'Unisex Mirage Remix Sneakers',\n",
       " 'Men Wingtip Oxford Sneakers',\n",
       " 'Unisex Clyde All-Pro Team',\n",
       " 'Women Charged Bandit 6 Running',\n",
       " 'Men Black Running Sports Shoes',\n",
       " 'Men Leather Formal Loafers',\n",
       " 'Women Leather Heeled Boots',\n",
       " 'Men Running Shoes',\n",
       " 'Women Liberate NITRO Running',\n",
       " 'Men Mid-Top Chelsea Boots',\n",
       " 'Unisex BMW RS-Connect Sneakers',\n",
       " 'Men Solid Leather Formal Monks',\n",
       " 'Unisex Ferrari Wild Rider Shoe',\n",
       " 'Skycourt Sneakers',\n",
       " 'Men Running Shoes',\n",
       " 'Unisex FerrariRS-Fast Sneakers',\n",
       " 'Men Black Walking Shoes',\n",
       " 'Men Leather Monk Shoes',\n",
       " 'Unisex Textured Sneakers',\n",
       " 'Men Walking Shoes',\n",
       " 'Men Running Shoes',\n",
       " 'Men Leather Slip-On Sneakers',\n",
       " 'Men Solid Leather Formal Monk Shoes',\n",
       " 'Men Leather Flat Boots',\n",
       " 'Men Solid Suede Sneakers',\n",
       " 'Men Football Shoes',\n",
       " 'Men Solid Leather Formal Slip-Ons',\n",
       " 'Women Leather Block Pumps',\n",
       " 'Women Leather Pumps',\n",
       " 'Men Textured Leather Formal Brogues',\n",
       " 'Women Magnify Nitro Shoes',\n",
       " 'Men Leather Flat Boots',\n",
       " 'AIR ZOOM PEGASUS Running Shoes',\n",
       " 'Men Zoom Span 4 Running Shoes',\n",
       " 'Men Formal Derbys',\n",
       " 'LEBRON WITNESS Basketball Shoe',\n",
       " 'Men ZOOM SPAN 4 Running Shoes',\n",
       " 'Men Court Jam Bounce Tennis',\n",
       " 'Air Zoom Pegasus 38 Shield Run',\n",
       " 'Men Deviate Nitro Running Shoe',\n",
       " 'Men FLIGHT LEGACY Sneakers',\n",
       " \"Men BlazerLow '77 Sneakers\",\n",
       " 'Men Liberate NITRO Running',\n",
       " 'Men Lightstrike Go Running',\n",
       " 'Women Provoke XT Training',\n",
       " 'Men AIR PRESTO Sneakers',\n",
       " 'Unisex Leather Trainers',\n",
       " 'Men Solid Leather Formal Slip-Ons',\n",
       " 'Men Colourblocked PU Sneakers',\n",
       " 'Men Solid Leather Formal Penny Loafers',\n",
       " 'Unisex Mirage Remix Sneakers',\n",
       " 'Men Wingtip Oxford Sneakers',\n",
       " 'Unisex Clyde All-Pro Team',\n",
       " 'Women Charged Bandit 6 Running',\n",
       " 'Men Black Running Sports Shoes',\n",
       " 'Men Leather Formal Loafers',\n",
       " 'Women Leather Heeled Boots',\n",
       " 'Men Running Shoes',\n",
       " 'Women Liberate NITRO Running',\n",
       " 'Men Mid-Top Chelsea Boots',\n",
       " 'Unisex BMW RS-Connect Sneakers',\n",
       " 'Men Solid Leather Formal Monks',\n",
       " 'Unisex Ferrari Wild Rider Shoe',\n",
       " 'Skycourt Sneakers',\n",
       " 'Men Running Shoes',\n",
       " 'Unisex FerrariRS-Fast Sneakers',\n",
       " 'Men Black Walking Shoes',\n",
       " 'Men Leather Monk Shoes',\n",
       " 'Unisex Textured Sneakers',\n",
       " 'Men Walking Shoes',\n",
       " 'Men Running Shoes',\n",
       " 'Men Leather Slip-On Sneakers',\n",
       " 'Men Solid Leather Formal Monk Shoes',\n",
       " 'Men Leather Flat Boots',\n",
       " 'Men Solid Suede Sneakers',\n",
       " 'Men Football Shoes',\n",
       " 'Men Solid Leather Formal Slip-Ons',\n",
       " 'Women Leather Block Pumps',\n",
       " 'Women Leather Pumps',\n",
       " 'Men Textured Leather Formal Brogues',\n",
       " 'Women Magnify Nitro Shoes',\n",
       " 'Men Leather Flat Boots']"
      ]
     },
     "execution_count": 80,
     "metadata": {},
     "output_type": "execute_result"
    }
   ],
   "source": [
    "#scraping shoe description for shoes\n",
    "\n",
    "start=0\n",
    "\n",
    "end=3\n",
    "\n",
    "for page in range(start,end):#for loop for scrapping 4 page\n",
    "\n",
    "    brands=driver.find_elements_by_class_name('product-product')#scraping brands name by class name='product-product'\n",
    "\n",
    "    for i in brands[0:100]:\n",
    "\n",
    "        branddes.append(i.text)\n",
    "branddes[0:100]"
   ]
  },
  {
   "cell_type": "code",
   "execution_count": 81,
   "id": "e6174eb6",
   "metadata": {},
   "outputs": [
    {
     "name": "stderr",
     "output_type": "stream",
     "text": [
      "<ipython-input-81-46470b01685a>:7: DeprecationWarning: find_elements_by_* commands are deprecated. Please use find_elements() instead\n",
      "  brands=driver.find_elements_by_class_name('product-price')#scraping brands name by class name='_2WkVRV'\n"
     ]
    },
    {
     "data": {
      "text/plain": [
       "['Rs. 9995',\n",
       " 'Rs. 7195',\n",
       " 'Rs. 8999Rs. 9999(10% OFF)',\n",
       " 'Rs. 8295',\n",
       " 'Rs. 7195',\n",
       " 'Rs. 7999',\n",
       " 'Rs. 11495',\n",
       " 'Rs. 12749Rs. 14999(15% OFF)',\n",
       " 'Rs. 7995',\n",
       " 'Rs. 7195',\n",
       " 'Rs. 8499Rs. 9999(15% OFF)',\n",
       " 'Rs. 8999',\n",
       " 'Rs. 7999',\n",
       " 'Rs. 11495',\n",
       " 'Rs. 8499Rs. 9999(15% OFF)',\n",
       " 'Rs. 8099Rs. 8999(10% OFF)',\n",
       " 'Rs. 9999',\n",
       " 'Rs. 7693Rs. 10990(30% OFF)',\n",
       " 'Rs. 7649Rs. 8999(15% OFF)',\n",
       " 'Rs. 10399Rs. 12999(20% OFF)',\n",
       " 'Rs. 8999',\n",
       " 'Rs. 8999',\n",
       " 'Rs. 7999',\n",
       " 'Rs. 8990',\n",
       " 'Rs. 13900',\n",
       " 'Rs. 7999',\n",
       " 'Rs. 8499Rs. 9999(15% OFF)',\n",
       " 'Rs. 10900',\n",
       " 'Rs. 8499Rs. 9999(15% OFF)',\n",
       " 'Rs. 8990',\n",
       " 'Rs. 7149Rs. 10999(35% OFF)',\n",
       " 'Rs. 7999',\n",
       " 'Rs. 9999',\n",
       " 'Rs. 8499Rs. 9999(15% OFF)',\n",
       " 'Rs. 8999',\n",
       " 'Rs. 8394Rs. 13990(40% OFF)',\n",
       " 'Rs. 8499Rs. 9999(15% OFF)',\n",
       " 'Rs. 8999',\n",
       " 'Rs. 9749Rs. 12999(25% OFF)',\n",
       " 'Rs. 7999Rs. 9999(20% OFF)',\n",
       " 'Rs. 11699Rs. 12999(10% OFF)',\n",
       " 'Rs. 7699Rs. 10999(30% OFF)',\n",
       " 'Rs. 7999',\n",
       " 'Rs. 11899Rs. 16999(30% OFF)',\n",
       " 'Rs. 8999Rs. 9999(10% OFF)',\n",
       " 'Rs. 7999',\n",
       " 'Rs. 7999',\n",
       " 'Rs. 8490',\n",
       " 'Rs. 10399Rs. 12999(20% OFF)',\n",
       " 'Rs. 11999',\n",
       " 'Rs. 9995',\n",
       " 'Rs. 7195',\n",
       " 'Rs. 8999Rs. 9999(10% OFF)',\n",
       " 'Rs. 8295',\n",
       " 'Rs. 7195',\n",
       " 'Rs. 7999',\n",
       " 'Rs. 11495',\n",
       " 'Rs. 12749Rs. 14999(15% OFF)',\n",
       " 'Rs. 7995',\n",
       " 'Rs. 7195',\n",
       " 'Rs. 8499Rs. 9999(15% OFF)',\n",
       " 'Rs. 8999',\n",
       " 'Rs. 7999',\n",
       " 'Rs. 11495',\n",
       " 'Rs. 8499Rs. 9999(15% OFF)',\n",
       " 'Rs. 8099Rs. 8999(10% OFF)',\n",
       " 'Rs. 9999',\n",
       " 'Rs. 7693Rs. 10990(30% OFF)',\n",
       " 'Rs. 7649Rs. 8999(15% OFF)',\n",
       " 'Rs. 10399Rs. 12999(20% OFF)',\n",
       " 'Rs. 8999',\n",
       " 'Rs. 8999',\n",
       " 'Rs. 7999',\n",
       " 'Rs. 8990',\n",
       " 'Rs. 13900',\n",
       " 'Rs. 7999',\n",
       " 'Rs. 8499Rs. 9999(15% OFF)',\n",
       " 'Rs. 10900',\n",
       " 'Rs. 8499Rs. 9999(15% OFF)',\n",
       " 'Rs. 8990',\n",
       " 'Rs. 7149Rs. 10999(35% OFF)',\n",
       " 'Rs. 7999',\n",
       " 'Rs. 9999',\n",
       " 'Rs. 8499Rs. 9999(15% OFF)',\n",
       " 'Rs. 8999',\n",
       " 'Rs. 8394Rs. 13990(40% OFF)',\n",
       " 'Rs. 8499Rs. 9999(15% OFF)',\n",
       " 'Rs. 8999',\n",
       " 'Rs. 9749Rs. 12999(25% OFF)',\n",
       " 'Rs. 7999Rs. 9999(20% OFF)',\n",
       " 'Rs. 11699Rs. 12999(10% OFF)',\n",
       " 'Rs. 7699Rs. 10999(30% OFF)',\n",
       " 'Rs. 7999',\n",
       " 'Rs. 11899Rs. 16999(30% OFF)',\n",
       " 'Rs. 8999Rs. 9999(10% OFF)',\n",
       " 'Rs. 7999',\n",
       " 'Rs. 7999',\n",
       " 'Rs. 8490',\n",
       " 'Rs. 10399Rs. 12999(20% OFF)',\n",
       " 'Rs. 11999']"
      ]
     },
     "execution_count": 81,
     "metadata": {},
     "output_type": "execute_result"
    }
   ],
   "source": [
    "# scraping price for shoes\n",
    "\n",
    "start=0\n",
    "\n",
    "end=3\n",
    "\n",
    "for page in range(start,end):#for loop for scrapping 4 page\n",
    "\n",
    "    brands=driver.find_elements_by_class_name('product-price')#scraping brands name by class name='product-price'\n",
    "\n",
    "    for i in brands[0:100]:\n",
    "\n",
    "        price_of_shoe.append(i.text)\n",
    "price_of_shoe[0:100]"
   ]
  },
  {
   "cell_type": "markdown",
   "id": "234cec96",
   "metadata": {},
   "source": [
    "# 7.creating dataframe"
   ]
  },
  {
   "cell_type": "code",
   "execution_count": 82,
   "id": "c0e78c0d",
   "metadata": {},
   "outputs": [
    {
     "data": {
      "text/html": [
       "<div>\n",
       "<style scoped>\n",
       "    .dataframe tbody tr th:only-of-type {\n",
       "        vertical-align: middle;\n",
       "    }\n",
       "\n",
       "    .dataframe tbody tr th {\n",
       "        vertical-align: top;\n",
       "    }\n",
       "\n",
       "    .dataframe thead th {\n",
       "        text-align: right;\n",
       "    }\n",
       "</style>\n",
       "<table border=\"1\" class=\"dataframe\">\n",
       "  <thead>\n",
       "    <tr style=\"text-align: right;\">\n",
       "      <th></th>\n",
       "      <th>brands</th>\n",
       "      <th>product</th>\n",
       "      <th>price</th>\n",
       "    </tr>\n",
       "  </thead>\n",
       "  <tbody>\n",
       "    <tr>\n",
       "      <th>0</th>\n",
       "      <td>Nike</td>\n",
       "      <td>AIR ZOOM PEGASUS Running Shoes</td>\n",
       "      <td>Rs. 9995</td>\n",
       "    </tr>\n",
       "    <tr>\n",
       "      <th>1</th>\n",
       "      <td>Nike</td>\n",
       "      <td>Men Zoom Span 4 Running Shoes</td>\n",
       "      <td>Rs. 7195</td>\n",
       "    </tr>\n",
       "    <tr>\n",
       "      <th>2</th>\n",
       "      <td>Hush Puppies</td>\n",
       "      <td>Men Formal Derbys</td>\n",
       "      <td>Rs. 8999Rs. 9999(10% OFF)</td>\n",
       "    </tr>\n",
       "    <tr>\n",
       "      <th>3</th>\n",
       "      <td>Nike</td>\n",
       "      <td>LEBRON WITNESS Basketball Shoe</td>\n",
       "      <td>Rs. 8295</td>\n",
       "    </tr>\n",
       "    <tr>\n",
       "      <th>4</th>\n",
       "      <td>Nike</td>\n",
       "      <td>Men ZOOM SPAN 4 Running Shoes</td>\n",
       "      <td>Rs. 7195</td>\n",
       "    </tr>\n",
       "    <tr>\n",
       "      <th>...</th>\n",
       "      <td>...</td>\n",
       "      <td>...</td>\n",
       "      <td>...</td>\n",
       "    </tr>\n",
       "    <tr>\n",
       "      <th>95</th>\n",
       "      <td>Tommy Hilfiger</td>\n",
       "      <td>Women Leather Block Pumps</td>\n",
       "      <td>Rs. 7999</td>\n",
       "    </tr>\n",
       "    <tr>\n",
       "      <th>96</th>\n",
       "      <td>Tommy Hilfiger</td>\n",
       "      <td>Women Leather Pumps</td>\n",
       "      <td>Rs. 7999</td>\n",
       "    </tr>\n",
       "    <tr>\n",
       "      <th>97</th>\n",
       "      <td>Regal</td>\n",
       "      <td>Men Textured Leather Formal Brogues</td>\n",
       "      <td>Rs. 8490</td>\n",
       "    </tr>\n",
       "    <tr>\n",
       "      <th>98</th>\n",
       "      <td>Puma</td>\n",
       "      <td>Women Magnify Nitro Shoes</td>\n",
       "      <td>Rs. 10399Rs. 12999(20% OFF)</td>\n",
       "    </tr>\n",
       "    <tr>\n",
       "      <th>99</th>\n",
       "      <td>Geox</td>\n",
       "      <td>Men Leather Flat Boots</td>\n",
       "      <td>Rs. 11999</td>\n",
       "    </tr>\n",
       "  </tbody>\n",
       "</table>\n",
       "<p>100 rows × 3 columns</p>\n",
       "</div>"
      ],
      "text/plain": [
       "            brands                              product  \\\n",
       "0             Nike       AIR ZOOM PEGASUS Running Shoes   \n",
       "1             Nike        Men Zoom Span 4 Running Shoes   \n",
       "2     Hush Puppies                    Men Formal Derbys   \n",
       "3             Nike       LEBRON WITNESS Basketball Shoe   \n",
       "4             Nike        Men ZOOM SPAN 4 Running Shoes   \n",
       "..             ...                                  ...   \n",
       "95  Tommy Hilfiger            Women Leather Block Pumps   \n",
       "96  Tommy Hilfiger                  Women Leather Pumps   \n",
       "97           Regal  Men Textured Leather Formal Brogues   \n",
       "98            Puma            Women Magnify Nitro Shoes   \n",
       "99            Geox               Men Leather Flat Boots   \n",
       "\n",
       "                          price  \n",
       "0                      Rs. 9995  \n",
       "1                      Rs. 7195  \n",
       "2     Rs. 8999Rs. 9999(10% OFF)  \n",
       "3                      Rs. 8295  \n",
       "4                      Rs. 7195  \n",
       "..                          ...  \n",
       "95                     Rs. 7999  \n",
       "96                     Rs. 7999  \n",
       "97                     Rs. 8490  \n",
       "98  Rs. 10399Rs. 12999(20% OFF)  \n",
       "99                    Rs. 11999  \n",
       "\n",
       "[100 rows x 3 columns]"
      ]
     },
     "execution_count": 82,
     "metadata": {},
     "output_type": "execute_result"
    }
   ],
   "source": [
    "#creating data frame\n",
    "\n",
    "jobs=pd.DataFrame({})\n",
    "jobs['brands']=brandshoe[0:100]\n",
    "jobs['product']=branddes[0:100]\n",
    "jobs['price']=price_of_shoe[0:100]\n",
    "\n",
    "\n",
    "\n",
    "jobs"
   ]
  },
  {
   "cell_type": "code",
   "execution_count": 49,
   "id": "aeb55a67",
   "metadata": {},
   "outputs": [],
   "source": [
    "#Q8: Gotowebpagehttps://www.amazon.in/\n",
    "#Enter “Laptop” in the search field and then click the search icon.\n",
    "#Then set CPU Type filter to “Intel Core i7” and “Intel Core i9” as shown in thebelow image:\n",
    "driver.get(\"https://www.amazon.in/\")\n",
    "url=\"https://www.amazon.in/s?k=laptop&i=computers&rh=n%3A1375424031%2Cp_n_feature_thirteen_browse-bin%3A12598163031%7C16757432031&dc&qid=1636249531&rnid=12598141031&ref=sr_nr_p_n_feature_thirteen_browse-bin_27\"\n",
    "driver.get(url)"
   ]
  },
  {
   "cell_type": "code",
   "execution_count": 50,
   "id": "a90210ec",
   "metadata": {},
   "outputs": [],
   "source": [
    "#empty list\n",
    "title=[]\n",
    "ratings=[]\n",
    "price=[]\n"
   ]
  },
  {
   "cell_type": "code",
   "execution_count": 51,
   "id": "bac1b6ac",
   "metadata": {},
   "outputs": [
    {
     "name": "stderr",
     "output_type": "stream",
     "text": [
      "<ipython-input-51-dfc377209e5e>:3: DeprecationWarning: find_elements_by_* commands are deprecated. Please use find_elements() instead\n",
      "  title_tags=driver.find_elements_by_xpath(\"//span[@class='a-size-medium a-color-base a-text-normal']\")\n"
     ]
    },
    {
     "data": {
      "text/plain": [
       "[<selenium.webdriver.remote.webelement.WebElement (session=\"beadeaa8c85b030073c96951eceb0b38\", element=\"134f3004-f90d-4069-91c1-6627cdc16fb5\")>,\n",
       " <selenium.webdriver.remote.webelement.WebElement (session=\"beadeaa8c85b030073c96951eceb0b38\", element=\"7c10fbbc-c4f4-4bf6-8f5a-ab1c4569999e\")>,\n",
       " <selenium.webdriver.remote.webelement.WebElement (session=\"beadeaa8c85b030073c96951eceb0b38\", element=\"81c8c958-e6af-4a14-a82b-e8ac697f7226\")>,\n",
       " <selenium.webdriver.remote.webelement.WebElement (session=\"beadeaa8c85b030073c96951eceb0b38\", element=\"20a109bd-933e-48a2-821b-42a87d77fcbe\")>,\n",
       " <selenium.webdriver.remote.webelement.WebElement (session=\"beadeaa8c85b030073c96951eceb0b38\", element=\"01167736-5a11-4d30-b2cc-1dec03c4c9f0\")>,\n",
       " <selenium.webdriver.remote.webelement.WebElement (session=\"beadeaa8c85b030073c96951eceb0b38\", element=\"798686c1-1bed-4b3d-8582-e242c8948fcb\")>,\n",
       " <selenium.webdriver.remote.webelement.WebElement (session=\"beadeaa8c85b030073c96951eceb0b38\", element=\"595cfb54-8c22-4511-8e5b-bff28349fd89\")>,\n",
       " <selenium.webdriver.remote.webelement.WebElement (session=\"beadeaa8c85b030073c96951eceb0b38\", element=\"53717e97-228d-4cc3-8bef-f1bf274f3cbb\")>,\n",
       " <selenium.webdriver.remote.webelement.WebElement (session=\"beadeaa8c85b030073c96951eceb0b38\", element=\"dd0dc53f-624e-40be-8097-92e8459e652a\")>,\n",
       " <selenium.webdriver.remote.webelement.WebElement (session=\"beadeaa8c85b030073c96951eceb0b38\", element=\"0eccc3eb-b14c-4573-b77d-7ad4b2e01658\")>]"
      ]
     },
     "execution_count": 51,
     "metadata": {},
     "output_type": "execute_result"
    }
   ],
   "source": [
    "#extracting title URL\n",
    "\n",
    "title_tags=driver.find_elements_by_xpath(\"//span[@class='a-size-medium a-color-base a-text-normal']\")\n",
    "title_tags[0:10]"
   ]
  },
  {
   "cell_type": "code",
   "execution_count": 52,
   "id": "51a3fd34",
   "metadata": {},
   "outputs": [
    {
     "data": {
      "text/plain": [
       "['Lenovo Legion 5 11th Gen Intel Core i7 15.6\"(39.62cm) FHD IPS Gaming Laptop (16GB/512GB SSD/NVIDIA RTX 3050 4GB/120Hz Refresh Rate/Windows 10/MS Office/Backlit Keyboard/Phantom Blue/2.4Kg), 82JK007WIN',\n",
       " 'ASUS ZenBook 13 OLED (2021) Intel Core i7-1165G7 11th Gen 14\" (35.56cms) FHD Thin and Light Laptop (16GB/512GB SSD/Windows 10/Office 2019/Intel Iris Xᵉ Graphics/Pine Grey/1.14 kg), UX325EA-KG722TS',\n",
       " 'Mi Notebook Horizon Edition 14 Intel Core i7-10510U 10th Gen Thin and Light Laptop(8GB/512GB SSD/Windows 10/Nvidia MX350 2GB Graphics/Grey/1.35Kg)(Without Webcam) XMA1904-AF',\n",
       " 'Lenovo Yoga 7i 11th Gen Intel Core i7-1165G7 14 inches FHD IPS 2-in-1 Touchscreen Business Laptop (16GB/512GB SSD/Windows 10/MS Office/Digital Pen/Fingerprint Reader/Slate Grey/1.43Kg), 82BH004HIN',\n",
       " 'HP Pavilion (2021) Intel 11th Gen Core i7 14 inches FHD Screen Thin & Light Laptop, 16 GB RAM, 1TB SSD, Iris Xe Graphics, Windows 10, MS Office, Backlit Keyboard, 1.41kg (14-dv0058TU)',\n",
       " 'Acer Nitro 5 11th Gen Intel Core i7-11800H 15.6\" (39.62cms) Full HD Gaming Laptop (16 GB/256GB SSD/1 TB HDD/Win 10/RTX 3050 Ti 4GB Graphics/144 Hz, Black, 2.4 kg/RGB Backlit Keyboard) AN515-57',\n",
       " 'Lenovo ThinkBook 15 Intel 11th Gen Core i7 15.6\"(39.62 cm)FHD IPS 300 nits Antiglare 100% sRGB Thin & Light Laptop(16GB/1TB HDD+128GB SSD/Windows 10/MS Office/3 Yr Onsite Warranty/1.7 Kg) 20VEA0HBIH',\n",
       " 'Lenovo Legion 5 11th Gen Intel Core i7 15.6\"(39.62cm) FHD IPS Gaming Laptop (16GB/512GB SSD/NVIDIA RTX 3050 4GB/120Hz Refresh Rate/Windows 10/MS Office/Backlit Keyboard/Phantom Blue/2.4Kg), 82JK007WIN',\n",
       " 'Dell 14 (2021) i7-1195G7 2in1 Touch Screen Laptop, 16GB, 512GB SSD, Win 10 + MS Office, 14.0\" (35.56 cms) FHD Display, Backlit KB, FPR + Active Pen, Platinum Silver (Inspiron 5410, D560596WIN9S)',\n",
       " 'ASUS TUF Dash F15 (2021) 15.6-inch (39.62 cms) FHD 144Hz, Intel Core i7-11370H 11th Gen, RTX 3050 4GB Graphics, Gaming Laptop (16GB/512GB SSD/Windows 10/Gray/2 Kg), FX516PCZ-HN091T']"
      ]
     },
     "execution_count": 52,
     "metadata": {},
     "output_type": "execute_result"
    }
   ],
   "source": [
    "#scraping titles for laptops\n",
    "for i in title_tags:\n",
    "    titles=i.text\n",
    "    title.append(titles)\n",
    "title[0:10]"
   ]
  },
  {
   "cell_type": "code",
   "execution_count": 58,
   "id": "0587b20c",
   "metadata": {},
   "outputs": [
    {
     "name": "stderr",
     "output_type": "stream",
     "text": [
      "<ipython-input-58-1e3f4c652094>:3: DeprecationWarning: find_elements_by_* commands are deprecated. Please use find_elements() instead\n",
      "  title_tags=driver.find_elements_by_xpath(\"//div[@class='a-row a-size-small']/span[1]\")\n"
     ]
    },
    {
     "data": {
      "text/plain": [
       "[<selenium.webdriver.remote.webelement.WebElement (session=\"beadeaa8c85b030073c96951eceb0b38\", element=\"2fe74af0-767a-4ad5-915a-dba25de7e195\")>,\n",
       " <selenium.webdriver.remote.webelement.WebElement (session=\"beadeaa8c85b030073c96951eceb0b38\", element=\"3976af53-74e8-45f4-80d2-45316d15de27\")>,\n",
       " <selenium.webdriver.remote.webelement.WebElement (session=\"beadeaa8c85b030073c96951eceb0b38\", element=\"b1461114-850c-46c0-85c0-1c31adef121a\")>,\n",
       " <selenium.webdriver.remote.webelement.WebElement (session=\"beadeaa8c85b030073c96951eceb0b38\", element=\"33b8ceca-30ae-4a36-878e-747ccccedbe8\")>,\n",
       " <selenium.webdriver.remote.webelement.WebElement (session=\"beadeaa8c85b030073c96951eceb0b38\", element=\"d12dc199-334d-4df2-884d-235b6b3b190f\")>,\n",
       " <selenium.webdriver.remote.webelement.WebElement (session=\"beadeaa8c85b030073c96951eceb0b38\", element=\"49d8700c-9fc4-4802-8032-5083261aca22\")>,\n",
       " <selenium.webdriver.remote.webelement.WebElement (session=\"beadeaa8c85b030073c96951eceb0b38\", element=\"4b5d7ed5-9922-44c6-97f4-68b1c779e817\")>,\n",
       " <selenium.webdriver.remote.webelement.WebElement (session=\"beadeaa8c85b030073c96951eceb0b38\", element=\"c3c822bd-3ac6-4caf-940b-931a238db7ac\")>,\n",
       " <selenium.webdriver.remote.webelement.WebElement (session=\"beadeaa8c85b030073c96951eceb0b38\", element=\"2ee19061-a1d6-48d3-a580-d5e1d7129841\")>,\n",
       " <selenium.webdriver.remote.webelement.WebElement (session=\"beadeaa8c85b030073c96951eceb0b38\", element=\"384b6ffe-0d4c-4b34-b707-2512a9a7f888\")>]"
      ]
     },
     "execution_count": 58,
     "metadata": {},
     "output_type": "execute_result"
    }
   ],
   "source": [
    "#extracting  rating URL for laptop\n",
    "\n",
    "title_tags=driver.find_elements_by_xpath(\"//div[@class='a-row a-size-small']/span[1]\")\n",
    "title_tags[0:10]"
   ]
  },
  {
   "cell_type": "code",
   "execution_count": 59,
   "id": "285af061",
   "metadata": {},
   "outputs": [
    {
     "data": {
      "text/plain": [
       "['', '', '', '', '', '', '', '', '', '']"
      ]
     },
     "execution_count": 59,
     "metadata": {},
     "output_type": "execute_result"
    }
   ],
   "source": [
    "#scraping rating for laptops\n",
    "\n",
    "for i in title_tags:\n",
    "    titles=i.text\n",
    "    ratings.append(titles)\n",
    "ratings[0:10]"
   ]
  },
  {
   "cell_type": "code",
   "execution_count": 60,
   "id": "13da18df",
   "metadata": {},
   "outputs": [
    {
     "name": "stderr",
     "output_type": "stream",
     "text": [
      "<ipython-input-60-63416172100c>:3: DeprecationWarning: find_elements_by_* commands are deprecated. Please use find_elements() instead\n",
      "  title_tags=driver.find_elements_by_xpath(\"//span[@class='a-price-whole']\")\n"
     ]
    },
    {
     "data": {
      "text/plain": [
       "[<selenium.webdriver.remote.webelement.WebElement (session=\"beadeaa8c85b030073c96951eceb0b38\", element=\"3582a9d0-db6d-4089-b2eb-c1ac3a17b3c4\")>,\n",
       " <selenium.webdriver.remote.webelement.WebElement (session=\"beadeaa8c85b030073c96951eceb0b38\", element=\"36f3ba3e-2788-46f4-8162-5eb6ff1e5dd0\")>,\n",
       " <selenium.webdriver.remote.webelement.WebElement (session=\"beadeaa8c85b030073c96951eceb0b38\", element=\"fd3fe3fa-3013-483b-a305-63f52cd2f0dc\")>,\n",
       " <selenium.webdriver.remote.webelement.WebElement (session=\"beadeaa8c85b030073c96951eceb0b38\", element=\"341e60dd-cdcb-4058-86e3-6f14545eb2d2\")>,\n",
       " <selenium.webdriver.remote.webelement.WebElement (session=\"beadeaa8c85b030073c96951eceb0b38\", element=\"15832877-3ce6-4be9-ad27-eb03b0f6c067\")>,\n",
       " <selenium.webdriver.remote.webelement.WebElement (session=\"beadeaa8c85b030073c96951eceb0b38\", element=\"6af2c0d3-2da8-44df-89af-52f465434a04\")>,\n",
       " <selenium.webdriver.remote.webelement.WebElement (session=\"beadeaa8c85b030073c96951eceb0b38\", element=\"dbcd7e32-8a1e-4847-aa7b-a4dbbdbb6034\")>,\n",
       " <selenium.webdriver.remote.webelement.WebElement (session=\"beadeaa8c85b030073c96951eceb0b38\", element=\"2b2d9f4f-847e-4002-85ef-b79386e77689\")>,\n",
       " <selenium.webdriver.remote.webelement.WebElement (session=\"beadeaa8c85b030073c96951eceb0b38\", element=\"e9831561-867e-4854-9e2e-99f39d2085d0\")>,\n",
       " <selenium.webdriver.remote.webelement.WebElement (session=\"beadeaa8c85b030073c96951eceb0b38\", element=\"820d8f4c-1e08-489c-9bbe-9c994b10eef3\")>]"
      ]
     },
     "execution_count": 60,
     "metadata": {},
     "output_type": "execute_result"
    }
   ],
   "source": [
    "# extracting URL for laptop price\n",
    "\n",
    "title_tags=driver.find_elements_by_xpath(\"//span[@class='a-price-whole']\")\n",
    "title_tags[0:10]"
   ]
  },
  {
   "cell_type": "code",
   "execution_count": 61,
   "id": "0fe1f10c",
   "metadata": {},
   "outputs": [
    {
     "data": {
      "text/plain": [
       "['1,04,990',\n",
       " '96,990',\n",
       " '58,990',\n",
       " '1,16,999',\n",
       " '84,990',\n",
       " '85,990',\n",
       " '85,990',\n",
       " '1,04,990',\n",
       " '88,490',\n",
       " '93,990']"
      ]
     },
     "execution_count": 61,
     "metadata": {},
     "output_type": "execute_result"
    }
   ],
   "source": [
    "# scraping data for laptop price\n",
    "for i in title_tags:\n",
    "    titles=i.text\n",
    "    price.append(titles)\n",
    "price[0:10]"
   ]
  },
  {
   "cell_type": "markdown",
   "id": "36f76535",
   "metadata": {},
   "source": [
    "# 8.creating dataframe"
   ]
  },
  {
   "cell_type": "code",
   "execution_count": 62,
   "id": "ad909264",
   "metadata": {},
   "outputs": [
    {
     "data": {
      "text/html": [
       "<div>\n",
       "<style scoped>\n",
       "    .dataframe tbody tr th:only-of-type {\n",
       "        vertical-align: middle;\n",
       "    }\n",
       "\n",
       "    .dataframe tbody tr th {\n",
       "        vertical-align: top;\n",
       "    }\n",
       "\n",
       "    .dataframe thead th {\n",
       "        text-align: right;\n",
       "    }\n",
       "</style>\n",
       "<table border=\"1\" class=\"dataframe\">\n",
       "  <thead>\n",
       "    <tr style=\"text-align: right;\">\n",
       "      <th></th>\n",
       "      <th>brand</th>\n",
       "      <th>rating</th>\n",
       "      <th>price</th>\n",
       "    </tr>\n",
       "  </thead>\n",
       "  <tbody>\n",
       "    <tr>\n",
       "      <th>0</th>\n",
       "      <td>Lenovo Legion 5 11th Gen Intel Core i7 15.6\"(3...</td>\n",
       "      <td></td>\n",
       "      <td>1,04,990</td>\n",
       "    </tr>\n",
       "    <tr>\n",
       "      <th>1</th>\n",
       "      <td>ASUS ZenBook 13 OLED (2021) Intel Core i7-1165...</td>\n",
       "      <td></td>\n",
       "      <td>96,990</td>\n",
       "    </tr>\n",
       "    <tr>\n",
       "      <th>2</th>\n",
       "      <td>Mi Notebook Horizon Edition 14 Intel Core i7-1...</td>\n",
       "      <td></td>\n",
       "      <td>58,990</td>\n",
       "    </tr>\n",
       "    <tr>\n",
       "      <th>3</th>\n",
       "      <td>Lenovo Yoga 7i 11th Gen Intel Core i7-1165G7 1...</td>\n",
       "      <td></td>\n",
       "      <td>1,16,999</td>\n",
       "    </tr>\n",
       "    <tr>\n",
       "      <th>4</th>\n",
       "      <td>HP Pavilion (2021) Intel 11th Gen Core i7 14 i...</td>\n",
       "      <td></td>\n",
       "      <td>84,990</td>\n",
       "    </tr>\n",
       "    <tr>\n",
       "      <th>5</th>\n",
       "      <td>Acer Nitro 5 11th Gen Intel Core i7-11800H 15....</td>\n",
       "      <td></td>\n",
       "      <td>85,990</td>\n",
       "    </tr>\n",
       "    <tr>\n",
       "      <th>6</th>\n",
       "      <td>Lenovo ThinkBook 15 Intel 11th Gen Core i7 15....</td>\n",
       "      <td></td>\n",
       "      <td>85,990</td>\n",
       "    </tr>\n",
       "    <tr>\n",
       "      <th>7</th>\n",
       "      <td>Lenovo Legion 5 11th Gen Intel Core i7 15.6\"(3...</td>\n",
       "      <td></td>\n",
       "      <td>1,04,990</td>\n",
       "    </tr>\n",
       "    <tr>\n",
       "      <th>8</th>\n",
       "      <td>Dell 14 (2021) i7-1195G7 2in1 Touch Screen Lap...</td>\n",
       "      <td></td>\n",
       "      <td>88,490</td>\n",
       "    </tr>\n",
       "    <tr>\n",
       "      <th>9</th>\n",
       "      <td>ASUS TUF Dash F15 (2021) 15.6-inch (39.62 cms)...</td>\n",
       "      <td></td>\n",
       "      <td>93,990</td>\n",
       "    </tr>\n",
       "  </tbody>\n",
       "</table>\n",
       "</div>"
      ],
      "text/plain": [
       "                                               brand rating     price\n",
       "0  Lenovo Legion 5 11th Gen Intel Core i7 15.6\"(3...         1,04,990\n",
       "1  ASUS ZenBook 13 OLED (2021) Intel Core i7-1165...           96,990\n",
       "2  Mi Notebook Horizon Edition 14 Intel Core i7-1...           58,990\n",
       "3  Lenovo Yoga 7i 11th Gen Intel Core i7-1165G7 1...         1,16,999\n",
       "4  HP Pavilion (2021) Intel 11th Gen Core i7 14 i...           84,990\n",
       "5  Acer Nitro 5 11th Gen Intel Core i7-11800H 15....           85,990\n",
       "6  Lenovo ThinkBook 15 Intel 11th Gen Core i7 15....           85,990\n",
       "7  Lenovo Legion 5 11th Gen Intel Core i7 15.6\"(3...         1,04,990\n",
       "8  Dell 14 (2021) i7-1195G7 2in1 Touch Screen Lap...           88,490\n",
       "9  ASUS TUF Dash F15 (2021) 15.6-inch (39.62 cms)...           93,990"
      ]
     },
     "execution_count": 62,
     "metadata": {},
     "output_type": "execute_result"
    }
   ],
   "source": [
    "#creating data frame to summarize data\n",
    "jobs=pd.DataFrame({})\n",
    "jobs['brand']=title[0:10]\n",
    "jobs['rating']=ratings[0:10]\n",
    "jobs['price']=price[0:10]\n",
    "\n",
    "\n",
    "\n",
    "jobs"
   ]
  },
  {
   "cell_type": "code",
   "execution_count": 47,
   "id": "ae74fc0d",
   "metadata": {},
   "outputs": [],
   "source": [
    "#Q9.Write a python program to scrape data for first 10 job results for Data Scientist Designation in Noida location. You have to scrape company name, No. of days ago when job was posted, Rating of the company.\n",
    "driver.get(\"https://www.ambitionbox.com/\")\n",
    "url=\"https://www.ambitionbox.com/profile/data-scientist-jobs?location=Noida\"\n",
    "driver.get(url)#getting URL\n"
   ]
  },
  {
   "cell_type": "code",
   "execution_count": 106,
   "id": "aa6fac29",
   "metadata": {},
   "outputs": [],
   "source": [
    "#creating empty list\n",
    "company_name=[]\n",
    "no_of_days=[]\n",
    "rating=[]\n"
   ]
  },
  {
   "cell_type": "code",
   "execution_count": 107,
   "id": "c767a711",
   "metadata": {},
   "outputs": [
    {
     "name": "stderr",
     "output_type": "stream",
     "text": [
      "<ipython-input-107-c6a410dc5bc2>:1: DeprecationWarning: find_elements_by_* commands are deprecated. Please use find_elements() instead\n",
      "  title_tags=driver.find_elements_by_xpath(\"//span[@class='body-small-l']\")\n"
     ]
    },
    {
     "data": {
      "text/plain": [
       "[<selenium.webdriver.remote.webelement.WebElement (session=\"3ecbf8fc6cb50f5119a1539add2748be\", element=\"83640e2c-df63-41fc-8169-8bcdfbc2e216\")>,\n",
       " <selenium.webdriver.remote.webelement.WebElement (session=\"3ecbf8fc6cb50f5119a1539add2748be\", element=\"d4708c00-3115-4771-8365-a1c68bd0054d\")>,\n",
       " <selenium.webdriver.remote.webelement.WebElement (session=\"3ecbf8fc6cb50f5119a1539add2748be\", element=\"011783c4-3083-44f4-8fe3-5c01b9f6c362\")>,\n",
       " <selenium.webdriver.remote.webelement.WebElement (session=\"3ecbf8fc6cb50f5119a1539add2748be\", element=\"c9a1b5ca-408c-449a-b52a-3296e9e41fd7\")>,\n",
       " <selenium.webdriver.remote.webelement.WebElement (session=\"3ecbf8fc6cb50f5119a1539add2748be\", element=\"c20dc7e6-5cb3-429a-b83f-f3fbb3a67e90\")>,\n",
       " <selenium.webdriver.remote.webelement.WebElement (session=\"3ecbf8fc6cb50f5119a1539add2748be\", element=\"434bd98d-2035-4947-8c38-7f60de2b4801\")>,\n",
       " <selenium.webdriver.remote.webelement.WebElement (session=\"3ecbf8fc6cb50f5119a1539add2748be\", element=\"4d3c8aef-b174-4efb-9829-da5e34614a50\")>,\n",
       " <selenium.webdriver.remote.webelement.WebElement (session=\"3ecbf8fc6cb50f5119a1539add2748be\", element=\"89562936-ae6a-445a-ad2a-27144d9efae3\")>,\n",
       " <selenium.webdriver.remote.webelement.WebElement (session=\"3ecbf8fc6cb50f5119a1539add2748be\", element=\"80168a9f-6868-4ced-b39a-eb88818e5141\")>,\n",
       " <selenium.webdriver.remote.webelement.WebElement (session=\"3ecbf8fc6cb50f5119a1539add2748be\", element=\"6ffefd70-188c-4b5f-ac47-fefe89e902e4\")>]"
      ]
     },
     "execution_count": 107,
     "metadata": {},
     "output_type": "execute_result"
    }
   ],
   "source": [
    "#extrating no of days ago job posted URL\n",
    "title_tags=driver.find_elements_by_xpath(\"//span[@class='body-small-l']\")\n",
    "title_tags[0:10]"
   ]
  },
  {
   "cell_type": "code",
   "execution_count": 108,
   "id": "ad779ef8",
   "metadata": {},
   "outputs": [
    {
     "data": {
      "text/plain": [
       "['4d ago',\n",
       " 'via naukri.com',\n",
       " '25d ago',\n",
       " 'via naukri.com',\n",
       " '16d ago',\n",
       " 'via naukri.com',\n",
       " '16d ago',\n",
       " 'via naukri.com',\n",
       " '19hr ago',\n",
       " 'via iimjobs.com']"
      ]
     },
     "execution_count": 108,
     "metadata": {},
     "output_type": "execute_result"
    }
   ],
   "source": [
    "#scraping number of days ago job posted using for loop\n",
    "for i in title_tags:\n",
    "    titles=i.text\n",
    "    no_of_days.append(titles)\n",
    "no_of_days[0:10]"
   ]
  },
  {
   "cell_type": "code",
   "execution_count": 109,
   "id": "5c29e674",
   "metadata": {},
   "outputs": [
    {
     "name": "stderr",
     "output_type": "stream",
     "text": [
      "<ipython-input-109-59b8c4943248>:1: DeprecationWarning: find_elements_by_* commands are deprecated. Please use find_elements() instead\n",
      "  title_tags=driver.find_elements_by_xpath(\"//span[@class='body-small']\")\n"
     ]
    },
    {
     "data": {
      "text/plain": [
       "[<selenium.webdriver.remote.webelement.WebElement (session=\"3ecbf8fc6cb50f5119a1539add2748be\", element=\"933da906-adcb-4e38-ba80-fa802c18a1a4\")>,\n",
       " <selenium.webdriver.remote.webelement.WebElement (session=\"3ecbf8fc6cb50f5119a1539add2748be\", element=\"d714346f-c7fa-4b74-ae5a-959c261e7d2e\")>,\n",
       " <selenium.webdriver.remote.webelement.WebElement (session=\"3ecbf8fc6cb50f5119a1539add2748be\", element=\"ca279ee9-8be9-40ee-8a41-cd12cad25640\")>,\n",
       " <selenium.webdriver.remote.webelement.WebElement (session=\"3ecbf8fc6cb50f5119a1539add2748be\", element=\"c9317c2e-0d78-45ff-b716-e2b910c6482f\")>,\n",
       " <selenium.webdriver.remote.webelement.WebElement (session=\"3ecbf8fc6cb50f5119a1539add2748be\", element=\"5b7e4374-6d62-4918-bf6d-20b9a1e47b1d\")>,\n",
       " <selenium.webdriver.remote.webelement.WebElement (session=\"3ecbf8fc6cb50f5119a1539add2748be\", element=\"58ffc281-c804-4858-a07f-bc23c706944f\")>,\n",
       " <selenium.webdriver.remote.webelement.WebElement (session=\"3ecbf8fc6cb50f5119a1539add2748be\", element=\"122d675a-2df0-4e42-9018-aafa8ee76504\")>,\n",
       " <selenium.webdriver.remote.webelement.WebElement (session=\"3ecbf8fc6cb50f5119a1539add2748be\", element=\"3cdc6b22-ffd7-4150-b5e2-bd5db1152f46\")>,\n",
       " <selenium.webdriver.remote.webelement.WebElement (session=\"3ecbf8fc6cb50f5119a1539add2748be\", element=\"876b9a86-7898-40b0-9156-277544cfd11d\")>,\n",
       " <selenium.webdriver.remote.webelement.WebElement (session=\"3ecbf8fc6cb50f5119a1539add2748be\", element=\"bb960b3b-d3d5-49b0-99cf-67ca3093aa59\")>]"
      ]
     },
     "execution_count": 109,
     "metadata": {},
     "output_type": "execute_result"
    }
   ],
   "source": [
    "#extracting Rating URL\n",
    "title_tags=driver.find_elements_by_xpath(\"//span[@class='body-small']\")\n",
    "title_tags[0:10]"
   ]
  },
  {
   "cell_type": "code",
   "execution_count": 110,
   "id": "9a9cc45b",
   "metadata": {},
   "outputs": [
    {
     "data": {
      "text/plain": [
       "['4.1', '4.1', '4.1', '4.1', '3.9', '4.1', '3.9', '4.2', '3.3', '4.0']"
      ]
     },
     "execution_count": 110,
     "metadata": {},
     "output_type": "execute_result"
    }
   ],
   "source": [
    "# scraping rating\n",
    "for i in title_tags:\n",
    "    titles=i.text\n",
    "    rating.append(titles)\n",
    "rating[0:10]"
   ]
  },
  {
   "cell_type": "code",
   "execution_count": 111,
   "id": "ca15dfc6",
   "metadata": {},
   "outputs": [
    {
     "name": "stderr",
     "output_type": "stream",
     "text": [
      "<ipython-input-111-2297bf176823>:1: DeprecationWarning: find_elements_by_* commands are deprecated. Please use find_elements() instead\n",
      "  title_tags=driver.find_elements_by_xpath(\"//div[@class='company-info']/p\")\n"
     ]
    },
    {
     "data": {
      "text/plain": [
       "[<selenium.webdriver.remote.webelement.WebElement (session=\"3ecbf8fc6cb50f5119a1539add2748be\", element=\"90b482fb-0fdc-42ac-ad1c-b7ba958966e6\")>,\n",
       " <selenium.webdriver.remote.webelement.WebElement (session=\"3ecbf8fc6cb50f5119a1539add2748be\", element=\"9d2a2284-6825-47fb-8f53-acca21b0e883\")>,\n",
       " <selenium.webdriver.remote.webelement.WebElement (session=\"3ecbf8fc6cb50f5119a1539add2748be\", element=\"db018848-2689-4bc0-8aa4-9dfa2c0c13c2\")>,\n",
       " <selenium.webdriver.remote.webelement.WebElement (session=\"3ecbf8fc6cb50f5119a1539add2748be\", element=\"a2201f79-50d2-4116-9f99-00caca6f2207\")>,\n",
       " <selenium.webdriver.remote.webelement.WebElement (session=\"3ecbf8fc6cb50f5119a1539add2748be\", element=\"9799cc44-0e6f-45cc-a3ea-6b817f0a95a5\")>,\n",
       " <selenium.webdriver.remote.webelement.WebElement (session=\"3ecbf8fc6cb50f5119a1539add2748be\", element=\"19c52aa9-e42a-4cac-b9fd-d0cef96edeb6\")>,\n",
       " <selenium.webdriver.remote.webelement.WebElement (session=\"3ecbf8fc6cb50f5119a1539add2748be\", element=\"762c60c7-d035-4335-84a4-a75be7d5941d\")>,\n",
       " <selenium.webdriver.remote.webelement.WebElement (session=\"3ecbf8fc6cb50f5119a1539add2748be\", element=\"036f8374-5bbe-4c83-a5b8-860ca51e7f95\")>,\n",
       " <selenium.webdriver.remote.webelement.WebElement (session=\"3ecbf8fc6cb50f5119a1539add2748be\", element=\"bdb615f2-86b3-4f0f-afd7-a97777623e1f\")>,\n",
       " <selenium.webdriver.remote.webelement.WebElement (session=\"3ecbf8fc6cb50f5119a1539add2748be\", element=\"f99cf28f-56ed-4182-b290-7cc08f6679c3\")>]"
      ]
     },
     "execution_count": 111,
     "metadata": {},
     "output_type": "execute_result"
    }
   ],
   "source": [
    "#extracting URL for company name\n",
    "title_tags=driver.find_elements_by_xpath(\"//div[@class='company-info']/p\")\n",
    "title_tags[0:10]"
   ]
  },
  {
   "cell_type": "code",
   "execution_count": 112,
   "id": "db34dade",
   "metadata": {},
   "outputs": [
    {
     "data": {
      "text/plain": [
       "[' · ',\n",
       " 'Optum Global Solutions (India) Private Limited',\n",
       " 'Optum Global Solutions (India) Private Limited',\n",
       " 'Steria India Ltd',\n",
       " 'Steria India Ltd',\n",
       " 'GI Group',\n",
       " 'IBM India Pvt. Limited',\n",
       " 'GI Group',\n",
       " 'MoMagic Technologies Pvt. Ltd.',\n",
       " 'Evalueserve.com Pvt. Ltd']"
      ]
     },
     "execution_count": 112,
     "metadata": {},
     "output_type": "execute_result"
    }
   ],
   "source": [
    "#using for loop scraping company name\n",
    "for i in title_tags:\n",
    "    titles=i.text\n",
    "    company_name.append(titles)\n",
    "company_name[0:10]"
   ]
  },
  {
   "cell_type": "markdown",
   "id": "2e542992",
   "metadata": {},
   "source": [
    "# 9.creating dataframe"
   ]
  },
  {
   "cell_type": "code",
   "execution_count": 113,
   "id": "a93ed8ad",
   "metadata": {},
   "outputs": [
    {
     "data": {
      "text/html": [
       "<div>\n",
       "<style scoped>\n",
       "    .dataframe tbody tr th:only-of-type {\n",
       "        vertical-align: middle;\n",
       "    }\n",
       "\n",
       "    .dataframe tbody tr th {\n",
       "        vertical-align: top;\n",
       "    }\n",
       "\n",
       "    .dataframe thead th {\n",
       "        text-align: right;\n",
       "    }\n",
       "</style>\n",
       "<table border=\"1\" class=\"dataframe\">\n",
       "  <thead>\n",
       "    <tr style=\"text-align: right;\">\n",
       "      <th></th>\n",
       "      <th>companyName</th>\n",
       "      <th>rating</th>\n",
       "      <th>No of days old</th>\n",
       "    </tr>\n",
       "  </thead>\n",
       "  <tbody>\n",
       "    <tr>\n",
       "      <th>0</th>\n",
       "      <td>·</td>\n",
       "      <td>4.1</td>\n",
       "      <td>4d ago</td>\n",
       "    </tr>\n",
       "    <tr>\n",
       "      <th>1</th>\n",
       "      <td>Optum Global Solutions (India) Private Limited</td>\n",
       "      <td>4.1</td>\n",
       "      <td>via naukri.com</td>\n",
       "    </tr>\n",
       "    <tr>\n",
       "      <th>2</th>\n",
       "      <td>Optum Global Solutions (India) Private Limited</td>\n",
       "      <td>4.1</td>\n",
       "      <td>25d ago</td>\n",
       "    </tr>\n",
       "    <tr>\n",
       "      <th>3</th>\n",
       "      <td>Steria India Ltd</td>\n",
       "      <td>4.1</td>\n",
       "      <td>via naukri.com</td>\n",
       "    </tr>\n",
       "    <tr>\n",
       "      <th>4</th>\n",
       "      <td>Steria India Ltd</td>\n",
       "      <td>3.9</td>\n",
       "      <td>16d ago</td>\n",
       "    </tr>\n",
       "    <tr>\n",
       "      <th>5</th>\n",
       "      <td>GI Group</td>\n",
       "      <td>4.1</td>\n",
       "      <td>via naukri.com</td>\n",
       "    </tr>\n",
       "    <tr>\n",
       "      <th>6</th>\n",
       "      <td>IBM India Pvt. Limited</td>\n",
       "      <td>3.9</td>\n",
       "      <td>16d ago</td>\n",
       "    </tr>\n",
       "    <tr>\n",
       "      <th>7</th>\n",
       "      <td>GI Group</td>\n",
       "      <td>4.2</td>\n",
       "      <td>via naukri.com</td>\n",
       "    </tr>\n",
       "    <tr>\n",
       "      <th>8</th>\n",
       "      <td>MoMagic Technologies Pvt. Ltd.</td>\n",
       "      <td>3.3</td>\n",
       "      <td>19hr ago</td>\n",
       "    </tr>\n",
       "    <tr>\n",
       "      <th>9</th>\n",
       "      <td>Evalueserve.com Pvt. Ltd</td>\n",
       "      <td>4.0</td>\n",
       "      <td>via iimjobs.com</td>\n",
       "    </tr>\n",
       "  </tbody>\n",
       "</table>\n",
       "</div>"
      ],
      "text/plain": [
       "                                      companyName rating   No of days old\n",
       "0                                              ·     4.1           4d ago\n",
       "1  Optum Global Solutions (India) Private Limited    4.1   via naukri.com\n",
       "2  Optum Global Solutions (India) Private Limited    4.1          25d ago\n",
       "3                                Steria India Ltd    4.1   via naukri.com\n",
       "4                                Steria India Ltd    3.9          16d ago\n",
       "5                                        GI Group    4.1   via naukri.com\n",
       "6                          IBM India Pvt. Limited    3.9          16d ago\n",
       "7                                        GI Group    4.2   via naukri.com\n",
       "8                  MoMagic Technologies Pvt. Ltd.    3.3         19hr ago\n",
       "9                        Evalueserve.com Pvt. Ltd    4.0  via iimjobs.com"
      ]
     },
     "execution_count": 113,
     "metadata": {},
     "output_type": "execute_result"
    }
   ],
   "source": [
    "#creating data frame\n",
    "\n",
    "jobs=pd.DataFrame({})\n",
    "jobs['companyName']=company_name[0:10]\n",
    "jobs['rating']=rating[0:10]\n",
    "jobs['No of days old']=no_of_days[0:10]\n",
    "\n",
    "\n",
    "\n",
    "jobs"
   ]
  },
  {
   "cell_type": "code",
   "execution_count": 275,
   "id": "cfaad617",
   "metadata": {},
   "outputs": [],
   "source": [
    "#Q10.Write a python program to scrape the salary data for Data Scientist designation.\n",
    "#You have to scrape Company name, Number of salaries, Average salary, Minsalary, Max Salary.\n",
    "driver.get(\"https://www.ambitionbox.com/\")\n",
    "url=\"https://www.ambitionbox.com/salaries\"\n",
    "driver.get(url)\n"
   ]
  },
  {
   "cell_type": "code",
   "execution_count": 276,
   "id": "d97058fe",
   "metadata": {},
   "outputs": [],
   "source": [
    "#creating all empty list\n",
    "name=[]\n",
    "tsalaryrecord=[]\n",
    "avg_salary=[]\n",
    "max_salary=[]\n",
    "min_salary=[]\n",
    "exp=[]\n"
   ]
  },
  {
   "cell_type": "code",
   "execution_count": 277,
   "id": "d745b8cd",
   "metadata": {},
   "outputs": [
    {
     "name": "stderr",
     "output_type": "stream",
     "text": [
      "<ipython-input-277-35a1eb3bbf54>:1: DeprecationWarning: find_elements_by_* commands are deprecated. Please use find_elements() instead\n",
      "  title_tags=driver.find_elements_by_xpath(\"//div[@class='name']/a\")\n"
     ]
    },
    {
     "data": {
      "text/plain": [
       "[<selenium.webdriver.remote.webelement.WebElement (session=\"1f2e496fbb0556dacc20f784973d7aff\", element=\"d0bac125-6db2-49bb-8054-8fe483af91e4\")>,\n",
       " <selenium.webdriver.remote.webelement.WebElement (session=\"1f2e496fbb0556dacc20f784973d7aff\", element=\"97f15bef-a144-4fc0-8bdf-a6a9541b9014\")>,\n",
       " <selenium.webdriver.remote.webelement.WebElement (session=\"1f2e496fbb0556dacc20f784973d7aff\", element=\"c000be68-a667-4d9a-8032-256c5216f411\")>,\n",
       " <selenium.webdriver.remote.webelement.WebElement (session=\"1f2e496fbb0556dacc20f784973d7aff\", element=\"bb629ab9-fb08-4ca8-a07d-6a9ef561c420\")>,\n",
       " <selenium.webdriver.remote.webelement.WebElement (session=\"1f2e496fbb0556dacc20f784973d7aff\", element=\"ccc2c8d1-17e0-4571-8bab-8134696045b8\")>,\n",
       " <selenium.webdriver.remote.webelement.WebElement (session=\"1f2e496fbb0556dacc20f784973d7aff\", element=\"0a53cdb1-4ea4-46cb-85d7-84f8417e6316\")>,\n",
       " <selenium.webdriver.remote.webelement.WebElement (session=\"1f2e496fbb0556dacc20f784973d7aff\", element=\"f5a194e7-71be-43f0-9281-79bc2eb09fdc\")>,\n",
       " <selenium.webdriver.remote.webelement.WebElement (session=\"1f2e496fbb0556dacc20f784973d7aff\", element=\"bcdd178a-0ddf-47ca-94b5-96894ac1bdea\")>,\n",
       " <selenium.webdriver.remote.webelement.WebElement (session=\"1f2e496fbb0556dacc20f784973d7aff\", element=\"7510493f-cbe9-466b-97ee-504acda0ec36\")>,\n",
       " <selenium.webdriver.remote.webelement.WebElement (session=\"1f2e496fbb0556dacc20f784973d7aff\", element=\"7ed25bc1-831d-4952-adbe-b1658e6bc240\")>]"
      ]
     },
     "execution_count": 277,
     "metadata": {},
     "output_type": "execute_result"
    }
   ],
   "source": [
    "#extracting URL for company name\n",
    "title_tags=driver.find_elements_by_xpath(\"//div[@class='name']/a\")\n",
    "title_tags[0:10]"
   ]
  },
  {
   "cell_type": "code",
   "execution_count": 278,
   "id": "6d748ebe",
   "metadata": {},
   "outputs": [
    {
     "data": {
      "text/plain": [
       "['Microsoft Corporation',\n",
       " 'Goldman Sachs',\n",
       " 'Flipkart',\n",
       " 'Amazon',\n",
       " 'Servicenow Software Development India',\n",
       " 'ServiceNow',\n",
       " 'Walmart',\n",
       " 'Arcesium',\n",
       " 'PayPal',\n",
       " 'Visa']"
      ]
     },
     "execution_count": 278,
     "metadata": {},
     "output_type": "execute_result"
    }
   ],
   "source": [
    "# first 10 company names scraped using for loop\n",
    "for i in title_tags:\n",
    "    titles=i.text\n",
    "    name.append(titles)\n",
    "name[0:10]"
   ]
  },
  {
   "cell_type": "code",
   "execution_count": 279,
   "id": "2bf54c5f",
   "metadata": {},
   "outputs": [
    {
     "name": "stderr",
     "output_type": "stream",
     "text": [
      "<ipython-input-279-cffada1d0439>:1: DeprecationWarning: find_elements_by_* commands are deprecated. Please use find_elements() instead\n",
      "  title_tags=driver.find_elements_by_xpath(\"//div[@class='name']/span\")\n"
     ]
    },
    {
     "data": {
      "text/plain": [
       "[<selenium.webdriver.remote.webelement.WebElement (session=\"1f2e496fbb0556dacc20f784973d7aff\", element=\"77fbae2f-6318-4845-bee9-90289d01db37\")>,\n",
       " <selenium.webdriver.remote.webelement.WebElement (session=\"1f2e496fbb0556dacc20f784973d7aff\", element=\"26d7681b-d7ac-4b44-96d4-002c1111e84a\")>,\n",
       " <selenium.webdriver.remote.webelement.WebElement (session=\"1f2e496fbb0556dacc20f784973d7aff\", element=\"aca105df-16e7-4409-9303-7618a3d83008\")>,\n",
       " <selenium.webdriver.remote.webelement.WebElement (session=\"1f2e496fbb0556dacc20f784973d7aff\", element=\"7c121a9e-9d85-4785-82ca-e01c71f0f666\")>,\n",
       " <selenium.webdriver.remote.webelement.WebElement (session=\"1f2e496fbb0556dacc20f784973d7aff\", element=\"280d700c-f6af-400f-bd33-01395f880453\")>,\n",
       " <selenium.webdriver.remote.webelement.WebElement (session=\"1f2e496fbb0556dacc20f784973d7aff\", element=\"ec1d6256-11e6-43c4-855e-377fcdf859c2\")>,\n",
       " <selenium.webdriver.remote.webelement.WebElement (session=\"1f2e496fbb0556dacc20f784973d7aff\", element=\"5b2a8b2c-76a5-4872-bd5d-80c0f210acba\")>,\n",
       " <selenium.webdriver.remote.webelement.WebElement (session=\"1f2e496fbb0556dacc20f784973d7aff\", element=\"520c1471-5894-433e-9884-3b1f9a99f073\")>,\n",
       " <selenium.webdriver.remote.webelement.WebElement (session=\"1f2e496fbb0556dacc20f784973d7aff\", element=\"14c1e6b0-a830-456e-86f4-337db0ac0d0f\")>,\n",
       " <selenium.webdriver.remote.webelement.WebElement (session=\"1f2e496fbb0556dacc20f784973d7aff\", element=\"2dc10e53-7181-469b-a935-ae2709343d4c\")>]"
      ]
     },
     "execution_count": 279,
     "metadata": {},
     "output_type": "execute_result"
    }
   ],
   "source": [
    "#extracting salary record for each company\n",
    "title_tags=driver.find_elements_by_xpath(\"//div[@class='name']/span\")\n",
    "title_tags[0:10]"
   ]
  },
  {
   "cell_type": "code",
   "execution_count": 280,
   "id": "571a12cb",
   "metadata": {},
   "outputs": [
    {
     "data": {
      "text/plain": [
       "['based on 209 salaries',\n",
       " 'based on 10 salaries',\n",
       " 'based on 51 salaries',\n",
       " 'based on 75 salaries',\n",
       " 'based on 25 salaries',\n",
       " 'based on 15 salaries',\n",
       " 'based on 70 salaries',\n",
       " 'based on 54 salaries',\n",
       " 'based on 12 salaries',\n",
       " 'based on 26 salaries']"
      ]
     },
     "execution_count": 280,
     "metadata": {},
     "output_type": "execute_result"
    }
   ],
   "source": [
    "#scrapping details of total salary record\n",
    "for i in title_tags:\n",
    "    titles=i.text\n",
    "    tsalaryrecord.append(titles)\n",
    "tsalaryrecord[0:10]"
   ]
  },
  {
   "cell_type": "code",
   "execution_count": 281,
   "id": "0d75bf2b",
   "metadata": {},
   "outputs": [
    {
     "name": "stderr",
     "output_type": "stream",
     "text": [
      "<ipython-input-281-d5fc52a5467d>:1: DeprecationWarning: find_elements_by_* commands are deprecated. Please use find_elements() instead\n",
      "  title_tags=driver.find_elements_by_xpath(\"//div[@class='salary-values']/div[1]\")\n"
     ]
    },
    {
     "data": {
      "text/plain": [
       "[<selenium.webdriver.remote.webelement.WebElement (session=\"1f2e496fbb0556dacc20f784973d7aff\", element=\"c1061d92-d87d-4fcf-931e-4a1e69e145d0\")>,\n",
       " <selenium.webdriver.remote.webelement.WebElement (session=\"1f2e496fbb0556dacc20f784973d7aff\", element=\"e08a8440-32ab-4c45-8fc2-c1cc3b632f3b\")>,\n",
       " <selenium.webdriver.remote.webelement.WebElement (session=\"1f2e496fbb0556dacc20f784973d7aff\", element=\"6f26ee00-9931-4ed2-856b-9503953900a9\")>,\n",
       " <selenium.webdriver.remote.webelement.WebElement (session=\"1f2e496fbb0556dacc20f784973d7aff\", element=\"c62667ef-7405-44ef-9bcc-be8d2ba1f7ba\")>,\n",
       " <selenium.webdriver.remote.webelement.WebElement (session=\"1f2e496fbb0556dacc20f784973d7aff\", element=\"5f2d1dc4-65d1-4523-bd23-701cfa705849\")>,\n",
       " <selenium.webdriver.remote.webelement.WebElement (session=\"1f2e496fbb0556dacc20f784973d7aff\", element=\"e5b0b93f-4f1b-4e8a-87ad-1b1ab5d110f7\")>,\n",
       " <selenium.webdriver.remote.webelement.WebElement (session=\"1f2e496fbb0556dacc20f784973d7aff\", element=\"79a35e19-476c-4f01-9ba9-d155a75c2886\")>,\n",
       " <selenium.webdriver.remote.webelement.WebElement (session=\"1f2e496fbb0556dacc20f784973d7aff\", element=\"a97c8821-3416-4be7-82fa-7765d26bb6eb\")>,\n",
       " <selenium.webdriver.remote.webelement.WebElement (session=\"1f2e496fbb0556dacc20f784973d7aff\", element=\"e3bcb6a1-80ae-46c7-b1b6-e69e76e5a69f\")>,\n",
       " <selenium.webdriver.remote.webelement.WebElement (session=\"1f2e496fbb0556dacc20f784973d7aff\", element=\"eb93899e-e075-430b-be15-c4049c4582ea\")>]"
      ]
     },
     "execution_count": 281,
     "metadata": {},
     "output_type": "execute_result"
    }
   ],
   "source": [
    "#extracting URL for min salary\n",
    "\n",
    "title_tags=driver.find_elements_by_xpath(\"//div[@class='salary-values']/div[1]\")\n",
    "title_tags[0:10]"
   ]
  },
  {
   "cell_type": "code",
   "execution_count": 282,
   "id": "d95ccedb",
   "metadata": {},
   "outputs": [
    {
     "data": {
      "text/plain": [
       "['₹ 12.0L',\n",
       " '₹ 16.0L',\n",
       " '₹ 7.0L',\n",
       " '₹ 8.0L',\n",
       " '₹ 13.0L',\n",
       " '₹ 11.2L',\n",
       " '₹ 10.0L',\n",
       " '₹ 12.0L',\n",
       " '₹ 12.0L',\n",
       " '₹ 13.0L']"
      ]
     },
     "execution_count": 282,
     "metadata": {},
     "output_type": "execute_result"
    }
   ],
   "source": [
    "#scraping min salary for each company\n",
    "\n",
    "for i in title_tags:\n",
    "    titles=i.text\n",
    "    min_salary.append(titles)\n",
    "min_salary[0:10]"
   ]
  },
  {
   "cell_type": "code",
   "execution_count": 283,
   "id": "0bf1cf78",
   "metadata": {},
   "outputs": [
    {
     "name": "stderr",
     "output_type": "stream",
     "text": [
      "<ipython-input-283-74e6d15e267c>:1: DeprecationWarning: find_elements_by_* commands are deprecated. Please use find_elements() instead\n",
      "  title_tags=driver.find_elements_by_xpath(\"//div[@class='salary-values']/div[2]\")\n"
     ]
    },
    {
     "data": {
      "text/plain": [
       "[<selenium.webdriver.remote.webelement.WebElement (session=\"1f2e496fbb0556dacc20f784973d7aff\", element=\"4678441b-b12a-4314-81f1-d015dc4ac47c\")>,\n",
       " <selenium.webdriver.remote.webelement.WebElement (session=\"1f2e496fbb0556dacc20f784973d7aff\", element=\"69b61c96-90fa-4ee1-b34b-c8ca42b92409\")>,\n",
       " <selenium.webdriver.remote.webelement.WebElement (session=\"1f2e496fbb0556dacc20f784973d7aff\", element=\"a41cb237-9135-4c24-8da2-cd0ea05834a2\")>,\n",
       " <selenium.webdriver.remote.webelement.WebElement (session=\"1f2e496fbb0556dacc20f784973d7aff\", element=\"c9b346fa-a1d4-4114-b391-c28cb2fcf491\")>,\n",
       " <selenium.webdriver.remote.webelement.WebElement (session=\"1f2e496fbb0556dacc20f784973d7aff\", element=\"0193cbff-1e05-46d8-b390-75112dc820ff\")>,\n",
       " <selenium.webdriver.remote.webelement.WebElement (session=\"1f2e496fbb0556dacc20f784973d7aff\", element=\"3c1a4e27-f581-4fd3-94b2-b0a60d0179ce\")>,\n",
       " <selenium.webdriver.remote.webelement.WebElement (session=\"1f2e496fbb0556dacc20f784973d7aff\", element=\"2b29e1a5-6e7b-4eae-ae92-c9fa2099e180\")>,\n",
       " <selenium.webdriver.remote.webelement.WebElement (session=\"1f2e496fbb0556dacc20f784973d7aff\", element=\"50370613-8335-4a4e-b07c-f0fc4dd2997e\")>,\n",
       " <selenium.webdriver.remote.webelement.WebElement (session=\"1f2e496fbb0556dacc20f784973d7aff\", element=\"719620cc-0065-414d-9313-960d7e683b1e\")>,\n",
       " <selenium.webdriver.remote.webelement.WebElement (session=\"1f2e496fbb0556dacc20f784973d7aff\", element=\"4bd3199b-eeb5-4e4b-a0c2-95a3e517a359\")>]"
      ]
     },
     "execution_count": 283,
     "metadata": {},
     "output_type": "execute_result"
    }
   ],
   "source": [
    "#extracting URL for max salary\n",
    "title_tags=driver.find_elements_by_xpath(\"//div[@class='salary-values']/div[2]\")\n",
    "title_tags[0:10]"
   ]
  },
  {
   "cell_type": "code",
   "execution_count": 284,
   "id": "b7dae889",
   "metadata": {},
   "outputs": [
    {
     "data": {
      "text/plain": [
       "['₹ 45.0L',\n",
       " '₹ 30.0L',\n",
       " '₹ 30.0L',\n",
       " '₹ 40.0L',\n",
       " '₹ 25.0L',\n",
       " '₹ 23.0L',\n",
       " '₹ 32.0L',\n",
       " '₹ 30.0L',\n",
       " '₹ 23.0L',\n",
       " '₹ 23.0L']"
      ]
     },
     "execution_count": 284,
     "metadata": {},
     "output_type": "execute_result"
    }
   ],
   "source": [
    "# scraping max salary for each company\n",
    "for i in title_tags:\n",
    "    titles=i.text\n",
    "    max_salary.append(titles)\n",
    "max_salary[0:10]"
   ]
  },
  {
   "cell_type": "code",
   "execution_count": 285,
   "id": "622a4954",
   "metadata": {},
   "outputs": [
    {
     "name": "stderr",
     "output_type": "stream",
     "text": [
      "<ipython-input-285-5ce805b8bae4>:1: DeprecationWarning: find_elements_by_* commands are deprecated. Please use find_elements() instead\n",
      "  title_tags=driver.find_elements_by_xpath(\"//p[@class='averageCtc']\")\n"
     ]
    },
    {
     "data": {
      "text/plain": [
       "[<selenium.webdriver.remote.webelement.WebElement (session=\"1f2e496fbb0556dacc20f784973d7aff\", element=\"9d162ba8-d89a-4b41-99cd-b561372f64e7\")>,\n",
       " <selenium.webdriver.remote.webelement.WebElement (session=\"1f2e496fbb0556dacc20f784973d7aff\", element=\"70cef2b3-6313-4478-8c4f-220356df7764\")>,\n",
       " <selenium.webdriver.remote.webelement.WebElement (session=\"1f2e496fbb0556dacc20f784973d7aff\", element=\"ea401162-dcbb-4020-a5c8-70351ae7cd16\")>,\n",
       " <selenium.webdriver.remote.webelement.WebElement (session=\"1f2e496fbb0556dacc20f784973d7aff\", element=\"83f142d7-0d5a-4c31-8a61-36e17545909c\")>,\n",
       " <selenium.webdriver.remote.webelement.WebElement (session=\"1f2e496fbb0556dacc20f784973d7aff\", element=\"5b9981d6-312c-42f0-9f15-eb433019ea68\")>,\n",
       " <selenium.webdriver.remote.webelement.WebElement (session=\"1f2e496fbb0556dacc20f784973d7aff\", element=\"712464e9-f139-4f7c-9470-6f07a0ccc2a8\")>,\n",
       " <selenium.webdriver.remote.webelement.WebElement (session=\"1f2e496fbb0556dacc20f784973d7aff\", element=\"98052a11-a562-4e43-9595-9971c3c9bf68\")>,\n",
       " <selenium.webdriver.remote.webelement.WebElement (session=\"1f2e496fbb0556dacc20f784973d7aff\", element=\"559cc4ff-96ba-459d-ae20-df2bf876b66a\")>,\n",
       " <selenium.webdriver.remote.webelement.WebElement (session=\"1f2e496fbb0556dacc20f784973d7aff\", element=\"875434e1-d4f6-439c-9c7c-a18089a78a87\")>,\n",
       " <selenium.webdriver.remote.webelement.WebElement (session=\"1f2e496fbb0556dacc20f784973d7aff\", element=\"8b22e7a0-56ba-4895-9425-74fd1f4fe771\")>]"
      ]
     },
     "execution_count": 285,
     "metadata": {},
     "output_type": "execute_result"
    }
   ],
   "source": [
    "# extracting avg salary for each company\n",
    "title_tags=driver.find_elements_by_xpath(\"//p[@class='averageCtc']\")\n",
    "title_tags[0:10]"
   ]
  },
  {
   "cell_type": "code",
   "execution_count": 286,
   "id": "669656a6",
   "metadata": {},
   "outputs": [
    {
     "data": {
      "text/plain": [
       "['₹ 22.4L',\n",
       " '₹ 21.2L',\n",
       " '₹ 20.8L',\n",
       " '₹ 19.2L',\n",
       " '₹ 18.2L',\n",
       " '₹ 18.0L',\n",
       " '₹ 17.9L',\n",
       " '₹ 17.7L',\n",
       " '₹ 17.6L',\n",
       " '₹ 17.1L']"
      ]
     },
     "execution_count": 286,
     "metadata": {},
     "output_type": "execute_result"
    }
   ],
   "source": [
    "#scraping avg salary corroespond to each company\n",
    "for i in title_tags:\n",
    "    titles=i.text\n",
    "    avg_salary.append(titles)\n",
    "avg_salary[0:10]"
   ]
  },
  {
   "cell_type": "code",
   "execution_count": 293,
   "id": "831fb19d",
   "metadata": {},
   "outputs": [
    {
     "name": "stderr",
     "output_type": "stream",
     "text": [
      "<ipython-input-293-4b8da008de6b>:1: DeprecationWarning: find_elements_by_* commands are deprecated. Please use find_elements() instead\n",
      "  title_tags=driver.find_elements_by_xpath(\"//div[@class='salaries sbold-list-header']\")\n"
     ]
    },
    {
     "data": {
      "text/plain": [
       "[<selenium.webdriver.remote.webelement.WebElement (session=\"1f2e496fbb0556dacc20f784973d7aff\", element=\"9bdd59aa-8dc9-4a9c-94d8-022abc3be187\")>,\n",
       " <selenium.webdriver.remote.webelement.WebElement (session=\"1f2e496fbb0556dacc20f784973d7aff\", element=\"902496f5-1a1f-4189-ad82-267ba8d4dce5\")>,\n",
       " <selenium.webdriver.remote.webelement.WebElement (session=\"1f2e496fbb0556dacc20f784973d7aff\", element=\"730856e4-06fd-45ce-8940-ef71c26d8375\")>,\n",
       " <selenium.webdriver.remote.webelement.WebElement (session=\"1f2e496fbb0556dacc20f784973d7aff\", element=\"e0361d12-eca6-48cf-9a71-8a50d92f934d\")>,\n",
       " <selenium.webdriver.remote.webelement.WebElement (session=\"1f2e496fbb0556dacc20f784973d7aff\", element=\"149b97f3-88ef-430c-aa2f-e899fcdd36c3\")>,\n",
       " <selenium.webdriver.remote.webelement.WebElement (session=\"1f2e496fbb0556dacc20f784973d7aff\", element=\"cf67a1a3-a02a-44df-ba4d-44b571b498a8\")>,\n",
       " <selenium.webdriver.remote.webelement.WebElement (session=\"1f2e496fbb0556dacc20f784973d7aff\", element=\"7ebd0e78-b6c5-4f66-b286-877d4bcd11e1\")>,\n",
       " <selenium.webdriver.remote.webelement.WebElement (session=\"1f2e496fbb0556dacc20f784973d7aff\", element=\"36ffc5bb-b491-4af7-b3c7-997e46bff602\")>,\n",
       " <selenium.webdriver.remote.webelement.WebElement (session=\"1f2e496fbb0556dacc20f784973d7aff\", element=\"dae02dfd-13e0-4696-9c72-289b7c409bdd\")>,\n",
       " <selenium.webdriver.remote.webelement.WebElement (session=\"1f2e496fbb0556dacc20f784973d7aff\", element=\"4cc16b4d-ded1-493e-8b4d-f19f964781b8\")>]"
      ]
     },
     "execution_count": 293,
     "metadata": {},
     "output_type": "execute_result"
    }
   ],
   "source": [
    "# extracting URL for total exp across each company required\n",
    "\n",
    "title_tags=driver.find_elements_by_xpath(\"//div[@class='salaries sbold-list-header']\")\n",
    "title_tags[0:10]"
   ]
  },
  {
   "cell_type": "code",
   "execution_count": 294,
   "id": "33bd6879",
   "metadata": {},
   "outputs": [
    {
     "data": {
      "text/plain": [
       "['Software Engineer\\n . \\n1-4 yrs exp',\n",
       " 'Software Engineer\\n . \\n2 yrs exp',\n",
       " 'Software Engineer\\n . \\n1-4 yrs exp',\n",
       " 'Software Engineer\\n . \\n1-4 yrs exp',\n",
       " 'Software Engineer\\n . \\n2-3 yrs exp',\n",
       " 'Software Engineer\\n . \\n3 yrs exp',\n",
       " 'Software Engineer\\n . \\n1-4 yrs exp',\n",
       " 'Software Engineer\\n . \\n1-2 yrs exp',\n",
       " 'Software Engineer\\n . \\n1 yr exp',\n",
       " 'Software Engineer\\n . \\n1-2 yrs exp']"
      ]
     },
     "execution_count": 294,
     "metadata": {},
     "output_type": "execute_result"
    }
   ],
   "source": [
    "# scraping total exp\n",
    "for i in title_tags:\n",
    "    titles=i.text\n",
    "    exp.append(titles)\n",
    "exp[0:10]"
   ]
  },
  {
   "cell_type": "markdown",
   "id": "ca6c77fa",
   "metadata": {},
   "source": [
    "# 10.creating dataframe"
   ]
  },
  {
   "cell_type": "code",
   "execution_count": 296,
   "id": "08efd042",
   "metadata": {},
   "outputs": [
    {
     "data": {
      "text/html": [
       "<div>\n",
       "<style scoped>\n",
       "    .dataframe tbody tr th:only-of-type {\n",
       "        vertical-align: middle;\n",
       "    }\n",
       "\n",
       "    .dataframe tbody tr th {\n",
       "        vertical-align: top;\n",
       "    }\n",
       "\n",
       "    .dataframe thead th {\n",
       "        text-align: right;\n",
       "    }\n",
       "</style>\n",
       "<table border=\"1\" class=\"dataframe\">\n",
       "  <thead>\n",
       "    <tr style=\"text-align: right;\">\n",
       "      <th></th>\n",
       "      <th>Name_of_company</th>\n",
       "      <th>Total_salary_record</th>\n",
       "      <th>Avg_salary</th>\n",
       "      <th>Min_salary</th>\n",
       "      <th>Max_salary</th>\n",
       "      <th>Total_exp</th>\n",
       "    </tr>\n",
       "  </thead>\n",
       "  <tbody>\n",
       "    <tr>\n",
       "      <th>0</th>\n",
       "      <td>Microsoft Corporation</td>\n",
       "      <td>based on 209 salaries</td>\n",
       "      <td>₹ 22.4L</td>\n",
       "      <td>₹ 12.0L</td>\n",
       "      <td>₹ 45.0L</td>\n",
       "      <td>Software Engineer\\n . \\n1-4 yrs exp</td>\n",
       "    </tr>\n",
       "    <tr>\n",
       "      <th>1</th>\n",
       "      <td>Goldman Sachs</td>\n",
       "      <td>based on 10 salaries</td>\n",
       "      <td>₹ 21.2L</td>\n",
       "      <td>₹ 16.0L</td>\n",
       "      <td>₹ 30.0L</td>\n",
       "      <td>Software Engineer\\n . \\n2 yrs exp</td>\n",
       "    </tr>\n",
       "    <tr>\n",
       "      <th>2</th>\n",
       "      <td>Flipkart</td>\n",
       "      <td>based on 51 salaries</td>\n",
       "      <td>₹ 20.8L</td>\n",
       "      <td>₹ 7.0L</td>\n",
       "      <td>₹ 30.0L</td>\n",
       "      <td>Software Engineer\\n . \\n1-4 yrs exp</td>\n",
       "    </tr>\n",
       "    <tr>\n",
       "      <th>3</th>\n",
       "      <td>Amazon</td>\n",
       "      <td>based on 75 salaries</td>\n",
       "      <td>₹ 19.2L</td>\n",
       "      <td>₹ 8.0L</td>\n",
       "      <td>₹ 40.0L</td>\n",
       "      <td>Software Engineer\\n . \\n1-4 yrs exp</td>\n",
       "    </tr>\n",
       "    <tr>\n",
       "      <th>4</th>\n",
       "      <td>Servicenow Software Development India</td>\n",
       "      <td>based on 25 salaries</td>\n",
       "      <td>₹ 18.2L</td>\n",
       "      <td>₹ 13.0L</td>\n",
       "      <td>₹ 25.0L</td>\n",
       "      <td>Software Engineer\\n . \\n2-3 yrs exp</td>\n",
       "    </tr>\n",
       "    <tr>\n",
       "      <th>5</th>\n",
       "      <td>ServiceNow</td>\n",
       "      <td>based on 15 salaries</td>\n",
       "      <td>₹ 18.0L</td>\n",
       "      <td>₹ 11.2L</td>\n",
       "      <td>₹ 23.0L</td>\n",
       "      <td>Software Engineer\\n . \\n3 yrs exp</td>\n",
       "    </tr>\n",
       "    <tr>\n",
       "      <th>6</th>\n",
       "      <td>Walmart</td>\n",
       "      <td>based on 70 salaries</td>\n",
       "      <td>₹ 17.9L</td>\n",
       "      <td>₹ 10.0L</td>\n",
       "      <td>₹ 32.0L</td>\n",
       "      <td>Software Engineer\\n . \\n1-4 yrs exp</td>\n",
       "    </tr>\n",
       "    <tr>\n",
       "      <th>7</th>\n",
       "      <td>Arcesium</td>\n",
       "      <td>based on 54 salaries</td>\n",
       "      <td>₹ 17.7L</td>\n",
       "      <td>₹ 12.0L</td>\n",
       "      <td>₹ 30.0L</td>\n",
       "      <td>Software Engineer\\n . \\n1-2 yrs exp</td>\n",
       "    </tr>\n",
       "    <tr>\n",
       "      <th>8</th>\n",
       "      <td>PayPal</td>\n",
       "      <td>based on 12 salaries</td>\n",
       "      <td>₹ 17.6L</td>\n",
       "      <td>₹ 12.0L</td>\n",
       "      <td>₹ 23.0L</td>\n",
       "      <td>Software Engineer\\n . \\n1 yr exp</td>\n",
       "    </tr>\n",
       "    <tr>\n",
       "      <th>9</th>\n",
       "      <td>Visa</td>\n",
       "      <td>based on 26 salaries</td>\n",
       "      <td>₹ 17.1L</td>\n",
       "      <td>₹ 13.0L</td>\n",
       "      <td>₹ 23.0L</td>\n",
       "      <td>Software Engineer\\n . \\n1-2 yrs exp</td>\n",
       "    </tr>\n",
       "  </tbody>\n",
       "</table>\n",
       "</div>"
      ],
      "text/plain": [
       "                         Name_of_company    Total_salary_record Avg_salary  \\\n",
       "0                  Microsoft Corporation  based on 209 salaries    ₹ 22.4L   \n",
       "1                          Goldman Sachs   based on 10 salaries    ₹ 21.2L   \n",
       "2                               Flipkart   based on 51 salaries    ₹ 20.8L   \n",
       "3                                 Amazon   based on 75 salaries    ₹ 19.2L   \n",
       "4  Servicenow Software Development India   based on 25 salaries    ₹ 18.2L   \n",
       "5                             ServiceNow   based on 15 salaries    ₹ 18.0L   \n",
       "6                                Walmart   based on 70 salaries    ₹ 17.9L   \n",
       "7                               Arcesium   based on 54 salaries    ₹ 17.7L   \n",
       "8                                 PayPal   based on 12 salaries    ₹ 17.6L   \n",
       "9                                   Visa   based on 26 salaries    ₹ 17.1L   \n",
       "\n",
       "  Min_salary Max_salary                            Total_exp  \n",
       "0    ₹ 12.0L    ₹ 45.0L  Software Engineer\\n . \\n1-4 yrs exp  \n",
       "1    ₹ 16.0L    ₹ 30.0L    Software Engineer\\n . \\n2 yrs exp  \n",
       "2     ₹ 7.0L    ₹ 30.0L  Software Engineer\\n . \\n1-4 yrs exp  \n",
       "3     ₹ 8.0L    ₹ 40.0L  Software Engineer\\n . \\n1-4 yrs exp  \n",
       "4    ₹ 13.0L    ₹ 25.0L  Software Engineer\\n . \\n2-3 yrs exp  \n",
       "5    ₹ 11.2L    ₹ 23.0L    Software Engineer\\n . \\n3 yrs exp  \n",
       "6    ₹ 10.0L    ₹ 32.0L  Software Engineer\\n . \\n1-4 yrs exp  \n",
       "7    ₹ 12.0L    ₹ 30.0L  Software Engineer\\n . \\n1-2 yrs exp  \n",
       "8    ₹ 12.0L    ₹ 23.0L     Software Engineer\\n . \\n1 yr exp  \n",
       "9    ₹ 13.0L    ₹ 23.0L  Software Engineer\\n . \\n1-2 yrs exp  "
      ]
     },
     "execution_count": 296,
     "metadata": {},
     "output_type": "execute_result"
    }
   ],
   "source": [
    "# creating data frame to summarize all data\n",
    "\n",
    "jobs=pd.DataFrame({})\n",
    "jobs['Name_of_company']=name[0:10]\n",
    "jobs['Total_salary_record']=tsalaryrecord[0:10]\n",
    "jobs['Avg_salary']=avg_salary[0:10]\n",
    "jobs['Min_salary']=min_salary[0:10]\n",
    "jobs['Max_salary']=max_salary[0:10]\n",
    "jobs['Total_exp']=exp[0:10]\n",
    "\n",
    "\n",
    "\n",
    "jobs"
   ]
  },
  {
   "cell_type": "code",
   "execution_count": null,
   "id": "0f958e73",
   "metadata": {},
   "outputs": [],
   "source": []
  }
 ],
 "metadata": {
  "kernelspec": {
   "display_name": "Python 3",
   "language": "python",
   "name": "python3"
  },
  "language_info": {
   "codemirror_mode": {
    "name": "ipython",
    "version": 3
   },
   "file_extension": ".py",
   "mimetype": "text/x-python",
   "name": "python",
   "nbconvert_exporter": "python",
   "pygments_lexer": "ipython3",
   "version": "3.8.8"
  }
 },
 "nbformat": 4,
 "nbformat_minor": 5
}
